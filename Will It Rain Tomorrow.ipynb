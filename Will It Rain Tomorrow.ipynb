{
 "cells": [
  {
   "cell_type": "markdown",
   "id": "1f2be092",
   "metadata": {},
   "source": [
    "# 1 Importação de biblioteca"
   ]
  },
  {
   "cell_type": "code",
   "execution_count": 1,
   "id": "c6f40354",
   "metadata": {
    "ExecuteTime": {
     "end_time": "2021-09-29T18:33:42.660520Z",
     "start_time": "2021-09-29T18:33:31.455931Z"
    }
   },
   "outputs": [],
   "source": [
    "import pandas as pd\n",
    "import matplotlib.pyplot as plt\n",
    "import seaborn as sns\n",
    "import numpy as np"
   ]
  },
  {
   "cell_type": "markdown",
   "id": "0249e9aa",
   "metadata": {},
   "source": [
    "# 2 Leitura de CSV"
   ]
  },
  {
   "cell_type": "code",
   "execution_count": 167,
   "id": "3c9cc662",
   "metadata": {
    "ExecuteTime": {
     "end_time": "2021-09-30T20:41:16.249580Z",
     "start_time": "2021-09-30T20:41:15.544455Z"
    }
   },
   "outputs": [],
   "source": [
    "rain=pd.read_csv('rain_data_aus.csv')\n",
    "wind1=pd.read_csv('wind_table_01.csv')\n",
    "wind2=pd.read_csv('wind_table_02.csv')\n",
    "wind3=pd.read_csv('wind_table_03.csv')\n",
    "wind4=pd.read_csv('wind_table_04.csv')\n",
    "wind5=pd.read_csv('wind_table_05.csv')\n",
    "wind6=pd.read_csv('wind_table_06.csv')\n",
    "wind7=pd.read_csv('wind_table_07.csv')\n",
    "rain8=pd.read_csv('wind_table_08.csv')"
   ]
  },
  {
   "cell_type": "code",
   "execution_count": 158,
   "id": "4d7f826c",
   "metadata": {
    "ExecuteTime": {
     "end_time": "2021-09-30T20:35:21.709447Z",
     "start_time": "2021-09-30T20:35:21.685511Z"
    }
   },
   "outputs": [],
   "source": []
  },
  {
   "cell_type": "code",
   "execution_count": 164,
   "id": "5616e4d3",
   "metadata": {
    "ExecuteTime": {
     "end_time": "2021-09-30T20:37:06.559004Z",
     "start_time": "2021-09-30T20:37:06.545033Z"
    }
   },
   "outputs": [
    {
     "data": {
      "text/plain": [
       "(142193, 23)"
      ]
     },
     "execution_count": 164,
     "metadata": {},
     "output_type": "execute_result"
    }
   ],
   "source": [
    "rain.shape"
   ]
  },
  {
   "cell_type": "code",
   "execution_count": 166,
   "id": "007ee85c",
   "metadata": {
    "ExecuteTime": {
     "end_time": "2021-09-30T20:39:50.456628Z",
     "start_time": "2021-09-30T20:39:50.170835Z"
    }
   },
   "outputs": [
    {
     "data": {
      "text/html": [
       "<div>\n",
       "<style scoped>\n",
       "    .dataframe tbody tr th:only-of-type {\n",
       "        vertical-align: middle;\n",
       "    }\n",
       "\n",
       "    .dataframe tbody tr th {\n",
       "        vertical-align: top;\n",
       "    }\n",
       "\n",
       "    .dataframe thead th {\n",
       "        text-align: right;\n",
       "    }\n",
       "</style>\n",
       "<table border=\"1\" class=\"dataframe\">\n",
       "  <thead>\n",
       "    <tr style=\"text-align: right;\">\n",
       "      <th></th>\n",
       "      <th>date</th>\n",
       "      <th>location</th>\n",
       "      <th>mintemp</th>\n",
       "      <th>maxtemp</th>\n",
       "      <th>rainfall</th>\n",
       "      <th>evaporation</th>\n",
       "      <th>sunshine</th>\n",
       "      <th>humidity9am</th>\n",
       "      <th>humidity3pm</th>\n",
       "      <th>pressure9am</th>\n",
       "      <th>...</th>\n",
       "      <th>wind_dir9am</th>\n",
       "      <th>wind_dir3pm</th>\n",
       "      <th>wind_speed9am</th>\n",
       "      <th>wind_speed3pm</th>\n",
       "      <th>windgustdir</th>\n",
       "      <th>windgustspeed</th>\n",
       "      <th>winddir9am</th>\n",
       "      <th>winddir3pm</th>\n",
       "      <th>windspeed9am</th>\n",
       "      <th>windspeed3pm</th>\n",
       "    </tr>\n",
       "  </thead>\n",
       "  <tbody>\n",
       "    <tr>\n",
       "      <th>0</th>\n",
       "      <td>2008-12-01</td>\n",
       "      <td>Albury</td>\n",
       "      <td>13.4</td>\n",
       "      <td>22.9</td>\n",
       "      <td>0.6</td>\n",
       "      <td>NaN</td>\n",
       "      <td>NaN</td>\n",
       "      <td>71.0</td>\n",
       "      <td>22.0</td>\n",
       "      <td>1007.7</td>\n",
       "      <td>...</td>\n",
       "      <td>NaN</td>\n",
       "      <td>NaN</td>\n",
       "      <td>NaN</td>\n",
       "      <td>NaN</td>\n",
       "      <td>NaN</td>\n",
       "      <td>NaN</td>\n",
       "      <td>NaN</td>\n",
       "      <td>NaN</td>\n",
       "      <td>NaN</td>\n",
       "      <td>NaN</td>\n",
       "    </tr>\n",
       "    <tr>\n",
       "      <th>1</th>\n",
       "      <td>2008-12-02</td>\n",
       "      <td>Albury</td>\n",
       "      <td>7.4</td>\n",
       "      <td>25.1</td>\n",
       "      <td>0.0</td>\n",
       "      <td>NaN</td>\n",
       "      <td>NaN</td>\n",
       "      <td>44.0</td>\n",
       "      <td>25.0</td>\n",
       "      <td>1010.6</td>\n",
       "      <td>...</td>\n",
       "      <td>NaN</td>\n",
       "      <td>NaN</td>\n",
       "      <td>NaN</td>\n",
       "      <td>NaN</td>\n",
       "      <td>NaN</td>\n",
       "      <td>NaN</td>\n",
       "      <td>NaN</td>\n",
       "      <td>NaN</td>\n",
       "      <td>NaN</td>\n",
       "      <td>NaN</td>\n",
       "    </tr>\n",
       "    <tr>\n",
       "      <th>2</th>\n",
       "      <td>2008-12-03</td>\n",
       "      <td>Albury</td>\n",
       "      <td>12.9</td>\n",
       "      <td>25.7</td>\n",
       "      <td>0.0</td>\n",
       "      <td>NaN</td>\n",
       "      <td>NaN</td>\n",
       "      <td>38.0</td>\n",
       "      <td>30.0</td>\n",
       "      <td>1007.6</td>\n",
       "      <td>...</td>\n",
       "      <td>NaN</td>\n",
       "      <td>NaN</td>\n",
       "      <td>NaN</td>\n",
       "      <td>NaN</td>\n",
       "      <td>NaN</td>\n",
       "      <td>NaN</td>\n",
       "      <td>NaN</td>\n",
       "      <td>NaN</td>\n",
       "      <td>NaN</td>\n",
       "      <td>NaN</td>\n",
       "    </tr>\n",
       "    <tr>\n",
       "      <th>3</th>\n",
       "      <td>2008-12-04</td>\n",
       "      <td>Albury</td>\n",
       "      <td>9.2</td>\n",
       "      <td>28.0</td>\n",
       "      <td>0.0</td>\n",
       "      <td>NaN</td>\n",
       "      <td>NaN</td>\n",
       "      <td>45.0</td>\n",
       "      <td>16.0</td>\n",
       "      <td>1017.6</td>\n",
       "      <td>...</td>\n",
       "      <td>NaN</td>\n",
       "      <td>NaN</td>\n",
       "      <td>NaN</td>\n",
       "      <td>NaN</td>\n",
       "      <td>NaN</td>\n",
       "      <td>NaN</td>\n",
       "      <td>NaN</td>\n",
       "      <td>NaN</td>\n",
       "      <td>NaN</td>\n",
       "      <td>NaN</td>\n",
       "    </tr>\n",
       "    <tr>\n",
       "      <th>4</th>\n",
       "      <td>2008-12-05</td>\n",
       "      <td>Albury</td>\n",
       "      <td>17.5</td>\n",
       "      <td>32.3</td>\n",
       "      <td>1.0</td>\n",
       "      <td>NaN</td>\n",
       "      <td>NaN</td>\n",
       "      <td>82.0</td>\n",
       "      <td>33.0</td>\n",
       "      <td>1010.8</td>\n",
       "      <td>...</td>\n",
       "      <td>NaN</td>\n",
       "      <td>NaN</td>\n",
       "      <td>NaN</td>\n",
       "      <td>NaN</td>\n",
       "      <td>NaN</td>\n",
       "      <td>NaN</td>\n",
       "      <td>NaN</td>\n",
       "      <td>NaN</td>\n",
       "      <td>NaN</td>\n",
       "      <td>NaN</td>\n",
       "    </tr>\n",
       "    <tr>\n",
       "      <th>...</th>\n",
       "      <td>...</td>\n",
       "      <td>...</td>\n",
       "      <td>...</td>\n",
       "      <td>...</td>\n",
       "      <td>...</td>\n",
       "      <td>...</td>\n",
       "      <td>...</td>\n",
       "      <td>...</td>\n",
       "      <td>...</td>\n",
       "      <td>...</td>\n",
       "      <td>...</td>\n",
       "      <td>...</td>\n",
       "      <td>...</td>\n",
       "      <td>...</td>\n",
       "      <td>...</td>\n",
       "      <td>...</td>\n",
       "      <td>...</td>\n",
       "      <td>...</td>\n",
       "      <td>...</td>\n",
       "      <td>...</td>\n",
       "      <td>...</td>\n",
       "    </tr>\n",
       "    <tr>\n",
       "      <th>22188</th>\n",
       "      <td>2017-06-25</td>\n",
       "      <td>Perth</td>\n",
       "      <td>NaN</td>\n",
       "      <td>NaN</td>\n",
       "      <td>NaN</td>\n",
       "      <td>NaN</td>\n",
       "      <td>NaN</td>\n",
       "      <td>NaN</td>\n",
       "      <td>NaN</td>\n",
       "      <td>NaN</td>\n",
       "      <td>...</td>\n",
       "      <td>NaN</td>\n",
       "      <td>NaN</td>\n",
       "      <td>NaN</td>\n",
       "      <td>NaN</td>\n",
       "      <td>E</td>\n",
       "      <td>26.0</td>\n",
       "      <td>SE</td>\n",
       "      <td>SE</td>\n",
       "      <td>4.0</td>\n",
       "      <td>11.0</td>\n",
       "    </tr>\n",
       "    <tr>\n",
       "      <th>22189</th>\n",
       "      <td>2017-06-25</td>\n",
       "      <td>SalmonGums</td>\n",
       "      <td>NaN</td>\n",
       "      <td>NaN</td>\n",
       "      <td>NaN</td>\n",
       "      <td>NaN</td>\n",
       "      <td>NaN</td>\n",
       "      <td>NaN</td>\n",
       "      <td>NaN</td>\n",
       "      <td>NaN</td>\n",
       "      <td>...</td>\n",
       "      <td>NaN</td>\n",
       "      <td>NaN</td>\n",
       "      <td>NaN</td>\n",
       "      <td>NaN</td>\n",
       "      <td>SE</td>\n",
       "      <td>15.0</td>\n",
       "      <td>SSE</td>\n",
       "      <td>E</td>\n",
       "      <td>7.0</td>\n",
       "      <td>6.0</td>\n",
       "    </tr>\n",
       "    <tr>\n",
       "      <th>22190</th>\n",
       "      <td>2017-06-25</td>\n",
       "      <td>Walpole</td>\n",
       "      <td>NaN</td>\n",
       "      <td>NaN</td>\n",
       "      <td>NaN</td>\n",
       "      <td>NaN</td>\n",
       "      <td>NaN</td>\n",
       "      <td>NaN</td>\n",
       "      <td>NaN</td>\n",
       "      <td>NaN</td>\n",
       "      <td>...</td>\n",
       "      <td>NaN</td>\n",
       "      <td>NaN</td>\n",
       "      <td>NaN</td>\n",
       "      <td>NaN</td>\n",
       "      <td>SSW</td>\n",
       "      <td>20.0</td>\n",
       "      <td>WNW</td>\n",
       "      <td>SSW</td>\n",
       "      <td>6.0</td>\n",
       "      <td>6.0</td>\n",
       "    </tr>\n",
       "    <tr>\n",
       "      <th>22191</th>\n",
       "      <td>2017-06-25</td>\n",
       "      <td>Hobart</td>\n",
       "      <td>NaN</td>\n",
       "      <td>NaN</td>\n",
       "      <td>NaN</td>\n",
       "      <td>NaN</td>\n",
       "      <td>NaN</td>\n",
       "      <td>NaN</td>\n",
       "      <td>NaN</td>\n",
       "      <td>NaN</td>\n",
       "      <td>...</td>\n",
       "      <td>NaN</td>\n",
       "      <td>NaN</td>\n",
       "      <td>NaN</td>\n",
       "      <td>NaN</td>\n",
       "      <td>NW</td>\n",
       "      <td>50.0</td>\n",
       "      <td>NNW</td>\n",
       "      <td>NNW</td>\n",
       "      <td>17.0</td>\n",
       "      <td>28.0</td>\n",
       "    </tr>\n",
       "    <tr>\n",
       "      <th>22192</th>\n",
       "      <td>2017-06-25</td>\n",
       "      <td>Launceston</td>\n",
       "      <td>NaN</td>\n",
       "      <td>NaN</td>\n",
       "      <td>NaN</td>\n",
       "      <td>NaN</td>\n",
       "      <td>NaN</td>\n",
       "      <td>NaN</td>\n",
       "      <td>NaN</td>\n",
       "      <td>NaN</td>\n",
       "      <td>...</td>\n",
       "      <td>NaN</td>\n",
       "      <td>NaN</td>\n",
       "      <td>NaN</td>\n",
       "      <td>NaN</td>\n",
       "      <td>NW</td>\n",
       "      <td>50.0</td>\n",
       "      <td>NNW</td>\n",
       "      <td>NNW</td>\n",
       "      <td>15.0</td>\n",
       "      <td>17.0</td>\n",
       "    </tr>\n",
       "  </tbody>\n",
       "</table>\n",
       "<p>286579 rows × 35 columns</p>\n",
       "</div>"
      ],
      "text/plain": [
       "             date    location  mintemp  maxtemp  rainfall  evaporation  \\\n",
       "0      2008-12-01      Albury     13.4     22.9       0.6          NaN   \n",
       "1      2008-12-02      Albury      7.4     25.1       0.0          NaN   \n",
       "2      2008-12-03      Albury     12.9     25.7       0.0          NaN   \n",
       "3      2008-12-04      Albury      9.2     28.0       0.0          NaN   \n",
       "4      2008-12-05      Albury     17.5     32.3       1.0          NaN   \n",
       "...           ...         ...      ...      ...       ...          ...   \n",
       "22188  2017-06-25       Perth      NaN      NaN       NaN          NaN   \n",
       "22189  2017-06-25  SalmonGums      NaN      NaN       NaN          NaN   \n",
       "22190  2017-06-25     Walpole      NaN      NaN       NaN          NaN   \n",
       "22191  2017-06-25      Hobart      NaN      NaN       NaN          NaN   \n",
       "22192  2017-06-25  Launceston      NaN      NaN       NaN          NaN   \n",
       "\n",
       "       sunshine  humidity9am  humidity3pm  pressure9am  ...  wind_dir9am  \\\n",
       "0           NaN         71.0         22.0       1007.7  ...          NaN   \n",
       "1           NaN         44.0         25.0       1010.6  ...          NaN   \n",
       "2           NaN         38.0         30.0       1007.6  ...          NaN   \n",
       "3           NaN         45.0         16.0       1017.6  ...          NaN   \n",
       "4           NaN         82.0         33.0       1010.8  ...          NaN   \n",
       "...         ...          ...          ...          ...  ...          ...   \n",
       "22188       NaN          NaN          NaN          NaN  ...          NaN   \n",
       "22189       NaN          NaN          NaN          NaN  ...          NaN   \n",
       "22190       NaN          NaN          NaN          NaN  ...          NaN   \n",
       "22191       NaN          NaN          NaN          NaN  ...          NaN   \n",
       "22192       NaN          NaN          NaN          NaN  ...          NaN   \n",
       "\n",
       "       wind_dir3pm  wind_speed9am  wind_speed3pm  windgustdir windgustspeed  \\\n",
       "0              NaN            NaN            NaN          NaN           NaN   \n",
       "1              NaN            NaN            NaN          NaN           NaN   \n",
       "2              NaN            NaN            NaN          NaN           NaN   \n",
       "3              NaN            NaN            NaN          NaN           NaN   \n",
       "4              NaN            NaN            NaN          NaN           NaN   \n",
       "...            ...            ...            ...          ...           ...   \n",
       "22188          NaN            NaN            NaN            E          26.0   \n",
       "22189          NaN            NaN            NaN           SE          15.0   \n",
       "22190          NaN            NaN            NaN          SSW          20.0   \n",
       "22191          NaN            NaN            NaN           NW          50.0   \n",
       "22192          NaN            NaN            NaN           NW          50.0   \n",
       "\n",
       "       winddir9am winddir3pm  windspeed9am  windspeed3pm  \n",
       "0             NaN        NaN           NaN           NaN  \n",
       "1             NaN        NaN           NaN           NaN  \n",
       "2             NaN        NaN           NaN           NaN  \n",
       "3             NaN        NaN           NaN           NaN  \n",
       "4             NaN        NaN           NaN           NaN  \n",
       "...           ...        ...           ...           ...  \n",
       "22188          SE         SE           4.0          11.0  \n",
       "22189         SSE          E           7.0           6.0  \n",
       "22190         WNW        SSW           6.0           6.0  \n",
       "22191         NNW        NNW          17.0          28.0  \n",
       "22192         NNW        NNW          15.0          17.0  \n",
       "\n",
       "[286579 rows x 35 columns]"
      ]
     },
     "execution_count": 166,
     "metadata": {},
     "output_type": "execute_result"
    }
   ],
   "source": [
    "pd.concat([rain, rain2, rain3, rain4, rain5, rain6, rain7, rain8])"
   ]
  },
  {
   "cell_type": "code",
   "execution_count": null,
   "id": "797af36d",
   "metadata": {},
   "outputs": [],
   "source": []
  },
  {
   "cell_type": "code",
   "execution_count": null,
   "id": "4d17109d",
   "metadata": {},
   "outputs": [],
   "source": []
  },
  {
   "cell_type": "code",
   "execution_count": null,
   "id": "dfa7e7fe",
   "metadata": {},
   "outputs": [],
   "source": []
  },
  {
   "cell_type": "markdown",
   "id": "1a1cf67d",
   "metadata": {},
   "source": [
    "# 3 Exploratory data analysis"
   ]
  },
  {
   "cell_type": "code",
   "execution_count": 3,
   "id": "1b4f5c7f",
   "metadata": {
    "ExecuteTime": {
     "end_time": "2021-09-29T18:33:43.176457Z",
     "start_time": "2021-09-29T18:33:43.068588Z"
    }
   },
   "outputs": [
    {
     "data": {
      "text/html": [
       "<div>\n",
       "<style scoped>\n",
       "    .dataframe tbody tr th:only-of-type {\n",
       "        vertical-align: middle;\n",
       "    }\n",
       "\n",
       "    .dataframe tbody tr th {\n",
       "        vertical-align: top;\n",
       "    }\n",
       "\n",
       "    .dataframe thead th {\n",
       "        text-align: right;\n",
       "    }\n",
       "</style>\n",
       "<table border=\"1\" class=\"dataframe\">\n",
       "  <thead>\n",
       "    <tr style=\"text-align: right;\">\n",
       "      <th></th>\n",
       "      <th>date</th>\n",
       "      <th>location</th>\n",
       "      <th>mintemp</th>\n",
       "      <th>maxtemp</th>\n",
       "      <th>rainfall</th>\n",
       "      <th>evaporation</th>\n",
       "      <th>sunshine</th>\n",
       "      <th>humidity9am</th>\n",
       "      <th>humidity3pm</th>\n",
       "      <th>pressure9am</th>\n",
       "      <th>...</th>\n",
       "      <th>temp9am</th>\n",
       "      <th>temp3pm</th>\n",
       "      <th>raintoday</th>\n",
       "      <th>amountOfRain</th>\n",
       "      <th>raintomorrow</th>\n",
       "      <th>temp</th>\n",
       "      <th>humidity</th>\n",
       "      <th>precipitation3pm</th>\n",
       "      <th>precipitation9am</th>\n",
       "      <th>modelo_vigente</th>\n",
       "    </tr>\n",
       "  </thead>\n",
       "  <tbody>\n",
       "    <tr>\n",
       "      <th>0</th>\n",
       "      <td>2008-12-01</td>\n",
       "      <td>Albury</td>\n",
       "      <td>13.4</td>\n",
       "      <td>22.9</td>\n",
       "      <td>0.6</td>\n",
       "      <td>NaN</td>\n",
       "      <td>NaN</td>\n",
       "      <td>71.0</td>\n",
       "      <td>22.0</td>\n",
       "      <td>1007.7</td>\n",
       "      <td>...</td>\n",
       "      <td>16.9</td>\n",
       "      <td>21.8</td>\n",
       "      <td>No</td>\n",
       "      <td>0.0</td>\n",
       "      <td>No</td>\n",
       "      <td>29.48</td>\n",
       "      <td>28.400000</td>\n",
       "      <td>12</td>\n",
       "      <td>5.115360</td>\n",
       "      <td>0.089825</td>\n",
       "    </tr>\n",
       "    <tr>\n",
       "      <th>1</th>\n",
       "      <td>2008-12-02</td>\n",
       "      <td>Albury</td>\n",
       "      <td>7.4</td>\n",
       "      <td>25.1</td>\n",
       "      <td>0.0</td>\n",
       "      <td>NaN</td>\n",
       "      <td>NaN</td>\n",
       "      <td>44.0</td>\n",
       "      <td>25.0</td>\n",
       "      <td>1010.6</td>\n",
       "      <td>...</td>\n",
       "      <td>17.2</td>\n",
       "      <td>24.3</td>\n",
       "      <td>No</td>\n",
       "      <td>0.0</td>\n",
       "      <td>No</td>\n",
       "      <td>32.12</td>\n",
       "      <td>2.208569</td>\n",
       "      <td>10</td>\n",
       "      <td>21.497100</td>\n",
       "      <td>0.023477</td>\n",
       "    </tr>\n",
       "    <tr>\n",
       "      <th>2</th>\n",
       "      <td>2008-12-03</td>\n",
       "      <td>Albury</td>\n",
       "      <td>12.9</td>\n",
       "      <td>25.7</td>\n",
       "      <td>0.0</td>\n",
       "      <td>NaN</td>\n",
       "      <td>NaN</td>\n",
       "      <td>38.0</td>\n",
       "      <td>30.0</td>\n",
       "      <td>1007.6</td>\n",
       "      <td>...</td>\n",
       "      <td>21.0</td>\n",
       "      <td>23.2</td>\n",
       "      <td>No</td>\n",
       "      <td>0.0</td>\n",
       "      <td>No</td>\n",
       "      <td>32.84</td>\n",
       "      <td>38.000000</td>\n",
       "      <td>17</td>\n",
       "      <td>20.782859</td>\n",
       "      <td>0.027580</td>\n",
       "    </tr>\n",
       "    <tr>\n",
       "      <th>3</th>\n",
       "      <td>2008-12-04</td>\n",
       "      <td>Albury</td>\n",
       "      <td>9.2</td>\n",
       "      <td>28.0</td>\n",
       "      <td>0.0</td>\n",
       "      <td>NaN</td>\n",
       "      <td>NaN</td>\n",
       "      <td>45.0</td>\n",
       "      <td>16.0</td>\n",
       "      <td>1017.6</td>\n",
       "      <td>...</td>\n",
       "      <td>18.1</td>\n",
       "      <td>26.5</td>\n",
       "      <td>No</td>\n",
       "      <td>1.0</td>\n",
       "      <td>No</td>\n",
       "      <td>35.60</td>\n",
       "      <td>21.200000</td>\n",
       "      <td>8</td>\n",
       "      <td>12.028646</td>\n",
       "      <td>0.023962</td>\n",
       "    </tr>\n",
       "    <tr>\n",
       "      <th>4</th>\n",
       "      <td>2008-12-05</td>\n",
       "      <td>Albury</td>\n",
       "      <td>17.5</td>\n",
       "      <td>32.3</td>\n",
       "      <td>1.0</td>\n",
       "      <td>NaN</td>\n",
       "      <td>NaN</td>\n",
       "      <td>82.0</td>\n",
       "      <td>33.0</td>\n",
       "      <td>1010.8</td>\n",
       "      <td>...</td>\n",
       "      <td>17.8</td>\n",
       "      <td>29.7</td>\n",
       "      <td>No</td>\n",
       "      <td>0.2</td>\n",
       "      <td>No</td>\n",
       "      <td>40.76</td>\n",
       "      <td>41.600000</td>\n",
       "      <td>9</td>\n",
       "      <td>11.883546</td>\n",
       "      <td>0.220164</td>\n",
       "    </tr>\n",
       "  </tbody>\n",
       "</table>\n",
       "<p>5 rows × 23 columns</p>\n",
       "</div>"
      ],
      "text/plain": [
       "         date location  mintemp  maxtemp  rainfall  evaporation  sunshine  \\\n",
       "0  2008-12-01   Albury     13.4     22.9       0.6          NaN       NaN   \n",
       "1  2008-12-02   Albury      7.4     25.1       0.0          NaN       NaN   \n",
       "2  2008-12-03   Albury     12.9     25.7       0.0          NaN       NaN   \n",
       "3  2008-12-04   Albury      9.2     28.0       0.0          NaN       NaN   \n",
       "4  2008-12-05   Albury     17.5     32.3       1.0          NaN       NaN   \n",
       "\n",
       "   humidity9am  humidity3pm  pressure9am  ...  temp9am  temp3pm  raintoday  \\\n",
       "0         71.0         22.0       1007.7  ...     16.9     21.8         No   \n",
       "1         44.0         25.0       1010.6  ...     17.2     24.3         No   \n",
       "2         38.0         30.0       1007.6  ...     21.0     23.2         No   \n",
       "3         45.0         16.0       1017.6  ...     18.1     26.5         No   \n",
       "4         82.0         33.0       1010.8  ...     17.8     29.7         No   \n",
       "\n",
       "   amountOfRain  raintomorrow   temp   humidity precipitation3pm  \\\n",
       "0           0.0            No  29.48  28.400000               12   \n",
       "1           0.0            No  32.12   2.208569               10   \n",
       "2           0.0            No  32.84  38.000000               17   \n",
       "3           1.0            No  35.60  21.200000                8   \n",
       "4           0.2            No  40.76  41.600000                9   \n",
       "\n",
       "   precipitation9am  modelo_vigente  \n",
       "0          5.115360        0.089825  \n",
       "1         21.497100        0.023477  \n",
       "2         20.782859        0.027580  \n",
       "3         12.028646        0.023962  \n",
       "4         11.883546        0.220164  \n",
       "\n",
       "[5 rows x 23 columns]"
      ]
     },
     "execution_count": 3,
     "metadata": {},
     "output_type": "execute_result"
    }
   ],
   "source": [
    "rain.head()"
   ]
  },
  {
   "cell_type": "code",
   "execution_count": 4,
   "id": "b4ce5492",
   "metadata": {
    "ExecuteTime": {
     "end_time": "2021-09-29T18:33:43.317512Z",
     "start_time": "2021-09-29T18:33:43.178458Z"
    }
   },
   "outputs": [
    {
     "data": {
      "text/plain": [
       "date                    0\n",
       "location                0\n",
       "mintemp               637\n",
       "maxtemp               322\n",
       "rainfall             1406\n",
       "evaporation         60843\n",
       "sunshine            67816\n",
       "humidity9am          1774\n",
       "humidity3pm          3610\n",
       "pressure9am         14014\n",
       "pressure3pm         13981\n",
       "cloud9am            53657\n",
       "cloud3pm            57094\n",
       "temp9am               904\n",
       "temp3pm              2726\n",
       "raintoday            1406\n",
       "amountOfRain            0\n",
       "raintomorrow            0\n",
       "temp                  322\n",
       "humidity             3610\n",
       "precipitation3pm        0\n",
       "precipitation9am        0\n",
       "modelo_vigente          0\n",
       "dtype: int64"
      ]
     },
     "execution_count": 4,
     "metadata": {},
     "output_type": "execute_result"
    }
   ],
   "source": [
    "rain.isna().sum()"
   ]
  },
  {
   "cell_type": "code",
   "execution_count": 5,
   "id": "fdaacdde",
   "metadata": {
    "ExecuteTime": {
     "end_time": "2021-09-29T18:33:43.518447Z",
     "start_time": "2021-09-29T18:33:43.319471Z"
    }
   },
   "outputs": [
    {
     "data": {
      "text/html": [
       "<div>\n",
       "<style scoped>\n",
       "    .dataframe tbody tr th:only-of-type {\n",
       "        vertical-align: middle;\n",
       "    }\n",
       "\n",
       "    .dataframe tbody tr th {\n",
       "        vertical-align: top;\n",
       "    }\n",
       "\n",
       "    .dataframe thead th {\n",
       "        text-align: right;\n",
       "    }\n",
       "</style>\n",
       "<table border=\"1\" class=\"dataframe\">\n",
       "  <thead>\n",
       "    <tr style=\"text-align: right;\">\n",
       "      <th></th>\n",
       "      <th>mintemp</th>\n",
       "      <th>maxtemp</th>\n",
       "      <th>rainfall</th>\n",
       "      <th>evaporation</th>\n",
       "      <th>sunshine</th>\n",
       "      <th>humidity9am</th>\n",
       "      <th>humidity3pm</th>\n",
       "      <th>pressure9am</th>\n",
       "      <th>pressure3pm</th>\n",
       "      <th>cloud9am</th>\n",
       "      <th>cloud3pm</th>\n",
       "      <th>temp9am</th>\n",
       "      <th>temp3pm</th>\n",
       "      <th>amountOfRain</th>\n",
       "      <th>temp</th>\n",
       "      <th>humidity</th>\n",
       "      <th>precipitation3pm</th>\n",
       "      <th>precipitation9am</th>\n",
       "      <th>modelo_vigente</th>\n",
       "    </tr>\n",
       "  </thead>\n",
       "  <tbody>\n",
       "    <tr>\n",
       "      <th>count</th>\n",
       "      <td>141556.000000</td>\n",
       "      <td>141871.000000</td>\n",
       "      <td>140787.000000</td>\n",
       "      <td>81350.000000</td>\n",
       "      <td>74377.000000</td>\n",
       "      <td>140419.000000</td>\n",
       "      <td>138583.000000</td>\n",
       "      <td>128179.000000</td>\n",
       "      <td>128212.000000</td>\n",
       "      <td>88536.000000</td>\n",
       "      <td>85099.000000</td>\n",
       "      <td>141289.000000</td>\n",
       "      <td>139467.000000</td>\n",
       "      <td>142193.000000</td>\n",
       "      <td>141871.000000</td>\n",
       "      <td>138583.000000</td>\n",
       "      <td>142193.000000</td>\n",
       "      <td>142193.000000</td>\n",
       "      <td>142193.000000</td>\n",
       "    </tr>\n",
       "    <tr>\n",
       "      <th>mean</th>\n",
       "      <td>12.186400</td>\n",
       "      <td>23.226784</td>\n",
       "      <td>2.349974</td>\n",
       "      <td>5.469824</td>\n",
       "      <td>7.624853</td>\n",
       "      <td>68.843810</td>\n",
       "      <td>51.482606</td>\n",
       "      <td>1017.653758</td>\n",
       "      <td>1015.258204</td>\n",
       "      <td>4.437189</td>\n",
       "      <td>4.503167</td>\n",
       "      <td>16.987509</td>\n",
       "      <td>21.687235</td>\n",
       "      <td>2.360682</td>\n",
       "      <td>28.505419</td>\n",
       "      <td>61.991179</td>\n",
       "      <td>10.014164</td>\n",
       "      <td>10.000748</td>\n",
       "      <td>0.227804</td>\n",
       "    </tr>\n",
       "    <tr>\n",
       "      <th>std</th>\n",
       "      <td>6.403283</td>\n",
       "      <td>7.117618</td>\n",
       "      <td>8.465173</td>\n",
       "      <td>4.188537</td>\n",
       "      <td>3.781525</td>\n",
       "      <td>19.051293</td>\n",
       "      <td>20.797772</td>\n",
       "      <td>7.105476</td>\n",
       "      <td>7.036677</td>\n",
       "      <td>2.887016</td>\n",
       "      <td>2.720633</td>\n",
       "      <td>6.492838</td>\n",
       "      <td>6.937594</td>\n",
       "      <td>8.477969</td>\n",
       "      <td>10.237506</td>\n",
       "      <td>26.649111</td>\n",
       "      <td>3.169832</td>\n",
       "      <td>4.997908</td>\n",
       "      <td>0.272764</td>\n",
       "    </tr>\n",
       "    <tr>\n",
       "      <th>min</th>\n",
       "      <td>-8.500000</td>\n",
       "      <td>-4.800000</td>\n",
       "      <td>0.000000</td>\n",
       "      <td>0.000000</td>\n",
       "      <td>0.000000</td>\n",
       "      <td>0.000000</td>\n",
       "      <td>0.000000</td>\n",
       "      <td>980.500000</td>\n",
       "      <td>977.100000</td>\n",
       "      <td>0.000000</td>\n",
       "      <td>0.000000</td>\n",
       "      <td>-7.200000</td>\n",
       "      <td>-5.400000</td>\n",
       "      <td>0.000000</td>\n",
       "      <td>-3.760000</td>\n",
       "      <td>2.000000</td>\n",
       "      <td>0.000000</td>\n",
       "      <td>-17.739346</td>\n",
       "      <td>0.000000</td>\n",
       "    </tr>\n",
       "    <tr>\n",
       "      <th>25%</th>\n",
       "      <td>7.600000</td>\n",
       "      <td>17.900000</td>\n",
       "      <td>0.000000</td>\n",
       "      <td>2.600000</td>\n",
       "      <td>4.900000</td>\n",
       "      <td>57.000000</td>\n",
       "      <td>37.000000</td>\n",
       "      <td>1012.900000</td>\n",
       "      <td>1010.400000</td>\n",
       "      <td>1.000000</td>\n",
       "      <td>2.000000</td>\n",
       "      <td>12.300000</td>\n",
       "      <td>16.600000</td>\n",
       "      <td>0.000000</td>\n",
       "      <td>22.520000</td>\n",
       "      <td>44.000000</td>\n",
       "      <td>8.000000</td>\n",
       "      <td>6.650238</td>\n",
       "      <td>0.030055</td>\n",
       "    </tr>\n",
       "    <tr>\n",
       "      <th>50%</th>\n",
       "      <td>12.000000</td>\n",
       "      <td>22.600000</td>\n",
       "      <td>0.000000</td>\n",
       "      <td>4.800000</td>\n",
       "      <td>8.500000</td>\n",
       "      <td>70.000000</td>\n",
       "      <td>52.000000</td>\n",
       "      <td>1017.600000</td>\n",
       "      <td>1015.200000</td>\n",
       "      <td>5.000000</td>\n",
       "      <td>5.000000</td>\n",
       "      <td>16.700000</td>\n",
       "      <td>21.100000</td>\n",
       "      <td>0.000000</td>\n",
       "      <td>28.520000</td>\n",
       "      <td>63.200000</td>\n",
       "      <td>10.000000</td>\n",
       "      <td>10.000009</td>\n",
       "      <td>0.100853</td>\n",
       "    </tr>\n",
       "    <tr>\n",
       "      <th>75%</th>\n",
       "      <td>16.800000</td>\n",
       "      <td>28.200000</td>\n",
       "      <td>0.800000</td>\n",
       "      <td>7.400000</td>\n",
       "      <td>10.600000</td>\n",
       "      <td>83.000000</td>\n",
       "      <td>66.000000</td>\n",
       "      <td>1022.400000</td>\n",
       "      <td>1020.000000</td>\n",
       "      <td>7.000000</td>\n",
       "      <td>7.000000</td>\n",
       "      <td>21.600000</td>\n",
       "      <td>26.400000</td>\n",
       "      <td>0.800000</td>\n",
       "      <td>35.480000</td>\n",
       "      <td>80.000000</td>\n",
       "      <td>12.000000</td>\n",
       "      <td>13.389306</td>\n",
       "      <td>0.329507</td>\n",
       "    </tr>\n",
       "    <tr>\n",
       "      <th>max</th>\n",
       "      <td>33.900000</td>\n",
       "      <td>48.100000</td>\n",
       "      <td>371.000000</td>\n",
       "      <td>145.000000</td>\n",
       "      <td>14.500000</td>\n",
       "      <td>100.000000</td>\n",
       "      <td>100.000000</td>\n",
       "      <td>1041.000000</td>\n",
       "      <td>1039.600000</td>\n",
       "      <td>9.000000</td>\n",
       "      <td>9.000000</td>\n",
       "      <td>40.200000</td>\n",
       "      <td>46.700000</td>\n",
       "      <td>371.000000</td>\n",
       "      <td>59.720000</td>\n",
       "      <td>122.000000</td>\n",
       "      <td>26.000000</td>\n",
       "      <td>32.478590</td>\n",
       "      <td>0.999400</td>\n",
       "    </tr>\n",
       "  </tbody>\n",
       "</table>\n",
       "</div>"
      ],
      "text/plain": [
       "             mintemp        maxtemp       rainfall   evaporation  \\\n",
       "count  141556.000000  141871.000000  140787.000000  81350.000000   \n",
       "mean       12.186400      23.226784       2.349974      5.469824   \n",
       "std         6.403283       7.117618       8.465173      4.188537   \n",
       "min        -8.500000      -4.800000       0.000000      0.000000   \n",
       "25%         7.600000      17.900000       0.000000      2.600000   \n",
       "50%        12.000000      22.600000       0.000000      4.800000   \n",
       "75%        16.800000      28.200000       0.800000      7.400000   \n",
       "max        33.900000      48.100000     371.000000    145.000000   \n",
       "\n",
       "           sunshine    humidity9am    humidity3pm    pressure9am  \\\n",
       "count  74377.000000  140419.000000  138583.000000  128179.000000   \n",
       "mean       7.624853      68.843810      51.482606    1017.653758   \n",
       "std        3.781525      19.051293      20.797772       7.105476   \n",
       "min        0.000000       0.000000       0.000000     980.500000   \n",
       "25%        4.900000      57.000000      37.000000    1012.900000   \n",
       "50%        8.500000      70.000000      52.000000    1017.600000   \n",
       "75%       10.600000      83.000000      66.000000    1022.400000   \n",
       "max       14.500000     100.000000     100.000000    1041.000000   \n",
       "\n",
       "         pressure3pm      cloud9am      cloud3pm        temp9am  \\\n",
       "count  128212.000000  88536.000000  85099.000000  141289.000000   \n",
       "mean     1015.258204      4.437189      4.503167      16.987509   \n",
       "std         7.036677      2.887016      2.720633       6.492838   \n",
       "min       977.100000      0.000000      0.000000      -7.200000   \n",
       "25%      1010.400000      1.000000      2.000000      12.300000   \n",
       "50%      1015.200000      5.000000      5.000000      16.700000   \n",
       "75%      1020.000000      7.000000      7.000000      21.600000   \n",
       "max      1039.600000      9.000000      9.000000      40.200000   \n",
       "\n",
       "             temp3pm   amountOfRain           temp       humidity  \\\n",
       "count  139467.000000  142193.000000  141871.000000  138583.000000   \n",
       "mean       21.687235       2.360682      28.505419      61.991179   \n",
       "std         6.937594       8.477969      10.237506      26.649111   \n",
       "min        -5.400000       0.000000      -3.760000       2.000000   \n",
       "25%        16.600000       0.000000      22.520000      44.000000   \n",
       "50%        21.100000       0.000000      28.520000      63.200000   \n",
       "75%        26.400000       0.800000      35.480000      80.000000   \n",
       "max        46.700000     371.000000      59.720000     122.000000   \n",
       "\n",
       "       precipitation3pm  precipitation9am  modelo_vigente  \n",
       "count     142193.000000     142193.000000   142193.000000  \n",
       "mean          10.014164         10.000748        0.227804  \n",
       "std            3.169832          4.997908        0.272764  \n",
       "min            0.000000        -17.739346        0.000000  \n",
       "25%            8.000000          6.650238        0.030055  \n",
       "50%           10.000000         10.000009        0.100853  \n",
       "75%           12.000000         13.389306        0.329507  \n",
       "max           26.000000         32.478590        0.999400  "
      ]
     },
     "execution_count": 5,
     "metadata": {},
     "output_type": "execute_result"
    }
   ],
   "source": [
    "rain.describe()"
   ]
  },
  {
   "cell_type": "code",
   "execution_count": 6,
   "id": "337578ff",
   "metadata": {
    "ExecuteTime": {
     "end_time": "2021-09-29T18:33:43.643384Z",
     "start_time": "2021-09-29T18:33:43.519444Z"
    }
   },
   "outputs": [
    {
     "data": {
      "text/html": [
       "<div>\n",
       "<style scoped>\n",
       "    .dataframe tbody tr th:only-of-type {\n",
       "        vertical-align: middle;\n",
       "    }\n",
       "\n",
       "    .dataframe tbody tr th {\n",
       "        vertical-align: top;\n",
       "    }\n",
       "\n",
       "    .dataframe thead th {\n",
       "        text-align: right;\n",
       "    }\n",
       "</style>\n",
       "<table border=\"1\" class=\"dataframe\">\n",
       "  <thead>\n",
       "    <tr style=\"text-align: right;\">\n",
       "      <th></th>\n",
       "      <th>date</th>\n",
       "      <th>location</th>\n",
       "      <th>mintemp</th>\n",
       "      <th>maxtemp</th>\n",
       "      <th>rainfall</th>\n",
       "      <th>evaporation</th>\n",
       "      <th>sunshine</th>\n",
       "      <th>humidity9am</th>\n",
       "      <th>humidity3pm</th>\n",
       "      <th>pressure9am</th>\n",
       "      <th>...</th>\n",
       "      <th>temp9am</th>\n",
       "      <th>temp3pm</th>\n",
       "      <th>raintoday</th>\n",
       "      <th>amountOfRain</th>\n",
       "      <th>raintomorrow</th>\n",
       "      <th>temp</th>\n",
       "      <th>humidity</th>\n",
       "      <th>precipitation3pm</th>\n",
       "      <th>precipitation9am</th>\n",
       "      <th>modelo_vigente</th>\n",
       "    </tr>\n",
       "  </thead>\n",
       "  <tbody>\n",
       "    <tr>\n",
       "      <th>5939</th>\n",
       "      <td>2009-01-01</td>\n",
       "      <td>Cobar</td>\n",
       "      <td>17.9</td>\n",
       "      <td>35.2</td>\n",
       "      <td>0.0</td>\n",
       "      <td>12.0</td>\n",
       "      <td>12.3</td>\n",
       "      <td>20.0</td>\n",
       "      <td>13.0</td>\n",
       "      <td>1006.3</td>\n",
       "      <td>...</td>\n",
       "      <td>26.6</td>\n",
       "      <td>33.4</td>\n",
       "      <td>No</td>\n",
       "      <td>0.0</td>\n",
       "      <td>No</td>\n",
       "      <td>44.24</td>\n",
       "      <td>17.6</td>\n",
       "      <td>5</td>\n",
       "      <td>15.165784</td>\n",
       "      <td>0.011320</td>\n",
       "    </tr>\n",
       "    <tr>\n",
       "      <th>5940</th>\n",
       "      <td>2009-01-02</td>\n",
       "      <td>Cobar</td>\n",
       "      <td>18.4</td>\n",
       "      <td>28.9</td>\n",
       "      <td>0.0</td>\n",
       "      <td>14.8</td>\n",
       "      <td>13.0</td>\n",
       "      <td>30.0</td>\n",
       "      <td>8.0</td>\n",
       "      <td>1012.9</td>\n",
       "      <td>...</td>\n",
       "      <td>20.3</td>\n",
       "      <td>27.0</td>\n",
       "      <td>No</td>\n",
       "      <td>0.0</td>\n",
       "      <td>No</td>\n",
       "      <td>36.68</td>\n",
       "      <td>11.6</td>\n",
       "      <td>9</td>\n",
       "      <td>9.750834</td>\n",
       "      <td>0.001683</td>\n",
       "    </tr>\n",
       "    <tr>\n",
       "      <th>5942</th>\n",
       "      <td>2009-01-04</td>\n",
       "      <td>Cobar</td>\n",
       "      <td>19.4</td>\n",
       "      <td>37.6</td>\n",
       "      <td>0.0</td>\n",
       "      <td>10.8</td>\n",
       "      <td>10.6</td>\n",
       "      <td>42.0</td>\n",
       "      <td>22.0</td>\n",
       "      <td>1012.3</td>\n",
       "      <td>...</td>\n",
       "      <td>28.7</td>\n",
       "      <td>34.9</td>\n",
       "      <td>No</td>\n",
       "      <td>0.0</td>\n",
       "      <td>No</td>\n",
       "      <td>47.12</td>\n",
       "      <td>28.4</td>\n",
       "      <td>11</td>\n",
       "      <td>5.557986</td>\n",
       "      <td>0.061026</td>\n",
       "    </tr>\n",
       "    <tr>\n",
       "      <th>5943</th>\n",
       "      <td>2009-01-05</td>\n",
       "      <td>Cobar</td>\n",
       "      <td>21.9</td>\n",
       "      <td>38.4</td>\n",
       "      <td>0.0</td>\n",
       "      <td>11.4</td>\n",
       "      <td>12.2</td>\n",
       "      <td>37.0</td>\n",
       "      <td>22.0</td>\n",
       "      <td>1012.7</td>\n",
       "      <td>...</td>\n",
       "      <td>29.1</td>\n",
       "      <td>35.6</td>\n",
       "      <td>No</td>\n",
       "      <td>0.0</td>\n",
       "      <td>No</td>\n",
       "      <td>48.08</td>\n",
       "      <td>28.4</td>\n",
       "      <td>10</td>\n",
       "      <td>17.820001</td>\n",
       "      <td>0.010724</td>\n",
       "    </tr>\n",
       "    <tr>\n",
       "      <th>5944</th>\n",
       "      <td>2009-01-06</td>\n",
       "      <td>Cobar</td>\n",
       "      <td>24.2</td>\n",
       "      <td>41.0</td>\n",
       "      <td>0.0</td>\n",
       "      <td>11.2</td>\n",
       "      <td>8.4</td>\n",
       "      <td>19.0</td>\n",
       "      <td>15.0</td>\n",
       "      <td>1010.7</td>\n",
       "      <td>...</td>\n",
       "      <td>33.6</td>\n",
       "      <td>37.6</td>\n",
       "      <td>No</td>\n",
       "      <td>0.0</td>\n",
       "      <td>No</td>\n",
       "      <td>51.20</td>\n",
       "      <td>20.0</td>\n",
       "      <td>9</td>\n",
       "      <td>13.217116</td>\n",
       "      <td>0.103292</td>\n",
       "    </tr>\n",
       "    <tr>\n",
       "      <th>...</th>\n",
       "      <td>...</td>\n",
       "      <td>...</td>\n",
       "      <td>...</td>\n",
       "      <td>...</td>\n",
       "      <td>...</td>\n",
       "      <td>...</td>\n",
       "      <td>...</td>\n",
       "      <td>...</td>\n",
       "      <td>...</td>\n",
       "      <td>...</td>\n",
       "      <td>...</td>\n",
       "      <td>...</td>\n",
       "      <td>...</td>\n",
       "      <td>...</td>\n",
       "      <td>...</td>\n",
       "      <td>...</td>\n",
       "      <td>...</td>\n",
       "      <td>...</td>\n",
       "      <td>...</td>\n",
       "      <td>...</td>\n",
       "      <td>...</td>\n",
       "    </tr>\n",
       "    <tr>\n",
       "      <th>139108</th>\n",
       "      <td>2017-06-20</td>\n",
       "      <td>Darwin</td>\n",
       "      <td>19.3</td>\n",
       "      <td>33.4</td>\n",
       "      <td>0.0</td>\n",
       "      <td>6.0</td>\n",
       "      <td>11.0</td>\n",
       "      <td>63.0</td>\n",
       "      <td>32.0</td>\n",
       "      <td>1013.9</td>\n",
       "      <td>...</td>\n",
       "      <td>24.5</td>\n",
       "      <td>32.3</td>\n",
       "      <td>No</td>\n",
       "      <td>0.0</td>\n",
       "      <td>No</td>\n",
       "      <td>42.08</td>\n",
       "      <td>40.4</td>\n",
       "      <td>7</td>\n",
       "      <td>15.000004</td>\n",
       "      <td>0.008671</td>\n",
       "    </tr>\n",
       "    <tr>\n",
       "      <th>139109</th>\n",
       "      <td>2017-06-21</td>\n",
       "      <td>Darwin</td>\n",
       "      <td>21.2</td>\n",
       "      <td>32.6</td>\n",
       "      <td>0.0</td>\n",
       "      <td>7.6</td>\n",
       "      <td>8.6</td>\n",
       "      <td>56.0</td>\n",
       "      <td>28.0</td>\n",
       "      <td>1014.6</td>\n",
       "      <td>...</td>\n",
       "      <td>24.8</td>\n",
       "      <td>32.0</td>\n",
       "      <td>No</td>\n",
       "      <td>0.0</td>\n",
       "      <td>No</td>\n",
       "      <td>41.12</td>\n",
       "      <td>35.6</td>\n",
       "      <td>12</td>\n",
       "      <td>3.721395</td>\n",
       "      <td>0.052358</td>\n",
       "    </tr>\n",
       "    <tr>\n",
       "      <th>139110</th>\n",
       "      <td>2017-06-22</td>\n",
       "      <td>Darwin</td>\n",
       "      <td>20.7</td>\n",
       "      <td>32.8</td>\n",
       "      <td>0.0</td>\n",
       "      <td>5.6</td>\n",
       "      <td>11.0</td>\n",
       "      <td>46.0</td>\n",
       "      <td>23.0</td>\n",
       "      <td>1015.3</td>\n",
       "      <td>...</td>\n",
       "      <td>24.8</td>\n",
       "      <td>32.1</td>\n",
       "      <td>No</td>\n",
       "      <td>0.0</td>\n",
       "      <td>No</td>\n",
       "      <td>41.36</td>\n",
       "      <td>29.6</td>\n",
       "      <td>10</td>\n",
       "      <td>18.462662</td>\n",
       "      <td>0.005346</td>\n",
       "    </tr>\n",
       "    <tr>\n",
       "      <th>139111</th>\n",
       "      <td>2017-06-23</td>\n",
       "      <td>Darwin</td>\n",
       "      <td>19.5</td>\n",
       "      <td>31.8</td>\n",
       "      <td>0.0</td>\n",
       "      <td>6.2</td>\n",
       "      <td>10.6</td>\n",
       "      <td>62.0</td>\n",
       "      <td>58.0</td>\n",
       "      <td>1014.9</td>\n",
       "      <td>...</td>\n",
       "      <td>24.8</td>\n",
       "      <td>29.2</td>\n",
       "      <td>No</td>\n",
       "      <td>0.0</td>\n",
       "      <td>No</td>\n",
       "      <td>40.16</td>\n",
       "      <td>71.6</td>\n",
       "      <td>6</td>\n",
       "      <td>16.343690</td>\n",
       "      <td>0.025044</td>\n",
       "    </tr>\n",
       "    <tr>\n",
       "      <th>139112</th>\n",
       "      <td>2017-06-24</td>\n",
       "      <td>Darwin</td>\n",
       "      <td>20.2</td>\n",
       "      <td>31.7</td>\n",
       "      <td>0.0</td>\n",
       "      <td>5.6</td>\n",
       "      <td>10.7</td>\n",
       "      <td>73.0</td>\n",
       "      <td>32.0</td>\n",
       "      <td>1013.9</td>\n",
       "      <td>...</td>\n",
       "      <td>25.4</td>\n",
       "      <td>31.0</td>\n",
       "      <td>No</td>\n",
       "      <td>0.0</td>\n",
       "      <td>No</td>\n",
       "      <td>40.04</td>\n",
       "      <td>40.4</td>\n",
       "      <td>12</td>\n",
       "      <td>9.187054</td>\n",
       "      <td>0.043525</td>\n",
       "    </tr>\n",
       "  </tbody>\n",
       "</table>\n",
       "<p>61918 rows × 23 columns</p>\n",
       "</div>"
      ],
      "text/plain": [
       "              date location  mintemp  maxtemp  rainfall  evaporation  \\\n",
       "5939    2009-01-01    Cobar     17.9     35.2       0.0         12.0   \n",
       "5940    2009-01-02    Cobar     18.4     28.9       0.0         14.8   \n",
       "5942    2009-01-04    Cobar     19.4     37.6       0.0         10.8   \n",
       "5943    2009-01-05    Cobar     21.9     38.4       0.0         11.4   \n",
       "5944    2009-01-06    Cobar     24.2     41.0       0.0         11.2   \n",
       "...            ...      ...      ...      ...       ...          ...   \n",
       "139108  2017-06-20   Darwin     19.3     33.4       0.0          6.0   \n",
       "139109  2017-06-21   Darwin     21.2     32.6       0.0          7.6   \n",
       "139110  2017-06-22   Darwin     20.7     32.8       0.0          5.6   \n",
       "139111  2017-06-23   Darwin     19.5     31.8       0.0          6.2   \n",
       "139112  2017-06-24   Darwin     20.2     31.7       0.0          5.6   \n",
       "\n",
       "        sunshine  humidity9am  humidity3pm  pressure9am  ...  temp9am  \\\n",
       "5939        12.3         20.0         13.0       1006.3  ...     26.6   \n",
       "5940        13.0         30.0          8.0       1012.9  ...     20.3   \n",
       "5942        10.6         42.0         22.0       1012.3  ...     28.7   \n",
       "5943        12.2         37.0         22.0       1012.7  ...     29.1   \n",
       "5944         8.4         19.0         15.0       1010.7  ...     33.6   \n",
       "...          ...          ...          ...          ...  ...      ...   \n",
       "139108      11.0         63.0         32.0       1013.9  ...     24.5   \n",
       "139109       8.6         56.0         28.0       1014.6  ...     24.8   \n",
       "139110      11.0         46.0         23.0       1015.3  ...     24.8   \n",
       "139111      10.6         62.0         58.0       1014.9  ...     24.8   \n",
       "139112      10.7         73.0         32.0       1013.9  ...     25.4   \n",
       "\n",
       "        temp3pm  raintoday  amountOfRain  raintomorrow   temp  humidity  \\\n",
       "5939       33.4         No           0.0            No  44.24      17.6   \n",
       "5940       27.0         No           0.0            No  36.68      11.6   \n",
       "5942       34.9         No           0.0            No  47.12      28.4   \n",
       "5943       35.6         No           0.0            No  48.08      28.4   \n",
       "5944       37.6         No           0.0            No  51.20      20.0   \n",
       "...         ...        ...           ...           ...    ...       ...   \n",
       "139108     32.3         No           0.0            No  42.08      40.4   \n",
       "139109     32.0         No           0.0            No  41.12      35.6   \n",
       "139110     32.1         No           0.0            No  41.36      29.6   \n",
       "139111     29.2         No           0.0            No  40.16      71.6   \n",
       "139112     31.0         No           0.0            No  40.04      40.4   \n",
       "\n",
       "       precipitation3pm  precipitation9am  modelo_vigente  \n",
       "5939                  5         15.165784        0.011320  \n",
       "5940                  9          9.750834        0.001683  \n",
       "5942                 11          5.557986        0.061026  \n",
       "5943                 10         17.820001        0.010724  \n",
       "5944                  9         13.217116        0.103292  \n",
       "...                 ...               ...             ...  \n",
       "139108                7         15.000004        0.008671  \n",
       "139109               12          3.721395        0.052358  \n",
       "139110               10         18.462662        0.005346  \n",
       "139111                6         16.343690        0.025044  \n",
       "139112               12          9.187054        0.043525  \n",
       "\n",
       "[61918 rows x 23 columns]"
      ]
     },
     "execution_count": 6,
     "metadata": {},
     "output_type": "execute_result"
    }
   ],
   "source": [
    "rain=rain.dropna()\n",
    "rain"
   ]
  },
  {
   "cell_type": "code",
   "execution_count": 7,
   "id": "fcab850c",
   "metadata": {
    "ExecuteTime": {
     "end_time": "2021-09-29T18:33:43.659373Z",
     "start_time": "2021-09-29T18:33:43.646377Z"
    }
   },
   "outputs": [],
   "source": [
    "# A variavel target esta com sim ou nao (rain tomorrow)."
   ]
  },
  {
   "cell_type": "code",
   "execution_count": 8,
   "id": "83199934",
   "metadata": {
    "ExecuteTime": {
     "end_time": "2021-09-29T18:33:43.752803Z",
     "start_time": "2021-09-29T18:33:43.661336Z"
    }
   },
   "outputs": [
    {
     "data": {
      "text/plain": [
       "5939      No\n",
       "5940      No\n",
       "5942      No\n",
       "5943      No\n",
       "5944      No\n",
       "          ..\n",
       "139108    No\n",
       "139109    No\n",
       "139110    No\n",
       "139111    No\n",
       "139112    No\n",
       "Name: raintomorrow, Length: 61918, dtype: object"
      ]
     },
     "execution_count": 8,
     "metadata": {},
     "output_type": "execute_result"
    }
   ],
   "source": [
    "rain.raintomorrow"
   ]
  },
  {
   "cell_type": "code",
   "execution_count": 9,
   "id": "979e1b4e",
   "metadata": {
    "ExecuteTime": {
     "end_time": "2021-09-29T18:33:43.848546Z",
     "start_time": "2021-09-29T18:33:43.754799Z"
    }
   },
   "outputs": [
    {
     "data": {
      "text/plain": [
       "5939      No\n",
       "5940      No\n",
       "5942      No\n",
       "5943      No\n",
       "5944      No\n",
       "          ..\n",
       "139108    No\n",
       "139109    No\n",
       "139110    No\n",
       "139111    No\n",
       "139112    No\n",
       "Name: raintoday, Length: 61918, dtype: object"
      ]
     },
     "execution_count": 9,
     "metadata": {},
     "output_type": "execute_result"
    }
   ],
   "source": [
    "rain.raintoday"
   ]
  },
  {
   "cell_type": "code",
   "execution_count": 10,
   "id": "f270de03",
   "metadata": {
    "ExecuteTime": {
     "end_time": "2021-09-29T18:33:43.955799Z",
     "start_time": "2021-09-29T18:33:43.851539Z"
    }
   },
   "outputs": [],
   "source": [
    "rain['raintoday']=rain['raintoday'].replace({'No':0,'Yes':1})"
   ]
  },
  {
   "cell_type": "code",
   "execution_count": 11,
   "id": "60fb5ae4",
   "metadata": {
    "ExecuteTime": {
     "end_time": "2021-09-29T18:33:44.033910Z",
     "start_time": "2021-09-29T18:33:43.956797Z"
    }
   },
   "outputs": [],
   "source": [
    "rain['raintomorrow']=rain['raintomorrow'].replace({'No':0,'Yes':1})"
   ]
  },
  {
   "cell_type": "code",
   "execution_count": 12,
   "id": "293b508e",
   "metadata": {
    "ExecuteTime": {
     "end_time": "2021-09-29T18:33:44.159154Z",
     "start_time": "2021-09-29T18:33:44.034907Z"
    }
   },
   "outputs": [
    {
     "data": {
      "text/html": [
       "<div>\n",
       "<style scoped>\n",
       "    .dataframe tbody tr th:only-of-type {\n",
       "        vertical-align: middle;\n",
       "    }\n",
       "\n",
       "    .dataframe tbody tr th {\n",
       "        vertical-align: top;\n",
       "    }\n",
       "\n",
       "    .dataframe thead th {\n",
       "        text-align: right;\n",
       "    }\n",
       "</style>\n",
       "<table border=\"1\" class=\"dataframe\">\n",
       "  <thead>\n",
       "    <tr style=\"text-align: right;\">\n",
       "      <th></th>\n",
       "      <th>date</th>\n",
       "      <th>location</th>\n",
       "      <th>mintemp</th>\n",
       "      <th>maxtemp</th>\n",
       "      <th>rainfall</th>\n",
       "      <th>evaporation</th>\n",
       "      <th>sunshine</th>\n",
       "      <th>humidity9am</th>\n",
       "      <th>humidity3pm</th>\n",
       "      <th>pressure9am</th>\n",
       "      <th>...</th>\n",
       "      <th>temp9am</th>\n",
       "      <th>temp3pm</th>\n",
       "      <th>raintoday</th>\n",
       "      <th>amountOfRain</th>\n",
       "      <th>raintomorrow</th>\n",
       "      <th>temp</th>\n",
       "      <th>humidity</th>\n",
       "      <th>precipitation3pm</th>\n",
       "      <th>precipitation9am</th>\n",
       "      <th>modelo_vigente</th>\n",
       "    </tr>\n",
       "  </thead>\n",
       "  <tbody>\n",
       "    <tr>\n",
       "      <th>5939</th>\n",
       "      <td>2009-01-01</td>\n",
       "      <td>Cobar</td>\n",
       "      <td>17.9</td>\n",
       "      <td>35.2</td>\n",
       "      <td>0.0</td>\n",
       "      <td>12.0</td>\n",
       "      <td>12.3</td>\n",
       "      <td>20.0</td>\n",
       "      <td>13.0</td>\n",
       "      <td>1006.3</td>\n",
       "      <td>...</td>\n",
       "      <td>26.6</td>\n",
       "      <td>33.4</td>\n",
       "      <td>0</td>\n",
       "      <td>0.0</td>\n",
       "      <td>0</td>\n",
       "      <td>44.24</td>\n",
       "      <td>17.6</td>\n",
       "      <td>5</td>\n",
       "      <td>15.165784</td>\n",
       "      <td>0.011320</td>\n",
       "    </tr>\n",
       "    <tr>\n",
       "      <th>5940</th>\n",
       "      <td>2009-01-02</td>\n",
       "      <td>Cobar</td>\n",
       "      <td>18.4</td>\n",
       "      <td>28.9</td>\n",
       "      <td>0.0</td>\n",
       "      <td>14.8</td>\n",
       "      <td>13.0</td>\n",
       "      <td>30.0</td>\n",
       "      <td>8.0</td>\n",
       "      <td>1012.9</td>\n",
       "      <td>...</td>\n",
       "      <td>20.3</td>\n",
       "      <td>27.0</td>\n",
       "      <td>0</td>\n",
       "      <td>0.0</td>\n",
       "      <td>0</td>\n",
       "      <td>36.68</td>\n",
       "      <td>11.6</td>\n",
       "      <td>9</td>\n",
       "      <td>9.750834</td>\n",
       "      <td>0.001683</td>\n",
       "    </tr>\n",
       "    <tr>\n",
       "      <th>5942</th>\n",
       "      <td>2009-01-04</td>\n",
       "      <td>Cobar</td>\n",
       "      <td>19.4</td>\n",
       "      <td>37.6</td>\n",
       "      <td>0.0</td>\n",
       "      <td>10.8</td>\n",
       "      <td>10.6</td>\n",
       "      <td>42.0</td>\n",
       "      <td>22.0</td>\n",
       "      <td>1012.3</td>\n",
       "      <td>...</td>\n",
       "      <td>28.7</td>\n",
       "      <td>34.9</td>\n",
       "      <td>0</td>\n",
       "      <td>0.0</td>\n",
       "      <td>0</td>\n",
       "      <td>47.12</td>\n",
       "      <td>28.4</td>\n",
       "      <td>11</td>\n",
       "      <td>5.557986</td>\n",
       "      <td>0.061026</td>\n",
       "    </tr>\n",
       "    <tr>\n",
       "      <th>5943</th>\n",
       "      <td>2009-01-05</td>\n",
       "      <td>Cobar</td>\n",
       "      <td>21.9</td>\n",
       "      <td>38.4</td>\n",
       "      <td>0.0</td>\n",
       "      <td>11.4</td>\n",
       "      <td>12.2</td>\n",
       "      <td>37.0</td>\n",
       "      <td>22.0</td>\n",
       "      <td>1012.7</td>\n",
       "      <td>...</td>\n",
       "      <td>29.1</td>\n",
       "      <td>35.6</td>\n",
       "      <td>0</td>\n",
       "      <td>0.0</td>\n",
       "      <td>0</td>\n",
       "      <td>48.08</td>\n",
       "      <td>28.4</td>\n",
       "      <td>10</td>\n",
       "      <td>17.820001</td>\n",
       "      <td>0.010724</td>\n",
       "    </tr>\n",
       "    <tr>\n",
       "      <th>5944</th>\n",
       "      <td>2009-01-06</td>\n",
       "      <td>Cobar</td>\n",
       "      <td>24.2</td>\n",
       "      <td>41.0</td>\n",
       "      <td>0.0</td>\n",
       "      <td>11.2</td>\n",
       "      <td>8.4</td>\n",
       "      <td>19.0</td>\n",
       "      <td>15.0</td>\n",
       "      <td>1010.7</td>\n",
       "      <td>...</td>\n",
       "      <td>33.6</td>\n",
       "      <td>37.6</td>\n",
       "      <td>0</td>\n",
       "      <td>0.0</td>\n",
       "      <td>0</td>\n",
       "      <td>51.20</td>\n",
       "      <td>20.0</td>\n",
       "      <td>9</td>\n",
       "      <td>13.217116</td>\n",
       "      <td>0.103292</td>\n",
       "    </tr>\n",
       "    <tr>\n",
       "      <th>...</th>\n",
       "      <td>...</td>\n",
       "      <td>...</td>\n",
       "      <td>...</td>\n",
       "      <td>...</td>\n",
       "      <td>...</td>\n",
       "      <td>...</td>\n",
       "      <td>...</td>\n",
       "      <td>...</td>\n",
       "      <td>...</td>\n",
       "      <td>...</td>\n",
       "      <td>...</td>\n",
       "      <td>...</td>\n",
       "      <td>...</td>\n",
       "      <td>...</td>\n",
       "      <td>...</td>\n",
       "      <td>...</td>\n",
       "      <td>...</td>\n",
       "      <td>...</td>\n",
       "      <td>...</td>\n",
       "      <td>...</td>\n",
       "      <td>...</td>\n",
       "    </tr>\n",
       "    <tr>\n",
       "      <th>139108</th>\n",
       "      <td>2017-06-20</td>\n",
       "      <td>Darwin</td>\n",
       "      <td>19.3</td>\n",
       "      <td>33.4</td>\n",
       "      <td>0.0</td>\n",
       "      <td>6.0</td>\n",
       "      <td>11.0</td>\n",
       "      <td>63.0</td>\n",
       "      <td>32.0</td>\n",
       "      <td>1013.9</td>\n",
       "      <td>...</td>\n",
       "      <td>24.5</td>\n",
       "      <td>32.3</td>\n",
       "      <td>0</td>\n",
       "      <td>0.0</td>\n",
       "      <td>0</td>\n",
       "      <td>42.08</td>\n",
       "      <td>40.4</td>\n",
       "      <td>7</td>\n",
       "      <td>15.000004</td>\n",
       "      <td>0.008671</td>\n",
       "    </tr>\n",
       "    <tr>\n",
       "      <th>139109</th>\n",
       "      <td>2017-06-21</td>\n",
       "      <td>Darwin</td>\n",
       "      <td>21.2</td>\n",
       "      <td>32.6</td>\n",
       "      <td>0.0</td>\n",
       "      <td>7.6</td>\n",
       "      <td>8.6</td>\n",
       "      <td>56.0</td>\n",
       "      <td>28.0</td>\n",
       "      <td>1014.6</td>\n",
       "      <td>...</td>\n",
       "      <td>24.8</td>\n",
       "      <td>32.0</td>\n",
       "      <td>0</td>\n",
       "      <td>0.0</td>\n",
       "      <td>0</td>\n",
       "      <td>41.12</td>\n",
       "      <td>35.6</td>\n",
       "      <td>12</td>\n",
       "      <td>3.721395</td>\n",
       "      <td>0.052358</td>\n",
       "    </tr>\n",
       "    <tr>\n",
       "      <th>139110</th>\n",
       "      <td>2017-06-22</td>\n",
       "      <td>Darwin</td>\n",
       "      <td>20.7</td>\n",
       "      <td>32.8</td>\n",
       "      <td>0.0</td>\n",
       "      <td>5.6</td>\n",
       "      <td>11.0</td>\n",
       "      <td>46.0</td>\n",
       "      <td>23.0</td>\n",
       "      <td>1015.3</td>\n",
       "      <td>...</td>\n",
       "      <td>24.8</td>\n",
       "      <td>32.1</td>\n",
       "      <td>0</td>\n",
       "      <td>0.0</td>\n",
       "      <td>0</td>\n",
       "      <td>41.36</td>\n",
       "      <td>29.6</td>\n",
       "      <td>10</td>\n",
       "      <td>18.462662</td>\n",
       "      <td>0.005346</td>\n",
       "    </tr>\n",
       "    <tr>\n",
       "      <th>139111</th>\n",
       "      <td>2017-06-23</td>\n",
       "      <td>Darwin</td>\n",
       "      <td>19.5</td>\n",
       "      <td>31.8</td>\n",
       "      <td>0.0</td>\n",
       "      <td>6.2</td>\n",
       "      <td>10.6</td>\n",
       "      <td>62.0</td>\n",
       "      <td>58.0</td>\n",
       "      <td>1014.9</td>\n",
       "      <td>...</td>\n",
       "      <td>24.8</td>\n",
       "      <td>29.2</td>\n",
       "      <td>0</td>\n",
       "      <td>0.0</td>\n",
       "      <td>0</td>\n",
       "      <td>40.16</td>\n",
       "      <td>71.6</td>\n",
       "      <td>6</td>\n",
       "      <td>16.343690</td>\n",
       "      <td>0.025044</td>\n",
       "    </tr>\n",
       "    <tr>\n",
       "      <th>139112</th>\n",
       "      <td>2017-06-24</td>\n",
       "      <td>Darwin</td>\n",
       "      <td>20.2</td>\n",
       "      <td>31.7</td>\n",
       "      <td>0.0</td>\n",
       "      <td>5.6</td>\n",
       "      <td>10.7</td>\n",
       "      <td>73.0</td>\n",
       "      <td>32.0</td>\n",
       "      <td>1013.9</td>\n",
       "      <td>...</td>\n",
       "      <td>25.4</td>\n",
       "      <td>31.0</td>\n",
       "      <td>0</td>\n",
       "      <td>0.0</td>\n",
       "      <td>0</td>\n",
       "      <td>40.04</td>\n",
       "      <td>40.4</td>\n",
       "      <td>12</td>\n",
       "      <td>9.187054</td>\n",
       "      <td>0.043525</td>\n",
       "    </tr>\n",
       "  </tbody>\n",
       "</table>\n",
       "<p>61918 rows × 23 columns</p>\n",
       "</div>"
      ],
      "text/plain": [
       "              date location  mintemp  maxtemp  rainfall  evaporation  \\\n",
       "5939    2009-01-01    Cobar     17.9     35.2       0.0         12.0   \n",
       "5940    2009-01-02    Cobar     18.4     28.9       0.0         14.8   \n",
       "5942    2009-01-04    Cobar     19.4     37.6       0.0         10.8   \n",
       "5943    2009-01-05    Cobar     21.9     38.4       0.0         11.4   \n",
       "5944    2009-01-06    Cobar     24.2     41.0       0.0         11.2   \n",
       "...            ...      ...      ...      ...       ...          ...   \n",
       "139108  2017-06-20   Darwin     19.3     33.4       0.0          6.0   \n",
       "139109  2017-06-21   Darwin     21.2     32.6       0.0          7.6   \n",
       "139110  2017-06-22   Darwin     20.7     32.8       0.0          5.6   \n",
       "139111  2017-06-23   Darwin     19.5     31.8       0.0          6.2   \n",
       "139112  2017-06-24   Darwin     20.2     31.7       0.0          5.6   \n",
       "\n",
       "        sunshine  humidity9am  humidity3pm  pressure9am  ...  temp9am  \\\n",
       "5939        12.3         20.0         13.0       1006.3  ...     26.6   \n",
       "5940        13.0         30.0          8.0       1012.9  ...     20.3   \n",
       "5942        10.6         42.0         22.0       1012.3  ...     28.7   \n",
       "5943        12.2         37.0         22.0       1012.7  ...     29.1   \n",
       "5944         8.4         19.0         15.0       1010.7  ...     33.6   \n",
       "...          ...          ...          ...          ...  ...      ...   \n",
       "139108      11.0         63.0         32.0       1013.9  ...     24.5   \n",
       "139109       8.6         56.0         28.0       1014.6  ...     24.8   \n",
       "139110      11.0         46.0         23.0       1015.3  ...     24.8   \n",
       "139111      10.6         62.0         58.0       1014.9  ...     24.8   \n",
       "139112      10.7         73.0         32.0       1013.9  ...     25.4   \n",
       "\n",
       "        temp3pm  raintoday  amountOfRain  raintomorrow   temp  humidity  \\\n",
       "5939       33.4          0           0.0             0  44.24      17.6   \n",
       "5940       27.0          0           0.0             0  36.68      11.6   \n",
       "5942       34.9          0           0.0             0  47.12      28.4   \n",
       "5943       35.6          0           0.0             0  48.08      28.4   \n",
       "5944       37.6          0           0.0             0  51.20      20.0   \n",
       "...         ...        ...           ...           ...    ...       ...   \n",
       "139108     32.3          0           0.0             0  42.08      40.4   \n",
       "139109     32.0          0           0.0             0  41.12      35.6   \n",
       "139110     32.1          0           0.0             0  41.36      29.6   \n",
       "139111     29.2          0           0.0             0  40.16      71.6   \n",
       "139112     31.0          0           0.0             0  40.04      40.4   \n",
       "\n",
       "        precipitation3pm  precipitation9am  modelo_vigente  \n",
       "5939                   5         15.165784        0.011320  \n",
       "5940                   9          9.750834        0.001683  \n",
       "5942                  11          5.557986        0.061026  \n",
       "5943                  10         17.820001        0.010724  \n",
       "5944                   9         13.217116        0.103292  \n",
       "...                  ...               ...             ...  \n",
       "139108                 7         15.000004        0.008671  \n",
       "139109                12          3.721395        0.052358  \n",
       "139110                10         18.462662        0.005346  \n",
       "139111                 6         16.343690        0.025044  \n",
       "139112                12          9.187054        0.043525  \n",
       "\n",
       "[61918 rows x 23 columns]"
      ]
     },
     "execution_count": 12,
     "metadata": {},
     "output_type": "execute_result"
    }
   ],
   "source": [
    "rain"
   ]
  },
  {
   "cell_type": "code",
   "execution_count": 13,
   "id": "db9d23ba",
   "metadata": {
    "ExecuteTime": {
     "end_time": "2021-09-29T18:33:44.299786Z",
     "start_time": "2021-09-29T18:33:44.160151Z"
    }
   },
   "outputs": [
    {
     "data": {
      "text/html": [
       "<div>\n",
       "<style scoped>\n",
       "    .dataframe tbody tr th:only-of-type {\n",
       "        vertical-align: middle;\n",
       "    }\n",
       "\n",
       "    .dataframe tbody tr th {\n",
       "        vertical-align: top;\n",
       "    }\n",
       "\n",
       "    .dataframe thead th {\n",
       "        text-align: right;\n",
       "    }\n",
       "</style>\n",
       "<table border=\"1\" class=\"dataframe\">\n",
       "  <thead>\n",
       "    <tr style=\"text-align: right;\">\n",
       "      <th></th>\n",
       "      <th>mintemp</th>\n",
       "      <th>maxtemp</th>\n",
       "      <th>rainfall</th>\n",
       "      <th>evaporation</th>\n",
       "      <th>sunshine</th>\n",
       "      <th>humidity9am</th>\n",
       "      <th>humidity3pm</th>\n",
       "      <th>pressure9am</th>\n",
       "      <th>pressure3pm</th>\n",
       "      <th>cloud9am</th>\n",
       "      <th>...</th>\n",
       "      <th>temp9am</th>\n",
       "      <th>temp3pm</th>\n",
       "      <th>raintoday</th>\n",
       "      <th>amountOfRain</th>\n",
       "      <th>raintomorrow</th>\n",
       "      <th>temp</th>\n",
       "      <th>humidity</th>\n",
       "      <th>precipitation3pm</th>\n",
       "      <th>precipitation9am</th>\n",
       "      <th>modelo_vigente</th>\n",
       "    </tr>\n",
       "  </thead>\n",
       "  <tbody>\n",
       "    <tr>\n",
       "      <th>mintemp</th>\n",
       "      <td>1.000000</td>\n",
       "      <td>0.743674</td>\n",
       "      <td>0.110846</td>\n",
       "      <td>0.510004</td>\n",
       "      <td>0.070680</td>\n",
       "      <td>-0.177758</td>\n",
       "      <td>0.076333</td>\n",
       "      <td>-0.475451</td>\n",
       "      <td>-0.491435</td>\n",
       "      <td>0.115204</td>\n",
       "      <td>...</td>\n",
       "      <td>0.905552</td>\n",
       "      <td>0.720796</td>\n",
       "      <td>0.051478</td>\n",
       "      <td>0.142911</td>\n",
       "      <td>0.088964</td>\n",
       "      <td>0.578773</td>\n",
       "      <td>0.068579</td>\n",
       "      <td>0.003508</td>\n",
       "      <td>-0.001382</td>\n",
       "      <td>0.135744</td>\n",
       "    </tr>\n",
       "    <tr>\n",
       "      <th>maxtemp</th>\n",
       "      <td>0.743674</td>\n",
       "      <td>1.000000</td>\n",
       "      <td>-0.069482</td>\n",
       "      <td>0.652247</td>\n",
       "      <td>0.461698</td>\n",
       "      <td>-0.496329</td>\n",
       "      <td>-0.448043</td>\n",
       "      <td>-0.355855</td>\n",
       "      <td>-0.454047</td>\n",
       "      <td>-0.262003</td>\n",
       "      <td>...</td>\n",
       "      <td>0.890743</td>\n",
       "      <td>0.984101</td>\n",
       "      <td>-0.220012</td>\n",
       "      <td>-0.015487</td>\n",
       "      <td>-0.144498</td>\n",
       "      <td>0.779778</td>\n",
       "      <td>-0.406402</td>\n",
       "      <td>0.003385</td>\n",
       "      <td>-0.001055</td>\n",
       "      <td>-0.212616</td>\n",
       "    </tr>\n",
       "    <tr>\n",
       "      <th>rainfall</th>\n",
       "      <td>0.110846</td>\n",
       "      <td>-0.069482</td>\n",
       "      <td>1.000000</td>\n",
       "      <td>-0.074049</td>\n",
       "      <td>-0.243738</td>\n",
       "      <td>0.258127</td>\n",
       "      <td>0.270421</td>\n",
       "      <td>-0.177673</td>\n",
       "      <td>-0.133452</td>\n",
       "      <td>0.215699</td>\n",
       "      <td>...</td>\n",
       "      <td>0.014438</td>\n",
       "      <td>-0.073640</td>\n",
       "      <td>0.553481</td>\n",
       "      <td>0.302723</td>\n",
       "      <td>0.253773</td>\n",
       "      <td>-0.060093</td>\n",
       "      <td>0.247128</td>\n",
       "      <td>-0.007556</td>\n",
       "      <td>-0.003066</td>\n",
       "      <td>0.371184</td>\n",
       "    </tr>\n",
       "    <tr>\n",
       "      <th>evaporation</th>\n",
       "      <td>0.510004</td>\n",
       "      <td>0.652247</td>\n",
       "      <td>-0.074049</td>\n",
       "      <td>1.000000</td>\n",
       "      <td>0.366577</td>\n",
       "      <td>-0.554104</td>\n",
       "      <td>-0.414895</td>\n",
       "      <td>-0.304406</td>\n",
       "      <td>-0.330799</td>\n",
       "      <td>-0.192775</td>\n",
       "      <td>...</td>\n",
       "      <td>0.598609</td>\n",
       "      <td>0.631686</td>\n",
       "      <td>-0.213291</td>\n",
       "      <td>-0.042126</td>\n",
       "      <td>-0.127257</td>\n",
       "      <td>0.509947</td>\n",
       "      <td>-0.375537</td>\n",
       "      <td>0.007043</td>\n",
       "      <td>-0.000189</td>\n",
       "      <td>-0.183537</td>\n",
       "    </tr>\n",
       "    <tr>\n",
       "      <th>sunshine</th>\n",
       "      <td>0.070680</td>\n",
       "      <td>0.461698</td>\n",
       "      <td>-0.243738</td>\n",
       "      <td>0.366577</td>\n",
       "      <td>1.000000</td>\n",
       "      <td>-0.498855</td>\n",
       "      <td>-0.622767</td>\n",
       "      <td>0.035783</td>\n",
       "      <td>-0.027949</td>\n",
       "      <td>-0.678801</td>\n",
       "      <td>...</td>\n",
       "      <td>0.285678</td>\n",
       "      <td>0.483256</td>\n",
       "      <td>-0.327720</td>\n",
       "      <td>-0.298182</td>\n",
       "      <td>-0.449261</td>\n",
       "      <td>0.359295</td>\n",
       "      <td>-0.565134</td>\n",
       "      <td>-0.003376</td>\n",
       "      <td>0.004404</td>\n",
       "      <td>-0.643104</td>\n",
       "    </tr>\n",
       "    <tr>\n",
       "      <th>humidity9am</th>\n",
       "      <td>-0.177758</td>\n",
       "      <td>-0.496329</td>\n",
       "      <td>0.258127</td>\n",
       "      <td>-0.554104</td>\n",
       "      <td>-0.498855</td>\n",
       "      <td>1.000000</td>\n",
       "      <td>0.679847</td>\n",
       "      <td>0.122421</td>\n",
       "      <td>0.178441</td>\n",
       "      <td>0.432826</td>\n",
       "      <td>...</td>\n",
       "      <td>-0.426737</td>\n",
       "      <td>-0.487789</td>\n",
       "      <td>0.371288</td>\n",
       "      <td>0.177473</td>\n",
       "      <td>0.265360</td>\n",
       "      <td>-0.388460</td>\n",
       "      <td>0.617538</td>\n",
       "      <td>-0.003913</td>\n",
       "      <td>-0.001670</td>\n",
       "      <td>0.392692</td>\n",
       "    </tr>\n",
       "    <tr>\n",
       "      <th>humidity3pm</th>\n",
       "      <td>0.076333</td>\n",
       "      <td>-0.448043</td>\n",
       "      <td>0.270421</td>\n",
       "      <td>-0.414895</td>\n",
       "      <td>-0.622767</td>\n",
       "      <td>0.679847</td>\n",
       "      <td>1.000000</td>\n",
       "      <td>-0.057837</td>\n",
       "      <td>0.028653</td>\n",
       "      <td>0.507677</td>\n",
       "      <td>...</td>\n",
       "      <td>-0.148491</td>\n",
       "      <td>-0.498921</td>\n",
       "      <td>0.376480</td>\n",
       "      <td>0.309910</td>\n",
       "      <td>0.447742</td>\n",
       "      <td>-0.351533</td>\n",
       "      <td>0.907959</td>\n",
       "      <td>-0.003120</td>\n",
       "      <td>-0.003777</td>\n",
       "      <td>0.644851</td>\n",
       "    </tr>\n",
       "    <tr>\n",
       "      <th>pressure9am</th>\n",
       "      <td>-0.475451</td>\n",
       "      <td>-0.355855</td>\n",
       "      <td>-0.177673</td>\n",
       "      <td>-0.304406</td>\n",
       "      <td>0.035783</td>\n",
       "      <td>0.122421</td>\n",
       "      <td>-0.057837</td>\n",
       "      <td>1.000000</td>\n",
       "      <td>0.961926</td>\n",
       "      <td>-0.142788</td>\n",
       "      <td>...</td>\n",
       "      <td>-0.447688</td>\n",
       "      <td>-0.314549</td>\n",
       "      <td>-0.183468</td>\n",
       "      <td>-0.174923</td>\n",
       "      <td>-0.255934</td>\n",
       "      <td>-0.274905</td>\n",
       "      <td>-0.052670</td>\n",
       "      <td>-0.002484</td>\n",
       "      <td>0.003967</td>\n",
       "      <td>-0.371539</td>\n",
       "    </tr>\n",
       "    <tr>\n",
       "      <th>pressure3pm</th>\n",
       "      <td>-0.491435</td>\n",
       "      <td>-0.454047</td>\n",
       "      <td>-0.133452</td>\n",
       "      <td>-0.330799</td>\n",
       "      <td>-0.027949</td>\n",
       "      <td>0.178441</td>\n",
       "      <td>0.028653</td>\n",
       "      <td>0.961926</td>\n",
       "      <td>1.000000</td>\n",
       "      <td>-0.074193</td>\n",
       "      <td>...</td>\n",
       "      <td>-0.500713</td>\n",
       "      <td>-0.422233</td>\n",
       "      <td>-0.100839</td>\n",
       "      <td>-0.174031</td>\n",
       "      <td>-0.231428</td>\n",
       "      <td>-0.351972</td>\n",
       "      <td>0.025834</td>\n",
       "      <td>-0.002560</td>\n",
       "      <td>0.004046</td>\n",
       "      <td>-0.322904</td>\n",
       "    </tr>\n",
       "    <tr>\n",
       "      <th>cloud9am</th>\n",
       "      <td>0.115204</td>\n",
       "      <td>-0.262003</td>\n",
       "      <td>0.215699</td>\n",
       "      <td>-0.192775</td>\n",
       "      <td>-0.678801</td>\n",
       "      <td>0.432826</td>\n",
       "      <td>0.507677</td>\n",
       "      <td>-0.142788</td>\n",
       "      <td>-0.074193</td>\n",
       "      <td>1.000000</td>\n",
       "      <td>...</td>\n",
       "      <td>-0.101916</td>\n",
       "      <td>-0.278856</td>\n",
       "      <td>0.297414</td>\n",
       "      <td>0.204768</td>\n",
       "      <td>0.319410</td>\n",
       "      <td>-0.203947</td>\n",
       "      <td>0.460164</td>\n",
       "      <td>-0.000451</td>\n",
       "      <td>-0.000973</td>\n",
       "      <td>0.473697</td>\n",
       "    </tr>\n",
       "    <tr>\n",
       "      <th>cloud3pm</th>\n",
       "      <td>0.050917</td>\n",
       "      <td>-0.253183</td>\n",
       "      <td>0.191743</td>\n",
       "      <td>-0.196180</td>\n",
       "      <td>-0.704871</td>\n",
       "      <td>0.344565</td>\n",
       "      <td>0.507461</td>\n",
       "      <td>-0.164998</td>\n",
       "      <td>-0.101631</td>\n",
       "      <td>0.612633</td>\n",
       "      <td>...</td>\n",
       "      <td>-0.100641</td>\n",
       "      <td>-0.292905</td>\n",
       "      <td>0.272209</td>\n",
       "      <td>0.243504</td>\n",
       "      <td>0.389891</td>\n",
       "      <td>-0.199544</td>\n",
       "      <td>0.460723</td>\n",
       "      <td>0.000051</td>\n",
       "      <td>-0.005084</td>\n",
       "      <td>0.558326</td>\n",
       "    </tr>\n",
       "    <tr>\n",
       "      <th>temp9am</th>\n",
       "      <td>0.905552</td>\n",
       "      <td>0.890743</td>\n",
       "      <td>0.014438</td>\n",
       "      <td>0.598609</td>\n",
       "      <td>0.285678</td>\n",
       "      <td>-0.426737</td>\n",
       "      <td>-0.148491</td>\n",
       "      <td>-0.447688</td>\n",
       "      <td>-0.500713</td>\n",
       "      <td>-0.101916</td>\n",
       "      <td>...</td>\n",
       "      <td>1.000000</td>\n",
       "      <td>0.867197</td>\n",
       "      <td>-0.094113</td>\n",
       "      <td>0.072842</td>\n",
       "      <td>-0.016180</td>\n",
       "      <td>0.694676</td>\n",
       "      <td>-0.134657</td>\n",
       "      <td>0.003672</td>\n",
       "      <td>-0.000129</td>\n",
       "      <td>-0.025092</td>\n",
       "    </tr>\n",
       "    <tr>\n",
       "      <th>temp3pm</th>\n",
       "      <td>0.720796</td>\n",
       "      <td>0.984101</td>\n",
       "      <td>-0.073640</td>\n",
       "      <td>0.631686</td>\n",
       "      <td>0.483256</td>\n",
       "      <td>-0.487789</td>\n",
       "      <td>-0.498921</td>\n",
       "      <td>-0.314549</td>\n",
       "      <td>-0.422233</td>\n",
       "      <td>-0.278856</td>\n",
       "      <td>...</td>\n",
       "      <td>0.867197</td>\n",
       "      <td>1.000000</td>\n",
       "      <td>-0.225959</td>\n",
       "      <td>-0.039415</td>\n",
       "      <td>-0.181295</td>\n",
       "      <td>0.767793</td>\n",
       "      <td>-0.452851</td>\n",
       "      <td>0.003252</td>\n",
       "      <td>-0.000318</td>\n",
       "      <td>-0.264061</td>\n",
       "    </tr>\n",
       "    <tr>\n",
       "      <th>raintoday</th>\n",
       "      <td>0.051478</td>\n",
       "      <td>-0.220012</td>\n",
       "      <td>0.553481</td>\n",
       "      <td>-0.213291</td>\n",
       "      <td>-0.327720</td>\n",
       "      <td>0.371288</td>\n",
       "      <td>0.376480</td>\n",
       "      <td>-0.183468</td>\n",
       "      <td>-0.100839</td>\n",
       "      <td>0.297414</td>\n",
       "      <td>...</td>\n",
       "      <td>-0.094113</td>\n",
       "      <td>-0.225959</td>\n",
       "      <td>1.000000</td>\n",
       "      <td>0.218438</td>\n",
       "      <td>0.308621</td>\n",
       "      <td>-0.174028</td>\n",
       "      <td>0.339474</td>\n",
       "      <td>-0.001359</td>\n",
       "      <td>-0.002866</td>\n",
       "      <td>0.453866</td>\n",
       "    </tr>\n",
       "    <tr>\n",
       "      <th>amountOfRain</th>\n",
       "      <td>0.142911</td>\n",
       "      <td>-0.015487</td>\n",
       "      <td>0.302723</td>\n",
       "      <td>-0.042126</td>\n",
       "      <td>-0.298182</td>\n",
       "      <td>0.177473</td>\n",
       "      <td>0.309910</td>\n",
       "      <td>-0.174923</td>\n",
       "      <td>-0.174031</td>\n",
       "      <td>0.204768</td>\n",
       "      <td>...</td>\n",
       "      <td>0.072842</td>\n",
       "      <td>-0.039415</td>\n",
       "      <td>0.218438</td>\n",
       "      <td>1.000000</td>\n",
       "      <td>0.492611</td>\n",
       "      <td>-0.012145</td>\n",
       "      <td>0.283171</td>\n",
       "      <td>-0.003559</td>\n",
       "      <td>-0.008993</td>\n",
       "      <td>0.505059</td>\n",
       "    </tr>\n",
       "    <tr>\n",
       "      <th>raintomorrow</th>\n",
       "      <td>0.088964</td>\n",
       "      <td>-0.144498</td>\n",
       "      <td>0.253773</td>\n",
       "      <td>-0.127257</td>\n",
       "      <td>-0.449261</td>\n",
       "      <td>0.265360</td>\n",
       "      <td>0.447742</td>\n",
       "      <td>-0.255934</td>\n",
       "      <td>-0.231428</td>\n",
       "      <td>0.319410</td>\n",
       "      <td>...</td>\n",
       "      <td>-0.016180</td>\n",
       "      <td>-0.181295</td>\n",
       "      <td>0.308621</td>\n",
       "      <td>0.492611</td>\n",
       "      <td>1.000000</td>\n",
       "      <td>-0.112636</td>\n",
       "      <td>0.406002</td>\n",
       "      <td>0.006578</td>\n",
       "      <td>-0.013366</td>\n",
       "      <td>0.863107</td>\n",
       "    </tr>\n",
       "    <tr>\n",
       "      <th>temp</th>\n",
       "      <td>0.578773</td>\n",
       "      <td>0.779778</td>\n",
       "      <td>-0.060093</td>\n",
       "      <td>0.509947</td>\n",
       "      <td>0.359295</td>\n",
       "      <td>-0.388460</td>\n",
       "      <td>-0.351533</td>\n",
       "      <td>-0.274905</td>\n",
       "      <td>-0.351972</td>\n",
       "      <td>-0.203947</td>\n",
       "      <td>...</td>\n",
       "      <td>0.694676</td>\n",
       "      <td>0.767793</td>\n",
       "      <td>-0.174028</td>\n",
       "      <td>-0.012145</td>\n",
       "      <td>-0.112636</td>\n",
       "      <td>1.000000</td>\n",
       "      <td>-0.318448</td>\n",
       "      <td>0.000834</td>\n",
       "      <td>-0.001049</td>\n",
       "      <td>-0.164796</td>\n",
       "    </tr>\n",
       "    <tr>\n",
       "      <th>humidity</th>\n",
       "      <td>0.068579</td>\n",
       "      <td>-0.406402</td>\n",
       "      <td>0.247128</td>\n",
       "      <td>-0.375537</td>\n",
       "      <td>-0.565134</td>\n",
       "      <td>0.617538</td>\n",
       "      <td>0.907959</td>\n",
       "      <td>-0.052670</td>\n",
       "      <td>0.025834</td>\n",
       "      <td>0.460164</td>\n",
       "      <td>...</td>\n",
       "      <td>-0.134657</td>\n",
       "      <td>-0.452851</td>\n",
       "      <td>0.339474</td>\n",
       "      <td>0.283171</td>\n",
       "      <td>0.406002</td>\n",
       "      <td>-0.318448</td>\n",
       "      <td>1.000000</td>\n",
       "      <td>-0.003714</td>\n",
       "      <td>-0.004449</td>\n",
       "      <td>0.584962</td>\n",
       "    </tr>\n",
       "    <tr>\n",
       "      <th>precipitation3pm</th>\n",
       "      <td>0.003508</td>\n",
       "      <td>0.003385</td>\n",
       "      <td>-0.007556</td>\n",
       "      <td>0.007043</td>\n",
       "      <td>-0.003376</td>\n",
       "      <td>-0.003913</td>\n",
       "      <td>-0.003120</td>\n",
       "      <td>-0.002484</td>\n",
       "      <td>-0.002560</td>\n",
       "      <td>-0.000451</td>\n",
       "      <td>...</td>\n",
       "      <td>0.003672</td>\n",
       "      <td>0.003252</td>\n",
       "      <td>-0.001359</td>\n",
       "      <td>-0.003559</td>\n",
       "      <td>0.006578</td>\n",
       "      <td>0.000834</td>\n",
       "      <td>-0.003714</td>\n",
       "      <td>1.000000</td>\n",
       "      <td>0.004011</td>\n",
       "      <td>0.002956</td>\n",
       "    </tr>\n",
       "    <tr>\n",
       "      <th>precipitation9am</th>\n",
       "      <td>-0.001382</td>\n",
       "      <td>-0.001055</td>\n",
       "      <td>-0.003066</td>\n",
       "      <td>-0.000189</td>\n",
       "      <td>0.004404</td>\n",
       "      <td>-0.001670</td>\n",
       "      <td>-0.003777</td>\n",
       "      <td>0.003967</td>\n",
       "      <td>0.004046</td>\n",
       "      <td>-0.000973</td>\n",
       "      <td>...</td>\n",
       "      <td>-0.000129</td>\n",
       "      <td>-0.000318</td>\n",
       "      <td>-0.002866</td>\n",
       "      <td>-0.008993</td>\n",
       "      <td>-0.013366</td>\n",
       "      <td>-0.001049</td>\n",
       "      <td>-0.004449</td>\n",
       "      <td>0.004011</td>\n",
       "      <td>1.000000</td>\n",
       "      <td>-0.009939</td>\n",
       "    </tr>\n",
       "    <tr>\n",
       "      <th>modelo_vigente</th>\n",
       "      <td>0.135744</td>\n",
       "      <td>-0.212616</td>\n",
       "      <td>0.371184</td>\n",
       "      <td>-0.183537</td>\n",
       "      <td>-0.643104</td>\n",
       "      <td>0.392692</td>\n",
       "      <td>0.644851</td>\n",
       "      <td>-0.371539</td>\n",
       "      <td>-0.322904</td>\n",
       "      <td>0.473697</td>\n",
       "      <td>...</td>\n",
       "      <td>-0.025092</td>\n",
       "      <td>-0.264061</td>\n",
       "      <td>0.453866</td>\n",
       "      <td>0.505059</td>\n",
       "      <td>0.863107</td>\n",
       "      <td>-0.164796</td>\n",
       "      <td>0.584962</td>\n",
       "      <td>0.002956</td>\n",
       "      <td>-0.009939</td>\n",
       "      <td>1.000000</td>\n",
       "    </tr>\n",
       "  </tbody>\n",
       "</table>\n",
       "<p>21 rows × 21 columns</p>\n",
       "</div>"
      ],
      "text/plain": [
       "                   mintemp   maxtemp  rainfall  evaporation  sunshine  \\\n",
       "mintemp           1.000000  0.743674  0.110846     0.510004  0.070680   \n",
       "maxtemp           0.743674  1.000000 -0.069482     0.652247  0.461698   \n",
       "rainfall          0.110846 -0.069482  1.000000    -0.074049 -0.243738   \n",
       "evaporation       0.510004  0.652247 -0.074049     1.000000  0.366577   \n",
       "sunshine          0.070680  0.461698 -0.243738     0.366577  1.000000   \n",
       "humidity9am      -0.177758 -0.496329  0.258127    -0.554104 -0.498855   \n",
       "humidity3pm       0.076333 -0.448043  0.270421    -0.414895 -0.622767   \n",
       "pressure9am      -0.475451 -0.355855 -0.177673    -0.304406  0.035783   \n",
       "pressure3pm      -0.491435 -0.454047 -0.133452    -0.330799 -0.027949   \n",
       "cloud9am          0.115204 -0.262003  0.215699    -0.192775 -0.678801   \n",
       "cloud3pm          0.050917 -0.253183  0.191743    -0.196180 -0.704871   \n",
       "temp9am           0.905552  0.890743  0.014438     0.598609  0.285678   \n",
       "temp3pm           0.720796  0.984101 -0.073640     0.631686  0.483256   \n",
       "raintoday         0.051478 -0.220012  0.553481    -0.213291 -0.327720   \n",
       "amountOfRain      0.142911 -0.015487  0.302723    -0.042126 -0.298182   \n",
       "raintomorrow      0.088964 -0.144498  0.253773    -0.127257 -0.449261   \n",
       "temp              0.578773  0.779778 -0.060093     0.509947  0.359295   \n",
       "humidity          0.068579 -0.406402  0.247128    -0.375537 -0.565134   \n",
       "precipitation3pm  0.003508  0.003385 -0.007556     0.007043 -0.003376   \n",
       "precipitation9am -0.001382 -0.001055 -0.003066    -0.000189  0.004404   \n",
       "modelo_vigente    0.135744 -0.212616  0.371184    -0.183537 -0.643104   \n",
       "\n",
       "                  humidity9am  humidity3pm  pressure9am  pressure3pm  \\\n",
       "mintemp             -0.177758     0.076333    -0.475451    -0.491435   \n",
       "maxtemp             -0.496329    -0.448043    -0.355855    -0.454047   \n",
       "rainfall             0.258127     0.270421    -0.177673    -0.133452   \n",
       "evaporation         -0.554104    -0.414895    -0.304406    -0.330799   \n",
       "sunshine            -0.498855    -0.622767     0.035783    -0.027949   \n",
       "humidity9am          1.000000     0.679847     0.122421     0.178441   \n",
       "humidity3pm          0.679847     1.000000    -0.057837     0.028653   \n",
       "pressure9am          0.122421    -0.057837     1.000000     0.961926   \n",
       "pressure3pm          0.178441     0.028653     0.961926     1.000000   \n",
       "cloud9am             0.432826     0.507677    -0.142788    -0.074193   \n",
       "cloud3pm             0.344565     0.507461    -0.164998    -0.101631   \n",
       "temp9am             -0.426737    -0.148491    -0.447688    -0.500713   \n",
       "temp3pm             -0.487789    -0.498921    -0.314549    -0.422233   \n",
       "raintoday            0.371288     0.376480    -0.183468    -0.100839   \n",
       "amountOfRain         0.177473     0.309910    -0.174923    -0.174031   \n",
       "raintomorrow         0.265360     0.447742    -0.255934    -0.231428   \n",
       "temp                -0.388460    -0.351533    -0.274905    -0.351972   \n",
       "humidity             0.617538     0.907959    -0.052670     0.025834   \n",
       "precipitation3pm    -0.003913    -0.003120    -0.002484    -0.002560   \n",
       "precipitation9am    -0.001670    -0.003777     0.003967     0.004046   \n",
       "modelo_vigente       0.392692     0.644851    -0.371539    -0.322904   \n",
       "\n",
       "                  cloud9am  ...   temp9am   temp3pm  raintoday  amountOfRain  \\\n",
       "mintemp           0.115204  ...  0.905552  0.720796   0.051478      0.142911   \n",
       "maxtemp          -0.262003  ...  0.890743  0.984101  -0.220012     -0.015487   \n",
       "rainfall          0.215699  ...  0.014438 -0.073640   0.553481      0.302723   \n",
       "evaporation      -0.192775  ...  0.598609  0.631686  -0.213291     -0.042126   \n",
       "sunshine         -0.678801  ...  0.285678  0.483256  -0.327720     -0.298182   \n",
       "humidity9am       0.432826  ... -0.426737 -0.487789   0.371288      0.177473   \n",
       "humidity3pm       0.507677  ... -0.148491 -0.498921   0.376480      0.309910   \n",
       "pressure9am      -0.142788  ... -0.447688 -0.314549  -0.183468     -0.174923   \n",
       "pressure3pm      -0.074193  ... -0.500713 -0.422233  -0.100839     -0.174031   \n",
       "cloud9am          1.000000  ... -0.101916 -0.278856   0.297414      0.204768   \n",
       "cloud3pm          0.612633  ... -0.100641 -0.292905   0.272209      0.243504   \n",
       "temp9am          -0.101916  ...  1.000000  0.867197  -0.094113      0.072842   \n",
       "temp3pm          -0.278856  ...  0.867197  1.000000  -0.225959     -0.039415   \n",
       "raintoday         0.297414  ... -0.094113 -0.225959   1.000000      0.218438   \n",
       "amountOfRain      0.204768  ...  0.072842 -0.039415   0.218438      1.000000   \n",
       "raintomorrow      0.319410  ... -0.016180 -0.181295   0.308621      0.492611   \n",
       "temp             -0.203947  ...  0.694676  0.767793  -0.174028     -0.012145   \n",
       "humidity          0.460164  ... -0.134657 -0.452851   0.339474      0.283171   \n",
       "precipitation3pm -0.000451  ...  0.003672  0.003252  -0.001359     -0.003559   \n",
       "precipitation9am -0.000973  ... -0.000129 -0.000318  -0.002866     -0.008993   \n",
       "modelo_vigente    0.473697  ... -0.025092 -0.264061   0.453866      0.505059   \n",
       "\n",
       "                  raintomorrow      temp  humidity  precipitation3pm  \\\n",
       "mintemp               0.088964  0.578773  0.068579          0.003508   \n",
       "maxtemp              -0.144498  0.779778 -0.406402          0.003385   \n",
       "rainfall              0.253773 -0.060093  0.247128         -0.007556   \n",
       "evaporation          -0.127257  0.509947 -0.375537          0.007043   \n",
       "sunshine             -0.449261  0.359295 -0.565134         -0.003376   \n",
       "humidity9am           0.265360 -0.388460  0.617538         -0.003913   \n",
       "humidity3pm           0.447742 -0.351533  0.907959         -0.003120   \n",
       "pressure9am          -0.255934 -0.274905 -0.052670         -0.002484   \n",
       "pressure3pm          -0.231428 -0.351972  0.025834         -0.002560   \n",
       "cloud9am              0.319410 -0.203947  0.460164         -0.000451   \n",
       "cloud3pm              0.389891 -0.199544  0.460723          0.000051   \n",
       "temp9am              -0.016180  0.694676 -0.134657          0.003672   \n",
       "temp3pm              -0.181295  0.767793 -0.452851          0.003252   \n",
       "raintoday             0.308621 -0.174028  0.339474         -0.001359   \n",
       "amountOfRain          0.492611 -0.012145  0.283171         -0.003559   \n",
       "raintomorrow          1.000000 -0.112636  0.406002          0.006578   \n",
       "temp                 -0.112636  1.000000 -0.318448          0.000834   \n",
       "humidity              0.406002 -0.318448  1.000000         -0.003714   \n",
       "precipitation3pm      0.006578  0.000834 -0.003714          1.000000   \n",
       "precipitation9am     -0.013366 -0.001049 -0.004449          0.004011   \n",
       "modelo_vigente        0.863107 -0.164796  0.584962          0.002956   \n",
       "\n",
       "                  precipitation9am  modelo_vigente  \n",
       "mintemp                  -0.001382        0.135744  \n",
       "maxtemp                  -0.001055       -0.212616  \n",
       "rainfall                 -0.003066        0.371184  \n",
       "evaporation              -0.000189       -0.183537  \n",
       "sunshine                  0.004404       -0.643104  \n",
       "humidity9am              -0.001670        0.392692  \n",
       "humidity3pm              -0.003777        0.644851  \n",
       "pressure9am               0.003967       -0.371539  \n",
       "pressure3pm               0.004046       -0.322904  \n",
       "cloud9am                 -0.000973        0.473697  \n",
       "cloud3pm                 -0.005084        0.558326  \n",
       "temp9am                  -0.000129       -0.025092  \n",
       "temp3pm                  -0.000318       -0.264061  \n",
       "raintoday                -0.002866        0.453866  \n",
       "amountOfRain             -0.008993        0.505059  \n",
       "raintomorrow             -0.013366        0.863107  \n",
       "temp                     -0.001049       -0.164796  \n",
       "humidity                 -0.004449        0.584962  \n",
       "precipitation3pm          0.004011        0.002956  \n",
       "precipitation9am          1.000000       -0.009939  \n",
       "modelo_vigente           -0.009939        1.000000  \n",
       "\n",
       "[21 rows x 21 columns]"
      ]
     },
     "execution_count": 13,
     "metadata": {},
     "output_type": "execute_result"
    }
   ],
   "source": [
    "rain.corr()"
   ]
  },
  {
   "cell_type": "code",
   "execution_count": 14,
   "id": "e0e01f6d",
   "metadata": {
    "ExecuteTime": {
     "end_time": "2021-09-29T18:33:44.409001Z",
     "start_time": "2021-09-29T18:33:44.300784Z"
    }
   },
   "outputs": [
    {
     "data": {
      "text/plain": [
       "mintemp             0.088964\n",
       "maxtemp            -0.144498\n",
       "rainfall            0.253773\n",
       "evaporation        -0.127257\n",
       "sunshine           -0.449261\n",
       "humidity9am         0.265360\n",
       "humidity3pm         0.447742\n",
       "pressure9am        -0.255934\n",
       "pressure3pm        -0.231428\n",
       "cloud9am            0.319410\n",
       "cloud3pm            0.389891\n",
       "temp9am            -0.016180\n",
       "temp3pm            -0.181295\n",
       "raintoday           0.308621\n",
       "amountOfRain        0.492611\n",
       "raintomorrow        1.000000\n",
       "temp               -0.112636\n",
       "humidity            0.406002\n",
       "precipitation3pm    0.006578\n",
       "precipitation9am   -0.013366\n",
       "modelo_vigente      0.863107\n",
       "Name: raintomorrow, dtype: float64"
      ]
     },
     "execution_count": 14,
     "metadata": {},
     "output_type": "execute_result"
    }
   ],
   "source": [
    "rain.corr()['raintomorrow']"
   ]
  },
  {
   "cell_type": "code",
   "execution_count": 15,
   "id": "ceafb158",
   "metadata": {
    "ExecuteTime": {
     "end_time": "2021-09-29T18:33:44.424959Z",
     "start_time": "2021-09-29T18:33:44.410997Z"
    }
   },
   "outputs": [],
   "source": [
    "# A coluna \"Amount of rain\" significa o colume de chuva naquele dia, que no caso é amanha. Nao podemos usa-la dado que ela ainda nao existe. E uma coluna de vazamento de dados."
   ]
  },
  {
   "cell_type": "code",
   "execution_count": 141,
   "id": "7ee63624",
   "metadata": {
    "ExecuteTime": {
     "end_time": "2021-09-30T20:22:33.563410Z",
     "start_time": "2021-09-30T20:22:33.080459Z"
    }
   },
   "outputs": [
    {
     "data": {
      "text/plain": [
       "date                0\n",
       "location            0\n",
       "mintemp             0\n",
       "maxtemp             0\n",
       "rainfall            0\n",
       "evaporation         0\n",
       "sunshine            0\n",
       "humidity9am         0\n",
       "humidity3pm         0\n",
       "pressure9am         0\n",
       "pressure3pm         0\n",
       "cloud9am            0\n",
       "cloud3pm            0\n",
       "temp9am             0\n",
       "temp3pm             0\n",
       "raintoday           0\n",
       "amountOfRain        0\n",
       "raintomorrow        0\n",
       "temp                0\n",
       "humidity            0\n",
       "precipitation3pm    0\n",
       "precipitation9am    0\n",
       "modelo_vigente      0\n",
       "dtype: int64"
      ]
     },
     "execution_count": 141,
     "metadata": {},
     "output_type": "execute_result"
    }
   ],
   "source": []
  },
  {
   "cell_type": "code",
   "execution_count": null,
   "id": "7fee15d6",
   "metadata": {},
   "outputs": [],
   "source": []
  },
  {
   "cell_type": "code",
   "execution_count": null,
   "id": "ad66da93",
   "metadata": {},
   "outputs": [],
   "source": []
  },
  {
   "cell_type": "markdown",
   "id": "bce59908",
   "metadata": {},
   "source": [
    "# 4 Previsão - Modelo Árvore de Decisão"
   ]
  },
  {
   "cell_type": "code",
   "execution_count": 16,
   "id": "166c2403",
   "metadata": {
    "ExecuteTime": {
     "end_time": "2021-09-29T18:33:48.918594Z",
     "start_time": "2021-09-29T18:33:44.425987Z"
    }
   },
   "outputs": [],
   "source": [
    "from sklearn.model_selection import train_test_split\n",
    "from sklearn.tree import DecisionTreeClassifier"
   ]
  },
  {
   "cell_type": "markdown",
   "id": "d2146af0",
   "metadata": {},
   "source": [
    "# 4.1 Tentativa com variaveis - amountOfRain & raintomorrow"
   ]
  },
  {
   "cell_type": "code",
   "execution_count": 17,
   "id": "f327a8c0",
   "metadata": {
    "ExecuteTime": {
     "end_time": "2021-09-29T18:33:48.934429Z",
     "start_time": "2021-09-29T18:33:48.919468Z"
    }
   },
   "outputs": [],
   "source": [
    "X=rain[['amountOfRain']]\n",
    "y=rain['raintomorrow']"
   ]
  },
  {
   "cell_type": "code",
   "execution_count": 18,
   "id": "98f750aa",
   "metadata": {
    "ExecuteTime": {
     "end_time": "2021-09-29T18:33:49.042829Z",
     "start_time": "2021-09-29T18:33:48.935427Z"
    }
   },
   "outputs": [],
   "source": [
    "X_train, X_test, y_train, y_test = train_test_split(X, y, test_size=0.2)"
   ]
  },
  {
   "cell_type": "code",
   "execution_count": 19,
   "id": "bb534756",
   "metadata": {
    "ExecuteTime": {
     "end_time": "2021-09-29T18:33:49.134704Z",
     "start_time": "2021-09-29T18:33:49.044246Z"
    }
   },
   "outputs": [
    {
     "data": {
      "text/plain": [
       "DecisionTreeClassifier()"
      ]
     },
     "execution_count": 19,
     "metadata": {},
     "output_type": "execute_result"
    }
   ],
   "source": [
    "tree = DecisionTreeClassifier()\n",
    "tree"
   ]
  },
  {
   "cell_type": "code",
   "execution_count": 20,
   "id": "c5ca1ed5",
   "metadata": {
    "ExecuteTime": {
     "end_time": "2021-09-29T18:33:49.243889Z",
     "start_time": "2021-09-29T18:33:49.136714Z"
    }
   },
   "outputs": [
    {
     "data": {
      "text/plain": [
       "DecisionTreeClassifier()"
      ]
     },
     "execution_count": 20,
     "metadata": {},
     "output_type": "execute_result"
    }
   ],
   "source": [
    "tree.fit(X_train, y_train)\n",
    "\n",
    "#Aprende os padroes do dado"
   ]
  },
  {
   "cell_type": "code",
   "execution_count": 21,
   "id": "1153b41d",
   "metadata": {
    "ExecuteTime": {
     "end_time": "2021-09-29T18:33:49.319757Z",
     "start_time": "2021-09-29T18:33:49.247865Z"
    }
   },
   "outputs": [
    {
     "data": {
      "text/plain": [
       "1.0"
      ]
     },
     "execution_count": 21,
     "metadata": {},
     "output_type": "execute_result"
    }
   ],
   "source": [
    "tree.score(X_test, y_test)\n",
    "\n",
    "# Retorna a acuracia. Queremos saber quao bom a variavel esta no teste."
   ]
  },
  {
   "cell_type": "code",
   "execution_count": 22,
   "id": "efa0c6e1",
   "metadata": {
    "ExecuteTime": {
     "end_time": "2021-09-29T18:33:49.412727Z",
     "start_time": "2021-09-29T18:33:49.323748Z"
    }
   },
   "outputs": [
    {
     "data": {
      "text/plain": [
       "1.0"
      ]
     },
     "execution_count": 22,
     "metadata": {},
     "output_type": "execute_result"
    }
   ],
   "source": [
    "tree.score(X_train, y_train)"
   ]
  },
  {
   "cell_type": "code",
   "execution_count": 23,
   "id": "33f30f5f",
   "metadata": {
    "ExecuteTime": {
     "end_time": "2021-09-29T18:33:49.491793Z",
     "start_time": "2021-09-29T18:33:49.420706Z"
    }
   },
   "outputs": [],
   "source": [
    "# Aplicando a matrix de confusao que pode ser feita de duas formas: 1) confusion_matrix, 2) plot_confusion_matrix"
   ]
  },
  {
   "cell_type": "code",
   "execution_count": 24,
   "id": "6e4b9961",
   "metadata": {
    "ExecuteTime": {
     "end_time": "2021-09-29T18:33:49.584599Z",
     "start_time": "2021-09-29T18:33:49.495787Z"
    }
   },
   "outputs": [
    {
     "data": {
      "text/plain": [
       "array([[9606,    0],\n",
       "       [   0, 2778]], dtype=int64)"
      ]
     },
     "execution_count": 24,
     "metadata": {},
     "output_type": "execute_result"
    }
   ],
   "source": [
    "from sklearn.metrics import plot_confusion_matrix, confusion_matrix\n",
    "\n",
    "confusion_matrix(y_test, tree.predict(X_test))\n"
   ]
  },
  {
   "cell_type": "code",
   "execution_count": 25,
   "id": "9e61a83f",
   "metadata": {
    "ExecuteTime": {
     "end_time": "2021-09-29T18:33:49.866727Z",
     "start_time": "2021-09-29T18:33:49.585590Z"
    }
   },
   "outputs": [
    {
     "data": {
      "image/png": "[encoded data removed]",
      "text/plain": [
       "<Figure size 432x288 with 2 Axes>"
      ]
     },
     "metadata": {
      "needs_background": "light"
     },
     "output_type": "display_data"
    }
   ],
   "source": [
    "plot_confusion_matrix(tree, X_test, y_test, values_format='.0f')\n",
    "plt.grid(False)"
   ]
  },
  {
   "cell_type": "code",
   "execution_count": 26,
   "id": "695272ca",
   "metadata": {
    "ExecuteTime": {
     "end_time": "2021-09-29T18:33:49.882703Z",
     "start_time": "2021-09-29T18:33:49.868723Z"
    }
   },
   "outputs": [],
   "source": [
    "#Meu modelo me deu acuracia no treino e no teste iguais a 1, isto é, parece que conseguimos um modelo perfeito. O que nao pode acontecer. Nao é overfit porque ele esta performando bem no teste.\n",
    "\n"
   ]
  },
  {
   "cell_type": "code",
   "execution_count": 27,
   "id": "ad9eca88",
   "metadata": {
    "ExecuteTime": {
     "end_time": "2021-09-29T18:33:50.149900Z",
     "start_time": "2021-09-29T18:33:49.885687Z"
    }
   },
   "outputs": [
    {
     "data": {
      "image/png": "[encoded data removed]",
      "text/plain": [
       "<Figure size 432x288 with 2 Axes>"
      ]
     },
     "metadata": {
      "needs_background": "light"
     },
     "output_type": "display_data"
    }
   ],
   "source": [
    "plot_confusion_matrix(tree, X_train, y_train, values_format='.0f')\n",
    "plt.grid(False)"
   ]
  },
  {
   "cell_type": "code",
   "execution_count": 28,
   "id": "294bb168",
   "metadata": {
    "ExecuteTime": {
     "end_time": "2021-09-29T18:33:50.681364Z",
     "start_time": "2021-09-29T18:33:50.150898Z"
    }
   },
   "outputs": [
    {
     "data": {
      "image/png": "[encoded data removed]",
      "text/plain": [
       "<Figure size 3600x2520 with 1 Axes>"
      ]
     },
     "metadata": {
      "needs_background": "light"
     },
     "output_type": "display_data"
    }
   ],
   "source": [
    "from sklearn.tree import plot_tree\n",
    "import matplotlib.pyplot as plt\n",
    "plt.figure(figsize=(50,35))\n",
    "plot_tree(tree,feature_names=X_train.columns,class_names=[\"não_choveu\",\"choveu\"],proportion=True,filled=True)\n",
    "plt.show()"
   ]
  },
  {
   "cell_type": "code",
   "execution_count": 29,
   "id": "d2184de3",
   "metadata": {
    "ExecuteTime": {
     "end_time": "2021-09-29T18:33:50.696301Z",
     "start_time": "2021-09-29T18:33:50.683340Z"
    }
   },
   "outputs": [
    {
     "data": {
      "text/plain": [
       "0    0.777244\n",
       "1    0.222756\n",
       "Name: raintomorrow, dtype: float64"
      ]
     },
     "execution_count": 29,
     "metadata": {},
     "output_type": "execute_result"
    }
   ],
   "source": [
    "y_train.value_counts(normalize=True)"
   ]
  },
  {
   "cell_type": "code",
   "execution_count": 30,
   "id": "4ee74a61",
   "metadata": {
    "ExecuteTime": {
     "end_time": "2021-09-29T18:33:50.791052Z",
     "start_time": "2021-09-29T18:33:50.698294Z"
    }
   },
   "outputs": [],
   "source": [
    "# 4.2 Tentativa com variaveis - sunshine & raintomorrow"
   ]
  },
  {
   "cell_type": "code",
   "execution_count": 31,
   "id": "08f3b2de",
   "metadata": {
    "ExecuteTime": {
     "end_time": "2021-09-29T18:33:50.885942Z",
     "start_time": "2021-09-29T18:33:50.792049Z"
    }
   },
   "outputs": [],
   "source": [
    "from sklearn.model_selection import train_test_split\n",
    "from sklearn.tree import DecisionTreeClassifier"
   ]
  },
  {
   "cell_type": "code",
   "execution_count": 32,
   "id": "7ce96914",
   "metadata": {
    "ExecuteTime": {
     "end_time": "2021-09-29T18:33:51.043269Z",
     "start_time": "2021-09-29T18:33:50.887929Z"
    }
   },
   "outputs": [],
   "source": [
    "X2=rain[['sunshine']]\n",
    "y2=rain['raintomorrow']"
   ]
  },
  {
   "cell_type": "code",
   "execution_count": 33,
   "id": "87e92cd2",
   "metadata": {
    "ExecuteTime": {
     "end_time": "2021-09-29T18:33:51.119968Z",
     "start_time": "2021-09-29T18:33:51.045262Z"
    }
   },
   "outputs": [],
   "source": [
    "X2_train, X2_test, y2_train, y2_test = train_test_split(X2, y2, test_size=0.2)"
   ]
  },
  {
   "cell_type": "code",
   "execution_count": 34,
   "id": "d4f07591",
   "metadata": {
    "ExecuteTime": {
     "end_time": "2021-09-29T18:33:51.198935Z",
     "start_time": "2021-09-29T18:33:51.121966Z"
    }
   },
   "outputs": [
    {
     "data": {
      "text/plain": [
       "DecisionTreeClassifier()"
      ]
     },
     "execution_count": 34,
     "metadata": {},
     "output_type": "execute_result"
    }
   ],
   "source": [
    "tree2 = DecisionTreeClassifier()\n",
    "tree2"
   ]
  },
  {
   "cell_type": "code",
   "execution_count": 35,
   "id": "ebee9df6",
   "metadata": {
    "ExecuteTime": {
     "end_time": "2021-09-29T18:33:51.309812Z",
     "start_time": "2021-09-29T18:33:51.200922Z"
    }
   },
   "outputs": [
    {
     "data": {
      "text/plain": [
       "DecisionTreeClassifier()"
      ]
     },
     "execution_count": 35,
     "metadata": {},
     "output_type": "execute_result"
    }
   ],
   "source": [
    "tree2.fit(X2_train, y2_train)\n",
    "\n",
    "#Aprende os padroes do dado"
   ]
  },
  {
   "cell_type": "code",
   "execution_count": 36,
   "id": "12e84f69",
   "metadata": {
    "ExecuteTime": {
     "end_time": "2021-09-29T18:33:51.419668Z",
     "start_time": "2021-09-29T18:33:51.310803Z"
    }
   },
   "outputs": [
    {
     "data": {
      "text/plain": [
       "0.7930394056847545"
      ]
     },
     "execution_count": 36,
     "metadata": {},
     "output_type": "execute_result"
    }
   ],
   "source": [
    "tree2.score(X2_test, y2_test)\n",
    "\n",
    "# Retorna a acuracia. Queremos saber quao bom a variavel esta no teste."
   ]
  },
  {
   "cell_type": "code",
   "execution_count": 37,
   "id": "87e9922e",
   "metadata": {
    "ExecuteTime": {
     "end_time": "2021-09-29T18:33:51.497984Z",
     "start_time": "2021-09-29T18:33:51.420674Z"
    }
   },
   "outputs": [
    {
     "data": {
      "text/plain": [
       "0.7984010982355554"
      ]
     },
     "execution_count": 37,
     "metadata": {},
     "output_type": "execute_result"
    }
   ],
   "source": [
    "tree2.score(X2_train, y2_train)"
   ]
  },
  {
   "cell_type": "code",
   "execution_count": 38,
   "id": "c6cbb4c8",
   "metadata": {
    "ExecuteTime": {
     "end_time": "2021-09-29T18:33:51.560566Z",
     "start_time": "2021-09-29T18:33:51.498990Z"
    }
   },
   "outputs": [],
   "source": [
    " # Aplicando a matrix de confusao que pode ser feita de duas formas: 1) confusion_matrix, 2) plot_confusion_matrix"
   ]
  },
  {
   "cell_type": "code",
   "execution_count": 39,
   "id": "50d8c504",
   "metadata": {
    "ExecuteTime": {
     "end_time": "2021-09-29T18:33:51.656357Z",
     "start_time": "2021-09-29T18:33:51.615450Z"
    }
   },
   "outputs": [
    {
     "data": {
      "text/plain": [
       "array([[9123,  439],\n",
       "       [2124,  698]], dtype=int64)"
      ]
     },
     "execution_count": 39,
     "metadata": {},
     "output_type": "execute_result"
    }
   ],
   "source": [
    "# 1) confusion_matrix\n",
    "\n",
    "from sklearn.metrics import plot_confusion_matrix, confusion_matrix\n",
    "\n",
    "confusion_matrix(y2_test, tree2.predict(X2_test))"
   ]
  },
  {
   "cell_type": "code",
   "execution_count": 40,
   "id": "cf3755e8",
   "metadata": {
    "ExecuteTime": {
     "end_time": "2021-09-29T18:33:51.887555Z",
     "start_time": "2021-09-29T18:33:51.657355Z"
    }
   },
   "outputs": [
    {
     "data": {
      "image/png": "[encoded data removed]",
      "text/plain": [
       "<Figure size 432x288 with 2 Axes>"
      ]
     },
     "metadata": {
      "needs_background": "light"
     },
     "output_type": "display_data"
    }
   ],
   "source": [
    "# 2) plot_confusion_matrix\n",
    "\n",
    "plot_confusion_matrix(tree, X2_test, y2_test, values_format='.0f')\n",
    "\n",
    "plt.grid(False)"
   ]
  },
  {
   "cell_type": "code",
   "execution_count": 41,
   "id": "025e1bb7",
   "metadata": {
    "ExecuteTime": {
     "end_time": "2021-09-29T18:33:51.903174Z",
     "start_time": "2021-09-29T18:33:51.888210Z"
    }
   },
   "outputs": [],
   "source": [
    "# TN = 397\n",
    "# FP = 9198 (vai chover e nao chove)\n",
    "# FN = 651\n",
    "# TP = 2138"
   ]
  },
  {
   "cell_type": "code",
   "execution_count": 42,
   "id": "6b609926",
   "metadata": {
    "ExecuteTime": {
     "end_time": "2021-09-29T18:33:51.981772Z",
     "start_time": "2021-09-29T18:33:51.905167Z"
    }
   },
   "outputs": [],
   "source": [
    "# Esse é o modelo baseline (com sunshine). Nosso cliente será um agricultor, vamos entrao focar em modelos que diminuam o falso negativo."
   ]
  },
  {
   "cell_type": "code",
   "execution_count": 43,
   "id": "c2ca05ef",
   "metadata": {
    "ExecuteTime": {
     "end_time": "2021-09-29T18:33:52.059790Z",
     "start_time": "2021-09-29T18:33:51.983767Z"
    }
   },
   "outputs": [],
   "source": [
    "# Vamos realizar algum metodo de poda da arvore - com as mesmas variaveis (sunshine e raintomorrow)"
   ]
  },
  {
   "cell_type": "code",
   "execution_count": 44,
   "id": "8b69c0c6",
   "metadata": {
    "ExecuteTime": {
     "end_time": "2021-09-29T18:33:52.355114Z",
     "start_time": "2021-09-29T18:33:52.060789Z"
    }
   },
   "outputs": [
    {
     "data": {
      "text/plain": [
       "<sklearn.metrics._plot.confusion_matrix.ConfusionMatrixDisplay at 0x1e8230de880>"
      ]
     },
     "execution_count": 44,
     "metadata": {},
     "output_type": "execute_result"
    },
    {
     "data": {
      "image/png": "[encoded data removed]",
      "text/plain": [
       "<Figure size 432x288 with 2 Axes>"
      ]
     },
     "metadata": {
      "needs_background": "light"
     },
     "output_type": "display_data"
    }
   ],
   "source": [
    "tree3 = DecisionTreeClassifier(max_depth=3)\n",
    "\n",
    "tree3.fit(X2_train, y2_train)\n",
    "\n",
    "plot_confusion_matrix(tree3, X2_test, y2_test, values_format='.0f')"
   ]
  },
  {
   "cell_type": "code",
   "execution_count": 45,
   "id": "70f256ea",
   "metadata": {
    "ExecuteTime": {
     "end_time": "2021-09-29T18:33:52.371074Z",
     "start_time": "2021-09-29T18:33:52.357109Z"
    }
   },
   "outputs": [],
   "source": [
    "# Vamos realizar algum metodo de poda da arvore - com todas as colunas numericas"
   ]
  },
  {
   "cell_type": "code",
   "execution_count": 46,
   "id": "2ae356a9",
   "metadata": {
    "ExecuteTime": {
     "end_time": "2021-09-29T18:33:52.450869Z",
     "start_time": "2021-09-29T18:33:52.373067Z"
    }
   },
   "outputs": [
    {
     "data": {
      "text/plain": [
       "Index(['date', 'location', 'mintemp', 'maxtemp', 'rainfall', 'evaporation',\n",
       "       'sunshine', 'humidity9am', 'humidity3pm', 'pressure9am', 'pressure3pm',\n",
       "       'cloud9am', 'cloud3pm', 'temp9am', 'temp3pm', 'raintoday',\n",
       "       'amountOfRain', 'raintomorrow', 'temp', 'humidity', 'precipitation3pm',\n",
       "       'precipitation9am', 'modelo_vigente'],\n",
       "      dtype='object')"
      ]
     },
     "execution_count": 46,
     "metadata": {},
     "output_type": "execute_result"
    }
   ],
   "source": [
    "rain.columns"
   ]
  },
  {
   "cell_type": "code",
   "execution_count": 47,
   "id": "111c066a",
   "metadata": {
    "ExecuteTime": {
     "end_time": "2021-09-29T18:33:52.543787Z",
     "start_time": "2021-09-29T18:33:52.453862Z"
    }
   },
   "outputs": [],
   "source": [
    "X3=rain[[ 'mintemp', 'maxtemp', 'rainfall', 'evaporation', 'sunshine', 'humidity9am', 'humidity3pm', 'pressure9am', 'pressure3pm',\n",
    "'cloud9am', 'cloud3pm', 'temp9am', 'temp3pm', 'raintoday', 'temp', 'humidity', 'precipitation3pm','precipitation9am']]\n",
    "y2=rain['raintomorrow']"
   ]
  },
  {
   "cell_type": "code",
   "execution_count": 48,
   "id": "a1d43603",
   "metadata": {
    "ExecuteTime": {
     "end_time": "2021-09-29T18:33:52.638663Z",
     "start_time": "2021-09-29T18:33:52.544784Z"
    }
   },
   "outputs": [],
   "source": [
    "X3_train, X3_test, y2_train, y2_test = train_test_split(X3, y2, test_size=0.2)   "
   ]
  },
  {
   "cell_type": "code",
   "execution_count": 49,
   "id": "e8be3672",
   "metadata": {
    "ExecuteTime": {
     "end_time": "2021-09-29T18:33:52.714891Z",
     "start_time": "2021-09-29T18:33:52.639433Z"
    }
   },
   "outputs": [
    {
     "data": {
      "text/plain": [
       "DecisionTreeClassifier()"
      ]
     },
     "execution_count": 49,
     "metadata": {},
     "output_type": "execute_result"
    }
   ],
   "source": [
    "tree4 = DecisionTreeClassifier()\n",
    "tree4"
   ]
  },
  {
   "cell_type": "code",
   "execution_count": 50,
   "id": "eda5b4b2",
   "metadata": {
    "ExecuteTime": {
     "end_time": "2021-09-29T18:33:53.375644Z",
     "start_time": "2021-09-29T18:33:52.715889Z"
    }
   },
   "outputs": [
    {
     "data": {
      "text/plain": [
       "DecisionTreeClassifier()"
      ]
     },
     "execution_count": 50,
     "metadata": {},
     "output_type": "execute_result"
    }
   ],
   "source": [
    "tree4.fit(X3_train, y2_train)\n",
    "\n",
    "#Aprende os padroes do dado"
   ]
  },
  {
   "cell_type": "code",
   "execution_count": 51,
   "id": "a0346c55",
   "metadata": {
    "ExecuteTime": {
     "end_time": "2021-09-29T18:33:53.391602Z",
     "start_time": "2021-09-29T18:33:53.377647Z"
    }
   },
   "outputs": [
    {
     "data": {
      "text/plain": [
       "0.7859334625322998"
      ]
     },
     "execution_count": 51,
     "metadata": {},
     "output_type": "execute_result"
    }
   ],
   "source": [
    "tree4.score(X3_test, y2_test)\n",
    "\n",
    "# Retorna a acuracia. Queremos saber quao bom a variavel esta no teste."
   ]
  },
  {
   "cell_type": "code",
   "execution_count": 52,
   "id": "2e0a6720",
   "metadata": {
    "ExecuteTime": {
     "end_time": "2021-09-29T18:33:53.593228Z",
     "start_time": "2021-09-29T18:33:53.393618Z"
    }
   },
   "outputs": [
    {
     "data": {
      "text/plain": [
       "1.0"
      ]
     },
     "execution_count": 52,
     "metadata": {},
     "output_type": "execute_result"
    }
   ],
   "source": [
    "tree4.score(X3_train, y2_train)"
   ]
  },
  {
   "cell_type": "code",
   "execution_count": 53,
   "id": "9ce51fa8",
   "metadata": {
    "ExecuteTime": {
     "end_time": "2021-09-29T18:34:00.756966Z",
     "start_time": "2021-09-29T18:33:53.595211Z"
    }
   },
   "outputs": [
    {
     "data": {
      "application/vnd.jupyter.widget-view+json": {
       "model_id": "74b19b505ee64277875c3da1d8dca574",
       "version_major": 2,
       "version_minor": 0
      },
      "text/plain": [
       "  0%|          | 0/19 [00:00<?, ?it/s]"
      ]
     },
     "metadata": {},
     "output_type": "display_data"
    },
    {
     "data": {
      "text/plain": [
       "8"
      ]
     },
     "execution_count": 53,
     "metadata": {},
     "output_type": "execute_result"
    },
    {
     "data": {
      "image/png": "[encoded data removed]",
      "text/plain": [
       "<Figure size 432x288 with 1 Axes>"
      ]
     },
     "metadata": {
      "needs_background": "light"
     },
     "output_type": "display_data"
    }
   ],
   "source": [
    "# Encontrar o ponto otimo referente a curva ROC para ser utilizado no max_depth\n",
    "\n",
    "from sklearn.metrics import roc_auc_score\n",
    "from tqdm.auto import tqdm\n",
    "complexity = []\n",
    "error_test = []\n",
    "error_train = []\n",
    "for K in tqdm(range(1, 20)):\n",
    "    complexity.append(K)\n",
    "    knn = DecisionTreeClassifier(max_depth=K)\n",
    "    knn.fit(X3_train, y2_train)\n",
    "    error_train.append(1 - roc_auc_score(y2_train, knn.predict(X3_train)))\n",
    "    error_test.append(1 - roc_auc_score(y2_test, knn.predict(X3_test)))\n",
    "plt.plot(complexity, error_train, '-', label='Training Error')\n",
    "plt.plot(complexity, error_test, '-', label='Test Error')\n",
    "plt.hlines(min(error_test), 0, 20, colors='red', linestyles='dashed')\n",
    "plt.xlabel('Complexity')\n",
    "plt.ylabel('Error')\n",
    "plt.legend()\n",
    "error_test.index(min(error_test))+1"
   ]
  },
  {
   "cell_type": "code",
   "execution_count": 54,
   "id": "0519e492",
   "metadata": {
    "ExecuteTime": {
     "end_time": "2021-09-29T18:34:01.260857Z",
     "start_time": "2021-09-29T18:34:00.758929Z"
    }
   },
   "outputs": [
    {
     "data": {
      "text/plain": [
       "<sklearn.metrics._plot.confusion_matrix.ConfusionMatrixDisplay at 0x1e8233b21f0>"
      ]
     },
     "execution_count": 54,
     "metadata": {},
     "output_type": "execute_result"
    },
    {
     "data": {
      "image/png": "[encoded data removed]",
      "text/plain": [
       "<Figure size 432x288 with 2 Axes>"
      ]
     },
     "metadata": {
      "needs_background": "light"
     },
     "output_type": "display_data"
    }
   ],
   "source": [
    "tree4 = DecisionTreeClassifier(max_depth=8)\n",
    "\n",
    "tree4.fit(X3_train, y2_train)\n",
    "\n",
    "plot_confusion_matrix(tree4, X3_test, y2_test, values_format='.0f')"
   ]
  },
  {
   "cell_type": "code",
   "execution_count": 58,
   "id": "811cc550",
   "metadata": {
    "ExecuteTime": {
     "end_time": "2021-09-29T18:35:29.749109Z",
     "start_time": "2021-09-29T18:35:29.726171Z"
    }
   },
   "outputs": [
    {
     "data": {
      "text/html": [
       "<div>\n",
       "<style scoped>\n",
       "    .dataframe tbody tr th:only-of-type {\n",
       "        vertical-align: middle;\n",
       "    }\n",
       "\n",
       "    .dataframe tbody tr th {\n",
       "        vertical-align: top;\n",
       "    }\n",
       "\n",
       "    .dataframe thead th {\n",
       "        text-align: right;\n",
       "    }\n",
       "</style>\n",
       "<table border=\"1\" class=\"dataframe\">\n",
       "  <thead>\n",
       "    <tr style=\"text-align: right;\">\n",
       "      <th></th>\n",
       "      <th>0</th>\n",
       "      <th>1</th>\n",
       "    </tr>\n",
       "  </thead>\n",
       "  <tbody>\n",
       "    <tr>\n",
       "      <th>0</th>\n",
       "      <td>0.006903</td>\n",
       "      <td>mintemp</td>\n",
       "    </tr>\n",
       "    <tr>\n",
       "      <th>1</th>\n",
       "      <td>0.007308</td>\n",
       "      <td>maxtemp</td>\n",
       "    </tr>\n",
       "    <tr>\n",
       "      <th>2</th>\n",
       "      <td>0.041303</td>\n",
       "      <td>rainfall</td>\n",
       "    </tr>\n",
       "    <tr>\n",
       "      <th>3</th>\n",
       "      <td>0.00584</td>\n",
       "      <td>evaporation</td>\n",
       "    </tr>\n",
       "    <tr>\n",
       "      <th>4</th>\n",
       "      <td>0.159311</td>\n",
       "      <td>sunshine</td>\n",
       "    </tr>\n",
       "    <tr>\n",
       "      <th>5</th>\n",
       "      <td>0.01281</td>\n",
       "      <td>humidity9am</td>\n",
       "    </tr>\n",
       "    <tr>\n",
       "      <th>6</th>\n",
       "      <td>0.565928</td>\n",
       "      <td>humidity3pm</td>\n",
       "    </tr>\n",
       "    <tr>\n",
       "      <th>7</th>\n",
       "      <td>0.007521</td>\n",
       "      <td>pressure9am</td>\n",
       "    </tr>\n",
       "    <tr>\n",
       "      <th>8</th>\n",
       "      <td>0.135102</td>\n",
       "      <td>pressure3pm</td>\n",
       "    </tr>\n",
       "    <tr>\n",
       "      <th>9</th>\n",
       "      <td>0.003637</td>\n",
       "      <td>cloud9am</td>\n",
       "    </tr>\n",
       "    <tr>\n",
       "      <th>10</th>\n",
       "      <td>0.013611</td>\n",
       "      <td>cloud3pm</td>\n",
       "    </tr>\n",
       "    <tr>\n",
       "      <th>11</th>\n",
       "      <td>0.005828</td>\n",
       "      <td>temp9am</td>\n",
       "    </tr>\n",
       "    <tr>\n",
       "      <th>12</th>\n",
       "      <td>0.005646</td>\n",
       "      <td>temp3pm</td>\n",
       "    </tr>\n",
       "    <tr>\n",
       "      <th>13</th>\n",
       "      <td>0.0</td>\n",
       "      <td>raintoday</td>\n",
       "    </tr>\n",
       "    <tr>\n",
       "      <th>14</th>\n",
       "      <td>0.00472</td>\n",
       "      <td>temp</td>\n",
       "    </tr>\n",
       "    <tr>\n",
       "      <th>15</th>\n",
       "      <td>0.015299</td>\n",
       "      <td>humidity</td>\n",
       "    </tr>\n",
       "    <tr>\n",
       "      <th>16</th>\n",
       "      <td>0.0019</td>\n",
       "      <td>precipitation3pm</td>\n",
       "    </tr>\n",
       "    <tr>\n",
       "      <th>17</th>\n",
       "      <td>0.007331</td>\n",
       "      <td>precipitation9am</td>\n",
       "    </tr>\n",
       "  </tbody>\n",
       "</table>\n",
       "</div>"
      ],
      "text/plain": [
       "           0                 1\n",
       "0   0.006903           mintemp\n",
       "1   0.007308           maxtemp\n",
       "2   0.041303          rainfall\n",
       "3    0.00584       evaporation\n",
       "4   0.159311          sunshine\n",
       "5    0.01281       humidity9am\n",
       "6   0.565928       humidity3pm\n",
       "7   0.007521       pressure9am\n",
       "8   0.135102       pressure3pm\n",
       "9   0.003637          cloud9am\n",
       "10  0.013611          cloud3pm\n",
       "11  0.005828           temp9am\n",
       "12  0.005646           temp3pm\n",
       "13       0.0         raintoday\n",
       "14   0.00472              temp\n",
       "15  0.015299          humidity\n",
       "16    0.0019  precipitation3pm\n",
       "17  0.007331  precipitation9am"
      ]
     },
     "execution_count": 58,
     "metadata": {},
     "output_type": "execute_result"
    }
   ],
   "source": [
    "pd.DataFrame([tree4.feature_importances_,X3.columns]).T"
   ]
  },
  {
   "cell_type": "markdown",
   "id": "955257f2",
   "metadata": {},
   "source": [
    "# Previsão - Utilizando os Conceitos de LGBM"
   ]
  },
  {
   "cell_type": "code",
   "execution_count": 59,
   "id": "34702f0e",
   "metadata": {
    "ExecuteTime": {
     "end_time": "2021-09-30T12:11:52.900762Z",
     "start_time": "2021-09-30T12:11:19.011724Z"
    }
   },
   "outputs": [
    {
     "name": "stdout",
     "output_type": "stream",
     "text": [
      "Collecting lightgbmNote: you may need to restart the kernel to use updated packages.\n",
      "  Downloading lightgbm-3.2.1-py3-none-win_amd64.whl (1.0 MB)\n",
      "Requirement already satisfied: scipy in c:\\users\\isabela\\anaconda3\\lib\\site-packages (from lightgbm) (1.6.2)\n",
      "Requirement already satisfied: numpy in c:\\users\\isabela\\anaconda3\\lib\\site-packages (from lightgbm) (1.19.5)\n",
      "Requirement already satisfied: wheel in c:\\users\\isabela\\anaconda3\\lib\\site-packages (from lightgbm) (0.36.2)\n",
      "Requirement already satisfied: scikit-learn!=0.22.0 in c:\\users\\isabela\\anaconda3\\lib\\site-packages (from lightgbm) (0.24.1)\n",
      "Requirement already satisfied: joblib>=0.11 in c:\\users\\isabela\\anaconda3\\lib\\site-packages (from scikit-learn!=0.22.0->lightgbm) (1.0.1)\n",
      "Requirement already satisfied: threadpoolctl>=2.0.0 in c:\\users\\isabela\\anaconda3\\lib\\site-packages (from scikit-learn!=0.22.0->lightgbm) (2.1.0)\n",
      "Installing collected packages: lightgbm\n",
      "Successfully installed lightgbm-3.2.1\n",
      "\n"
     ]
    }
   ],
   "source": [
    "pip install lightgbm"
   ]
  },
  {
   "cell_type": "code",
   "execution_count": 60,
   "id": "f907a66f",
   "metadata": {
    "ExecuteTime": {
     "end_time": "2021-09-30T12:12:30.419406Z",
     "start_time": "2021-09-30T12:12:14.191925Z"
    }
   },
   "outputs": [],
   "source": [
    "from lightgbm import LGBMClassifier"
   ]
  },
  {
   "cell_type": "code",
   "execution_count": 61,
   "id": "8cec61e1",
   "metadata": {
    "ExecuteTime": {
     "end_time": "2021-09-30T12:15:09.061469Z",
     "start_time": "2021-09-30T12:15:08.473772Z"
    }
   },
   "outputs": [
    {
     "data": {
      "text/plain": [
       "LGBMClassifier(colsample_bytree=0.33, max_depth=3, n_estimators=50)"
      ]
     },
     "execution_count": 61,
     "metadata": {},
     "output_type": "execute_result"
    }
   ],
   "source": [
    "lgb = LGBMClassifier(max_depth=3, n_estimators=50, colsample_bytree=.33, n_jobs=-1)\n",
    "lgb.fit(X3_train,y2_train)\n",
    "\n",
    "# Todos os indicadores que sao definidos dentro do parenteses devem ser testados. mas_depth sera a quantidade de decisões que minha arvore tomará. n_estimators"
   ]
  },
  {
   "cell_type": "code",
   "execution_count": 62,
   "id": "f24a91cb",
   "metadata": {
    "ExecuteTime": {
     "end_time": "2021-09-30T12:15:45.560611Z",
     "start_time": "2021-09-30T12:15:45.183980Z"
    }
   },
   "outputs": [
    {
     "name": "stdout",
     "output_type": "stream",
     "text": [
      "0.8714321851510728\n",
      "0.8694124805202519\n"
     ]
    }
   ],
   "source": [
    "print(roc_auc_score(y2_train, lgb.predict_proba(X3_train)[:, 1]))\n",
    "print(roc_auc_score(y2_test, lgb.predict_proba(X3_test)[:, 1]))"
   ]
  },
  {
   "cell_type": "code",
   "execution_count": 64,
   "id": "7807dbb8",
   "metadata": {
    "ExecuteTime": {
     "end_time": "2021-09-30T12:32:32.988644Z",
     "start_time": "2021-09-30T12:32:32.723364Z"
    }
   },
   "outputs": [
    {
     "data": {
      "image/png": "[encoded data removed]",
      "text/plain": [
       "<Figure size 432x288 with 2 Axes>"
      ]
     },
     "metadata": {
      "needs_background": "light"
     },
     "output_type": "display_data"
    }
   ],
   "source": [
    "plot_confusion_matrix(lgb, X3_test, y2_test, values_format='.0f')\n",
    "#plt.grid(False) So precisamos usar uma vez e ele tira uma grade"
   ]
  },
  {
   "cell_type": "code",
   "execution_count": 94,
   "id": "580cf8eb",
   "metadata": {
    "ExecuteTime": {
     "end_time": "2021-09-30T12:50:47.351280Z",
     "start_time": "2021-09-30T12:50:47.333328Z"
    }
   },
   "outputs": [],
   "source": [
    "from lightgbm import plot_importance"
   ]
  },
  {
   "cell_type": "code",
   "execution_count": 95,
   "id": "1ddbdac1",
   "metadata": {
    "ExecuteTime": {
     "end_time": "2021-09-30T12:51:11.383596Z",
     "start_time": "2021-09-30T12:51:10.887254Z"
    }
   },
   "outputs": [
    {
     "data": {
      "text/plain": [
       "<AxesSubplot:title={'center':'Feature importance'}, xlabel='Feature importance', ylabel='Features'>"
      ]
     },
     "execution_count": 95,
     "metadata": {},
     "output_type": "execute_result"
    },
    {
     "data": {
      "image/png": "[encoded data removed]",
      "text/plain": [
       "<Figure size 432x288 with 1 Axes>"
      ]
     },
     "metadata": {
      "needs_background": "light"
     },
     "output_type": "display_data"
    }
   ],
   "source": [
    "plot_importance(lgb, importance_type='gain')"
   ]
  },
  {
   "cell_type": "code",
   "execution_count": 96,
   "id": "64f96ab0",
   "metadata": {
    "ExecuteTime": {
     "end_time": "2021-09-30T12:55:44.988065Z",
     "start_time": "2021-09-30T12:55:44.975100Z"
    }
   },
   "outputs": [],
   "source": [
    "X4=rain[[ 'sunshine', 'humidity3pm', 'pressure9am', 'pressure3pm']]\n",
    "y2=rain['raintomorrow']"
   ]
  },
  {
   "cell_type": "code",
   "execution_count": 97,
   "id": "b72ed7de",
   "metadata": {
    "ExecuteTime": {
     "end_time": "2021-09-30T12:56:37.784468Z",
     "start_time": "2021-09-30T12:56:37.760545Z"
    }
   },
   "outputs": [],
   "source": [
    "X4_train, X4_test, y2_train, y2_test = train_test_split(X4, y2, test_size=0.2)  "
   ]
  },
  {
   "cell_type": "code",
   "execution_count": 98,
   "id": "2203db1b",
   "metadata": {
    "ExecuteTime": {
     "end_time": "2021-09-30T12:56:39.786964Z",
     "start_time": "2021-09-30T12:56:39.777987Z"
    }
   },
   "outputs": [],
   "source": [
    "from lightgbm import LGBMClassifier"
   ]
  },
  {
   "cell_type": "code",
   "execution_count": 108,
   "id": "cc9295e1",
   "metadata": {
    "ExecuteTime": {
     "end_time": "2021-09-30T12:58:06.861231Z",
     "start_time": "2021-09-30T12:58:06.735057Z"
    }
   },
   "outputs": [
    {
     "data": {
      "text/plain": [
       "LGBMClassifier(colsample_bytree=0.33, max_depth=3, n_estimators=50)"
      ]
     },
     "execution_count": 108,
     "metadata": {},
     "output_type": "execute_result"
    }
   ],
   "source": [
    "lgb = LGBMClassifier(max_depth=3, n_estimators=50, colsample_bytree=.33, n_jobs=-1)\n",
    "lgb.fit(X4_train,y2_train)"
   ]
  },
  {
   "cell_type": "code",
   "execution_count": 109,
   "id": "544da554",
   "metadata": {
    "ExecuteTime": {
     "end_time": "2021-09-30T12:58:09.596775Z",
     "start_time": "2021-09-30T12:58:09.328296Z"
    }
   },
   "outputs": [
    {
     "data": {
      "text/plain": [
       "<sklearn.metrics._plot.confusion_matrix.ConfusionMatrixDisplay at 0x1e827722f10>"
      ]
     },
     "execution_count": 109,
     "metadata": {},
     "output_type": "execute_result"
    },
    {
     "data": {
      "image/png": "[encoded data removed]",
      "text/plain": [
       "<Figure size 432x288 with 2 Axes>"
      ]
     },
     "metadata": {
      "needs_background": "light"
     },
     "output_type": "display_data"
    }
   ],
   "source": [
    "plot_confusion_matrix(lgb, X4_test, y2_test, values_format='.0f')"
   ]
  },
  {
   "cell_type": "code",
   "execution_count": null,
   "id": "1cc66c44",
   "metadata": {},
   "outputs": [],
   "source": [
    "# Tentativa - Modelo com 1 coluna apenas, a primeira do data set (mintemp) dado que este foi o resultado proposto pelo metodo de redução do número de colunas (Backward Stepwise Selection) com Arvore de decisao"
   ]
  },
  {
   "cell_type": "code",
   "execution_count": 129,
   "id": "e90c7da2",
   "metadata": {
    "ExecuteTime": {
     "end_time": "2021-09-30T19:36:30.489323Z",
     "start_time": "2021-09-30T19:36:30.483339Z"
    }
   },
   "outputs": [],
   "source": [
    "X5=rain[[ 'mintemp']]\n",
    "y2=rain['raintomorrow']"
   ]
  },
  {
   "cell_type": "code",
   "execution_count": 130,
   "id": "13d03c23",
   "metadata": {
    "ExecuteTime": {
     "end_time": "2021-09-30T19:37:00.801633Z",
     "start_time": "2021-09-30T19:37:00.755146Z"
    }
   },
   "outputs": [],
   "source": [
    "X5_train, X5_test, y2_train, y2_test = train_test_split(X5, y2, test_size=0.2)   "
   ]
  },
  {
   "cell_type": "code",
   "execution_count": 131,
   "id": "e2908692",
   "metadata": {
    "ExecuteTime": {
     "end_time": "2021-09-30T19:37:37.183178Z",
     "start_time": "2021-09-30T19:37:37.176196Z"
    }
   },
   "outputs": [
    {
     "data": {
      "text/plain": [
       "DecisionTreeClassifier()"
      ]
     },
     "execution_count": 131,
     "metadata": {},
     "output_type": "execute_result"
    }
   ],
   "source": [
    "tree5 = DecisionTreeClassifier()\n",
    "tree5"
   ]
  },
  {
   "cell_type": "code",
   "execution_count": 132,
   "id": "d598e559",
   "metadata": {
    "ExecuteTime": {
     "end_time": "2021-09-30T19:38:09.169120Z",
     "start_time": "2021-09-30T19:38:09.100526Z"
    }
   },
   "outputs": [
    {
     "data": {
      "text/plain": [
       "DecisionTreeClassifier()"
      ]
     },
     "execution_count": 132,
     "metadata": {},
     "output_type": "execute_result"
    }
   ],
   "source": [
    "tree5.fit(X5_train, y2_train)\n",
    "\n",
    "#Aprende os padroes do dado"
   ]
  },
  {
   "cell_type": "code",
   "execution_count": 133,
   "id": "f3ac3ad9",
   "metadata": {
    "ExecuteTime": {
     "end_time": "2021-09-30T19:38:43.446397Z",
     "start_time": "2021-09-30T19:38:43.424455Z"
    }
   },
   "outputs": [
    {
     "data": {
      "text/plain": [
       "0.7752745478036176"
      ]
     },
     "execution_count": 133,
     "metadata": {},
     "output_type": "execute_result"
    }
   ],
   "source": [
    "tree5.score(X5_test, y2_test)\n",
    "\n",
    "# Retorna a acuracia. Queremos saber quao bom a variavel esta no teste."
   ]
  },
  {
   "cell_type": "code",
   "execution_count": 134,
   "id": "2965cd19",
   "metadata": {
    "ExecuteTime": {
     "end_time": "2021-09-30T19:39:09.351261Z",
     "start_time": "2021-09-30T19:39:09.332313Z"
    }
   },
   "outputs": [
    {
     "data": {
      "text/plain": [
       "0.7773448540396495"
      ]
     },
     "execution_count": 134,
     "metadata": {},
     "output_type": "execute_result"
    }
   ],
   "source": [
    "tree5.score(X5_train, y2_train)"
   ]
  },
  {
   "cell_type": "code",
   "execution_count": 135,
   "id": "1156fef4",
   "metadata": {
    "ExecuteTime": {
     "end_time": "2021-09-30T19:39:53.977418Z",
     "start_time": "2021-09-30T19:39:53.729292Z"
    }
   },
   "outputs": [
    {
     "data": {
      "text/plain": [
       "<sklearn.metrics._plot.confusion_matrix.ConfusionMatrixDisplay at 0x1e8273165e0>"
      ]
     },
     "execution_count": 135,
     "metadata": {},
     "output_type": "execute_result"
    },
    {
     "data": {
      "image/png": "[encoded data removed]",
      "text/plain": [
       "<Figure size 432x288 with 2 Axes>"
      ]
     },
     "metadata": {
      "needs_background": "light"
     },
     "output_type": "display_data"
    }
   ],
   "source": [
    "tree5 = DecisionTreeClassifier(max_depth=8)\n",
    "\n",
    "tree5.fit(X5_train, y2_train)\n",
    "\n",
    "plot_confusion_matrix(tree5, X5_test, y2_test, values_format='.0f')"
   ]
  },
  {
   "cell_type": "code",
   "execution_count": null,
   "id": "6bdcbab0",
   "metadata": {},
   "outputs": [],
   "source": [
    "# # Tentativa - Modelo com 1 coluna apenas, a primeira do data set (mintemp) dado que este foi o resultado proposto pelo metodo de redução do número de colunas (Backward Stepwise Selection) mas com LGBM"
   ]
  },
  {
   "cell_type": "code",
   "execution_count": 136,
   "id": "7217d1de",
   "metadata": {
    "ExecuteTime": {
     "end_time": "2021-09-30T19:56:42.671464Z",
     "start_time": "2021-09-30T19:56:42.666472Z"
    }
   },
   "outputs": [],
   "source": [
    "from lightgbm import LGBMClassifier"
   ]
  },
  {
   "cell_type": "code",
   "execution_count": 137,
   "id": "9ea88cd0",
   "metadata": {
    "ExecuteTime": {
     "end_time": "2021-09-30T19:57:19.647967Z",
     "start_time": "2021-09-30T19:57:18.858173Z"
    }
   },
   "outputs": [
    {
     "data": {
      "text/plain": [
       "LGBMClassifier(colsample_bytree=0.33, max_depth=3, n_estimators=50)"
      ]
     },
     "execution_count": 137,
     "metadata": {},
     "output_type": "execute_result"
    }
   ],
   "source": [
    "lgb = LGBMClassifier(max_depth=3, n_estimators=50, colsample_bytree=.33, n_jobs=-1)\n",
    "lgb.fit(X5_train,y2_train)"
   ]
  },
  {
   "cell_type": "code",
   "execution_count": 138,
   "id": "d5d22d40",
   "metadata": {
    "ExecuteTime": {
     "end_time": "2021-09-30T19:57:56.944311Z",
     "start_time": "2021-09-30T19:57:56.831606Z"
    }
   },
   "outputs": [
    {
     "name": "stdout",
     "output_type": "stream",
     "text": [
      "0.5781475755157153\n",
      "0.5746842753315244\n"
     ]
    }
   ],
   "source": [
    "print(roc_auc_score(y2_train, lgb.predict_proba(X5_train)[:, 1]))\n",
    "print(roc_auc_score(y2_test, lgb.predict_proba(X5_test)[:, 1]))"
   ]
  },
  {
   "cell_type": "code",
   "execution_count": null,
   "id": "0b208a88",
   "metadata": {},
   "outputs": [],
   "source": []
  },
  {
   "cell_type": "markdown",
   "id": "936da44d",
   "metadata": {},
   "source": [
    "# Redução do número de colunas por outro método - Backward Stepwise Selection"
   ]
  },
  {
   "cell_type": "code",
   "execution_count": 110,
   "id": "e60a77d4",
   "metadata": {
    "ExecuteTime": {
     "end_time": "2021-09-30T18:50:48.285832Z",
     "start_time": "2021-09-30T18:50:45.647946Z"
    }
   },
   "outputs": [],
   "source": [
    "from mlxtend.feature_selection import SequentialFeatureSelector as SFS\n",
    "from mlxtend.plotting import plot_sequential_feature_selection as plot_sfs"
   ]
  },
  {
   "cell_type": "code",
   "execution_count": null,
   "id": "a0194106",
   "metadata": {},
   "outputs": [],
   "source": [
    "X3=rain[[ 'mintemp', 'maxtemp', 'rainfall', 'evaporation', 'sunshine', 'humidity9am', 'humidity3pm', 'pressure9am', 'pressure3pm',\n",
    "'cloud9am', 'cloud3pm', 'temp9am', 'temp3pm', 'raintoday', 'temp', 'humidity', 'precipitation3pm','precipitation9am']]\n",
    "y2=rain['raintomorrow']"
   ]
  },
  {
   "cell_type": "code",
   "execution_count": 111,
   "id": "b127de5d",
   "metadata": {
    "ExecuteTime": {
     "end_time": "2021-09-30T18:52:22.975691Z",
     "start_time": "2021-09-30T18:52:22.936791Z"
    }
   },
   "outputs": [
    {
     "data": {
      "text/plain": [
       "18"
      ]
     },
     "execution_count": 111,
     "metadata": {},
     "output_type": "execute_result"
    }
   ],
   "source": [
    "len(X3_train.columns)"
   ]
  },
  {
   "cell_type": "code",
   "execution_count": 140,
   "id": "c9e2d163",
   "metadata": {
    "ExecuteTime": {
     "end_time": "2021-09-30T20:04:29.545906Z",
     "start_time": "2021-09-30T20:02:24.377386Z"
    }
   },
   "outputs": [
    {
     "data": {
      "image/png": "[encoded data removed]",
      "text/plain": [
       "<Figure size 432x288 with 1 Axes>"
      ]
     },
     "metadata": {
      "needs_background": "light"
     },
     "output_type": "display_data"
    }
   ],
   "source": [
    "selector = SFS(lgb, forward=False, scoring='roc_auc')\n",
    "selector.fit(X3_train, y2_train)\n",
    "\n",
    "fig = plot_sfs(selector.get_metric_dict(), kind='std_err')\n",
    "plt.title('Backward Stepwise Selection')\n",
    "plt.grid()\n",
    "plt.show()"
   ]
  },
  {
   "cell_type": "code",
   "execution_count": null,
   "id": "45106fdf",
   "metadata": {},
   "outputs": [],
   "source": [
    "# a melhor preformance deve ser encontrada com 1 coluna (ponto mais alto da linha no grafico)"
   ]
  },
  {
   "cell_type": "code",
   "execution_count": 127,
   "id": "bcc1a891",
   "metadata": {
    "ExecuteTime": {
     "end_time": "2021-09-30T19:28:01.504836Z",
     "start_time": "2021-09-30T19:28:01.498853Z"
    }
   },
   "outputs": [
    {
     "data": {
      "text/plain": [
       "{'feature_idx': (0,),\n",
       " 'cv_scores': array([0.50885353, 0.51273714, 0.50396666, 0.51473222, 0.50103975]),\n",
       " 'avg_score': 0.5082658607401991,\n",
       " 'feature_names': ('0',)}"
      ]
     },
     "execution_count": 127,
     "metadata": {},
     "output_type": "execute_result"
    }
   ],
   "source": [
    "selector.subsets_[1]"
   ]
  },
  {
   "cell_type": "code",
   "execution_count": null,
   "id": "123e1f43",
   "metadata": {},
   "outputs": [],
   "source": [
    "# O resultado do selector .subset me diz que a primeira coluna do meu X3 é qujem vai me dar o melhor resultado. (feature_names': ('0',))"
   ]
  },
  {
   "cell_type": "code",
   "execution_count": null,
   "id": "7b250644",
   "metadata": {},
   "outputs": [],
   "source": []
  }
 ],
 "metadata": {
  "kernelspec": {
   "display_name": "Python 3",
   "language": "python",
   "name": "python3"
  },
  "language_info": {
   "codemirror_mode": {
    "name": "ipython",
    "version": 3
   },
   "file_extension": ".py",
   "mimetype": "text/x-python",
   "name": "python",
   "nbconvert_exporter": "python",
   "pygments_lexer": "ipython3",
   "version": "3.8.8"
  },
  "toc": {
   "base_numbering": 1,
   "nav_menu": {},
   "number_sections": true,
   "sideBar": true,
   "skip_h1_title": false,
   "title_cell": "Table of Contents",
   "title_sidebar": "Contents",
   "toc_cell": false,
   "toc_position": {},
   "toc_section_display": true,
   "toc_window_display": false
  },
  "varInspector": {
   "cols": {
    "lenName": 16,
    "lenType": 16,
    "lenVar": 40
   },
   "kernels_config": {
    "python": {
     "delete_cmd_postfix": "",
     "delete_cmd_prefix": "del ",
     "library": "var_list.py",
     "varRefreshCmd": "print(var_dic_list())"
    },
    "r": {
     "delete_cmd_postfix": ") ",
     "delete_cmd_prefix": "rm(",
     "library": "var_list.r",
     "varRefreshCmd": "cat(var_dic_list()) "
    }
   },
   "types_to_exclude": [
    "module",
    "function",
    "builtin_function_or_method",
    "instance",
    "_Feature"
   ],
   "window_display": false
  }
 },
 "nbformat": 4,
 "nbformat_minor": 5
}
