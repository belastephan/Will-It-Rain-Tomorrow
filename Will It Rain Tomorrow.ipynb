{
 "cells": [
  {
   "cell_type": "markdown",
   "id": "1f2be092",
   "metadata": {},
   "source": [
    "# 1 Importação de biblioteca"
   ]
  },
  {
   "cell_type": "code",
   "execution_count": 1,
   "id": "c6f40354",
   "metadata": {
    "ExecuteTime": {
     "end_time": "2021-10-01T13:40:46.506226Z",
     "start_time": "2021-10-01T13:40:29.461273Z"
    }
   },
   "outputs": [],
   "source": [
    "import pandas as pd\n",
    "import matplotlib.pyplot as plt\n",
    "import seaborn as sns\n",
    "import numpy as np"
   ]
  },
  {
   "cell_type": "markdown",
   "id": "0249e9aa",
   "metadata": {},
   "source": [
    "# 2 Leitura de CSV"
   ]
  },
  {
   "cell_type": "code",
   "execution_count": 2,
   "id": "3c9cc662",
   "metadata": {
    "ExecuteTime": {
     "end_time": "2021-10-01T13:40:48.093691Z",
     "start_time": "2021-10-01T13:40:46.509220Z"
    }
   },
   "outputs": [],
   "source": [
    "rain=pd.read_csv('rain_data_aus.csv')\n",
    "wind1=pd.read_csv('wind_table_01.csv', names=['date', 'location', 'wind_gustdir', 'wind_gustspeed', 'wind_dir9am',\n",
    "       'wind_dir3pm', 'wind_speed9am', 'wind_speed3pm'])\n",
    "wind2=pd.read_csv('wind_table_02.csv', names=['date', 'location', 'wind_gustdir', 'wind_gustspeed', 'wind_dir9am',\n",
    "       'wind_dir3pm', 'wind_speed9am', 'wind_speed3pm'])\n",
    "wind3=pd.read_csv('wind_table_03.csv', names=['date', 'location', 'wind_gustdir', 'wind_gustspeed', 'wind_dir9am',\n",
    "       'wind_dir3pm', 'wind_speed9am', 'wind_speed3pm'])\n",
    "wind4=pd.read_csv('wind_table_04.csv', names=['date', 'location', 'wind_gustdir', 'wind_gustspeed', 'wind_dir9am',\n",
    "       'wind_dir3pm', 'wind_speed9am', 'wind_speed3pm'])\n",
    "wind5=pd.read_csv('wind_table_05.csv', names=['date', 'location', 'wind_gustdir', 'wind_gustspeed', 'wind_dir9am',\n",
    "       'wind_dir3pm', 'wind_speed9am', 'wind_speed3pm'])\n",
    "wind6=pd.read_csv('wind_table_06.csv', names=['date', 'location', 'wind_gustdir', 'wind_gustspeed', 'wind_dir9am',\n",
    "       'wind_dir3pm', 'wind_speed9am', 'wind_speed3pm'])\n",
    "wind7=pd.read_csv('wind_table_07.csv', names=['date', 'location', 'wind_gustdir', 'wind_gustspeed', 'wind_dir9am',\n",
    "       'wind_dir3pm', 'wind_speed9am', 'wind_speed3pm'])\n",
    "wind8=pd.read_csv('wind_table_08.csv', names=['date', 'location', 'wind_gustdir', 'wind_gustspeed', 'wind_dir9am',\n",
    "       'wind_dir3pm', 'wind_speed9am', 'wind_speed3pm'])"
   ]
  },
  {
   "cell_type": "code",
   "execution_count": 3,
   "id": "17915c95",
   "metadata": {
    "ExecuteTime": {
     "end_time": "2021-10-01T13:40:48.109648Z",
     "start_time": "2021-10-01T13:40:48.095686Z"
    }
   },
   "outputs": [],
   "source": [
    "#ou"
   ]
  },
  {
   "cell_type": "code",
   "execution_count": 4,
   "id": "a3092e62",
   "metadata": {
    "ExecuteTime": {
     "end_time": "2021-10-01T13:40:48.827565Z",
     "start_time": "2021-10-01T13:40:48.111645Z"
    }
   },
   "outputs": [],
   "source": [
    " list_names=['date', 'location', 'wind_gustdir', 'wind_gustspeed', 'wind_dir9am',\n",
    "       'wind_dir3pm', 'wind_speed9am', 'wind_speed3pm']\n",
    "\n",
    "rain=pd.read_csv('rain_data_aus.csv')\n",
    "wind1=pd.read_csv('wind_table_01.csv', names=list_names)\n",
    "wind2=pd.read_csv('wind_table_02.csv', names=list_names)\n",
    "wind3=pd.read_csv('wind_table_03.csv', names=list_names)\n",
    "wind4=pd.read_csv('wind_table_04.csv', names=list_names)\n",
    "wind5=pd.read_csv('wind_table_05.csv', names=list_names)\n",
    "wind6=pd.read_csv('wind_table_06.csv', names=list_names)\n",
    "wind7=pd.read_csv('wind_table_07.csv', names=list_names)\n",
    "wind8=pd.read_csv('wind_table_08.csv', names=list_names)"
   ]
  },
  {
   "cell_type": "code",
   "execution_count": 5,
   "id": "ea8773b3",
   "metadata": {
    "ExecuteTime": {
     "end_time": "2021-10-01T13:40:48.843522Z",
     "start_time": "2021-10-01T13:40:48.829588Z"
    }
   },
   "outputs": [
    {
     "data": {
      "text/plain": [
       "(142193, 23)"
      ]
     },
     "execution_count": 5,
     "metadata": {},
     "output_type": "execute_result"
    }
   ],
   "source": [
    "rain.shape"
   ]
  },
  {
   "cell_type": "code",
   "execution_count": 6,
   "id": "f41c1103",
   "metadata": {
    "ExecuteTime": {
     "end_time": "2021-10-01T13:40:48.952863Z",
     "start_time": "2021-10-01T13:40:48.845518Z"
    }
   },
   "outputs": [],
   "source": [
    "wind=pd.concat([wind1, wind2, wind3, wind4, wind5, wind6, wind7, wind8])"
   ]
  },
  {
   "cell_type": "code",
   "execution_count": 7,
   "id": "7d4397da",
   "metadata": {
    "ExecuteTime": {
     "end_time": "2021-10-01T13:40:49.122700Z",
     "start_time": "2021-10-01T13:40:48.954854Z"
    }
   },
   "outputs": [
    {
     "data": {
      "text/plain": [
       "Index(['date', 'location', 'wind_gustdir', 'wind_gustspeed', 'wind_dir9am',\n",
       "       'wind_dir3pm', 'wind_speed9am', 'wind_speed3pm'],\n",
       "      dtype='object')"
      ]
     },
     "execution_count": 7,
     "metadata": {},
     "output_type": "execute_result"
    }
   ],
   "source": [
    "wind1.columns"
   ]
  },
  {
   "cell_type": "code",
   "execution_count": 8,
   "id": "bdaf0fb8",
   "metadata": {
    "ExecuteTime": {
     "end_time": "2021-10-01T13:40:49.293805Z",
     "start_time": "2021-10-01T13:40:49.126692Z"
    }
   },
   "outputs": [
    {
     "data": {
      "text/plain": [
       "Index(['date', 'location', 'wind_gustdir', 'wind_gustspeed', 'wind_dir9am',\n",
       "       'wind_dir3pm', 'wind_speed9am', 'wind_speed3pm'],\n",
       "      dtype='object')"
      ]
     },
     "execution_count": 8,
     "metadata": {},
     "output_type": "execute_result"
    }
   ],
   "source": [
    "wind8.columns"
   ]
  },
  {
   "cell_type": "code",
   "execution_count": 9,
   "id": "bdbcb5a9",
   "metadata": {
    "ExecuteTime": {
     "end_time": "2021-10-01T13:40:49.668084Z",
     "start_time": "2021-10-01T13:40:49.295813Z"
    }
   },
   "outputs": [],
   "source": [
    "wind=wind.drop_duplicates()"
   ]
  },
  {
   "cell_type": "code",
   "execution_count": 114,
   "id": "849e0393",
   "metadata": {
    "ExecuteTime": {
     "end_time": "2021-10-01T14:33:22.839098Z",
     "start_time": "2021-10-01T14:33:22.580396Z"
    }
   },
   "outputs": [],
   "source": [
    "wind=pd.get_dummies(wind, columns=['wind_gustdir', 'wind_gustspeed', 'wind_dir9am','wind_dir3pm', 'wind_speed9am', 'wind_speed3pm'])"
   ]
  },
  {
   "cell_type": "code",
   "execution_count": null,
   "id": "9d995f87",
   "metadata": {},
   "outputs": [],
   "source": []
  },
  {
   "cell_type": "code",
   "execution_count": 115,
   "id": "039bbc97",
   "metadata": {
    "ExecuteTime": {
     "end_time": "2021-10-01T14:33:27.490487Z",
     "start_time": "2021-10-01T14:33:26.720039Z"
    }
   },
   "outputs": [
    {
     "data": {
      "text/html": [
       "<div>\n",
       "<style scoped>\n",
       "    .dataframe tbody tr th:only-of-type {\n",
       "        vertical-align: middle;\n",
       "    }\n",
       "\n",
       "    .dataframe tbody tr th {\n",
       "        vertical-align: top;\n",
       "    }\n",
       "\n",
       "    .dataframe thead th {\n",
       "        text-align: right;\n",
       "    }\n",
       "</style>\n",
       "<table border=\"1\" class=\"dataframe\">\n",
       "  <thead>\n",
       "    <tr style=\"text-align: right;\">\n",
       "      <th></th>\n",
       "      <th>date</th>\n",
       "      <th>location</th>\n",
       "      <th>mintemp</th>\n",
       "      <th>maxtemp</th>\n",
       "      <th>rainfall</th>\n",
       "      <th>evaporation</th>\n",
       "      <th>sunshine</th>\n",
       "      <th>humidity9am</th>\n",
       "      <th>humidity3pm</th>\n",
       "      <th>pressure9am</th>\n",
       "      <th>...</th>\n",
       "      <th>wind_speed3pm_7</th>\n",
       "      <th>wind_speed3pm_72</th>\n",
       "      <th>wind_speed3pm_74</th>\n",
       "      <th>wind_speed3pm_76</th>\n",
       "      <th>wind_speed3pm_78</th>\n",
       "      <th>wind_speed3pm_83</th>\n",
       "      <th>wind_speed3pm_87</th>\n",
       "      <th>wind_speed3pm_9</th>\n",
       "      <th>wind_speed3pm_wind_speed3pm</th>\n",
       "      <th>wind_speed3pm_windspeed3pm</th>\n",
       "    </tr>\n",
       "  </thead>\n",
       "  <tbody>\n",
       "    <tr>\n",
       "      <th>0</th>\n",
       "      <td>2009-01-01</td>\n",
       "      <td>Cobar</td>\n",
       "      <td>17.9</td>\n",
       "      <td>35.2</td>\n",
       "      <td>0.0</td>\n",
       "      <td>12.0</td>\n",
       "      <td>12.3</td>\n",
       "      <td>20.0</td>\n",
       "      <td>13.0</td>\n",
       "      <td>1006.3</td>\n",
       "      <td>...</td>\n",
       "      <td>0</td>\n",
       "      <td>0</td>\n",
       "      <td>0</td>\n",
       "      <td>0</td>\n",
       "      <td>0</td>\n",
       "      <td>0</td>\n",
       "      <td>0</td>\n",
       "      <td>0</td>\n",
       "      <td>0</td>\n",
       "      <td>0</td>\n",
       "    </tr>\n",
       "    <tr>\n",
       "      <th>1</th>\n",
       "      <td>2009-01-02</td>\n",
       "      <td>Cobar</td>\n",
       "      <td>18.4</td>\n",
       "      <td>28.9</td>\n",
       "      <td>0.0</td>\n",
       "      <td>14.8</td>\n",
       "      <td>13.0</td>\n",
       "      <td>30.0</td>\n",
       "      <td>8.0</td>\n",
       "      <td>1012.9</td>\n",
       "      <td>...</td>\n",
       "      <td>0</td>\n",
       "      <td>0</td>\n",
       "      <td>0</td>\n",
       "      <td>0</td>\n",
       "      <td>0</td>\n",
       "      <td>0</td>\n",
       "      <td>0</td>\n",
       "      <td>0</td>\n",
       "      <td>0</td>\n",
       "      <td>0</td>\n",
       "    </tr>\n",
       "    <tr>\n",
       "      <th>2</th>\n",
       "      <td>2009-01-04</td>\n",
       "      <td>Cobar</td>\n",
       "      <td>19.4</td>\n",
       "      <td>37.6</td>\n",
       "      <td>0.0</td>\n",
       "      <td>10.8</td>\n",
       "      <td>10.6</td>\n",
       "      <td>42.0</td>\n",
       "      <td>22.0</td>\n",
       "      <td>1012.3</td>\n",
       "      <td>...</td>\n",
       "      <td>0</td>\n",
       "      <td>0</td>\n",
       "      <td>0</td>\n",
       "      <td>0</td>\n",
       "      <td>0</td>\n",
       "      <td>0</td>\n",
       "      <td>0</td>\n",
       "      <td>0</td>\n",
       "      <td>0</td>\n",
       "      <td>0</td>\n",
       "    </tr>\n",
       "    <tr>\n",
       "      <th>3</th>\n",
       "      <td>2009-01-05</td>\n",
       "      <td>Cobar</td>\n",
       "      <td>21.9</td>\n",
       "      <td>38.4</td>\n",
       "      <td>0.0</td>\n",
       "      <td>11.4</td>\n",
       "      <td>12.2</td>\n",
       "      <td>37.0</td>\n",
       "      <td>22.0</td>\n",
       "      <td>1012.7</td>\n",
       "      <td>...</td>\n",
       "      <td>0</td>\n",
       "      <td>0</td>\n",
       "      <td>0</td>\n",
       "      <td>0</td>\n",
       "      <td>0</td>\n",
       "      <td>0</td>\n",
       "      <td>0</td>\n",
       "      <td>0</td>\n",
       "      <td>0</td>\n",
       "      <td>0</td>\n",
       "    </tr>\n",
       "    <tr>\n",
       "      <th>4</th>\n",
       "      <td>2009-01-06</td>\n",
       "      <td>Cobar</td>\n",
       "      <td>24.2</td>\n",
       "      <td>41.0</td>\n",
       "      <td>0.0</td>\n",
       "      <td>11.2</td>\n",
       "      <td>8.4</td>\n",
       "      <td>19.0</td>\n",
       "      <td>15.0</td>\n",
       "      <td>1010.7</td>\n",
       "      <td>...</td>\n",
       "      <td>0</td>\n",
       "      <td>0</td>\n",
       "      <td>0</td>\n",
       "      <td>0</td>\n",
       "      <td>0</td>\n",
       "      <td>0</td>\n",
       "      <td>0</td>\n",
       "      <td>0</td>\n",
       "      <td>0</td>\n",
       "      <td>0</td>\n",
       "    </tr>\n",
       "    <tr>\n",
       "      <th>...</th>\n",
       "      <td>...</td>\n",
       "      <td>...</td>\n",
       "      <td>...</td>\n",
       "      <td>...</td>\n",
       "      <td>...</td>\n",
       "      <td>...</td>\n",
       "      <td>...</td>\n",
       "      <td>...</td>\n",
       "      <td>...</td>\n",
       "      <td>...</td>\n",
       "      <td>...</td>\n",
       "      <td>...</td>\n",
       "      <td>...</td>\n",
       "      <td>...</td>\n",
       "      <td>...</td>\n",
       "      <td>...</td>\n",
       "      <td>...</td>\n",
       "      <td>...</td>\n",
       "      <td>...</td>\n",
       "      <td>...</td>\n",
       "      <td>...</td>\n",
       "    </tr>\n",
       "    <tr>\n",
       "      <th>61913</th>\n",
       "      <td>2017-06-20</td>\n",
       "      <td>Darwin</td>\n",
       "      <td>19.3</td>\n",
       "      <td>33.4</td>\n",
       "      <td>0.0</td>\n",
       "      <td>6.0</td>\n",
       "      <td>11.0</td>\n",
       "      <td>63.0</td>\n",
       "      <td>32.0</td>\n",
       "      <td>1013.9</td>\n",
       "      <td>...</td>\n",
       "      <td>0</td>\n",
       "      <td>0</td>\n",
       "      <td>0</td>\n",
       "      <td>0</td>\n",
       "      <td>0</td>\n",
       "      <td>0</td>\n",
       "      <td>0</td>\n",
       "      <td>0</td>\n",
       "      <td>0</td>\n",
       "      <td>0</td>\n",
       "    </tr>\n",
       "    <tr>\n",
       "      <th>61914</th>\n",
       "      <td>2017-06-21</td>\n",
       "      <td>Darwin</td>\n",
       "      <td>21.2</td>\n",
       "      <td>32.6</td>\n",
       "      <td>0.0</td>\n",
       "      <td>7.6</td>\n",
       "      <td>8.6</td>\n",
       "      <td>56.0</td>\n",
       "      <td>28.0</td>\n",
       "      <td>1014.6</td>\n",
       "      <td>...</td>\n",
       "      <td>0</td>\n",
       "      <td>0</td>\n",
       "      <td>0</td>\n",
       "      <td>0</td>\n",
       "      <td>0</td>\n",
       "      <td>0</td>\n",
       "      <td>0</td>\n",
       "      <td>0</td>\n",
       "      <td>0</td>\n",
       "      <td>0</td>\n",
       "    </tr>\n",
       "    <tr>\n",
       "      <th>61915</th>\n",
       "      <td>2017-06-22</td>\n",
       "      <td>Darwin</td>\n",
       "      <td>20.7</td>\n",
       "      <td>32.8</td>\n",
       "      <td>0.0</td>\n",
       "      <td>5.6</td>\n",
       "      <td>11.0</td>\n",
       "      <td>46.0</td>\n",
       "      <td>23.0</td>\n",
       "      <td>1015.3</td>\n",
       "      <td>...</td>\n",
       "      <td>0</td>\n",
       "      <td>0</td>\n",
       "      <td>0</td>\n",
       "      <td>0</td>\n",
       "      <td>0</td>\n",
       "      <td>0</td>\n",
       "      <td>0</td>\n",
       "      <td>0</td>\n",
       "      <td>0</td>\n",
       "      <td>0</td>\n",
       "    </tr>\n",
       "    <tr>\n",
       "      <th>61916</th>\n",
       "      <td>2017-06-23</td>\n",
       "      <td>Darwin</td>\n",
       "      <td>19.5</td>\n",
       "      <td>31.8</td>\n",
       "      <td>0.0</td>\n",
       "      <td>6.2</td>\n",
       "      <td>10.6</td>\n",
       "      <td>62.0</td>\n",
       "      <td>58.0</td>\n",
       "      <td>1014.9</td>\n",
       "      <td>...</td>\n",
       "      <td>0</td>\n",
       "      <td>0</td>\n",
       "      <td>0</td>\n",
       "      <td>0</td>\n",
       "      <td>0</td>\n",
       "      <td>0</td>\n",
       "      <td>0</td>\n",
       "      <td>0</td>\n",
       "      <td>0</td>\n",
       "      <td>0</td>\n",
       "    </tr>\n",
       "    <tr>\n",
       "      <th>61917</th>\n",
       "      <td>2017-06-24</td>\n",
       "      <td>Darwin</td>\n",
       "      <td>20.2</td>\n",
       "      <td>31.7</td>\n",
       "      <td>0.0</td>\n",
       "      <td>5.6</td>\n",
       "      <td>10.7</td>\n",
       "      <td>73.0</td>\n",
       "      <td>32.0</td>\n",
       "      <td>1013.9</td>\n",
       "      <td>...</td>\n",
       "      <td>1</td>\n",
       "      <td>0</td>\n",
       "      <td>0</td>\n",
       "      <td>0</td>\n",
       "      <td>0</td>\n",
       "      <td>0</td>\n",
       "      <td>0</td>\n",
       "      <td>0</td>\n",
       "      <td>0</td>\n",
       "      <td>0</td>\n",
       "    </tr>\n",
       "  </tbody>\n",
       "</table>\n",
       "<p>61918 rows × 237 columns</p>\n",
       "</div>"
      ],
      "text/plain": [
       "             date location  mintemp  maxtemp  rainfall  evaporation  sunshine  \\\n",
       "0      2009-01-01    Cobar     17.9     35.2       0.0         12.0      12.3   \n",
       "1      2009-01-02    Cobar     18.4     28.9       0.0         14.8      13.0   \n",
       "2      2009-01-04    Cobar     19.4     37.6       0.0         10.8      10.6   \n",
       "3      2009-01-05    Cobar     21.9     38.4       0.0         11.4      12.2   \n",
       "4      2009-01-06    Cobar     24.2     41.0       0.0         11.2       8.4   \n",
       "...           ...      ...      ...      ...       ...          ...       ...   \n",
       "61913  2017-06-20   Darwin     19.3     33.4       0.0          6.0      11.0   \n",
       "61914  2017-06-21   Darwin     21.2     32.6       0.0          7.6       8.6   \n",
       "61915  2017-06-22   Darwin     20.7     32.8       0.0          5.6      11.0   \n",
       "61916  2017-06-23   Darwin     19.5     31.8       0.0          6.2      10.6   \n",
       "61917  2017-06-24   Darwin     20.2     31.7       0.0          5.6      10.7   \n",
       "\n",
       "       humidity9am  humidity3pm  pressure9am  ...  wind_speed3pm_7  \\\n",
       "0             20.0         13.0       1006.3  ...                0   \n",
       "1             30.0          8.0       1012.9  ...                0   \n",
       "2             42.0         22.0       1012.3  ...                0   \n",
       "3             37.0         22.0       1012.7  ...                0   \n",
       "4             19.0         15.0       1010.7  ...                0   \n",
       "...            ...          ...          ...  ...              ...   \n",
       "61913         63.0         32.0       1013.9  ...                0   \n",
       "61914         56.0         28.0       1014.6  ...                0   \n",
       "61915         46.0         23.0       1015.3  ...                0   \n",
       "61916         62.0         58.0       1014.9  ...                0   \n",
       "61917         73.0         32.0       1013.9  ...                1   \n",
       "\n",
       "       wind_speed3pm_72  wind_speed3pm_74  wind_speed3pm_76  wind_speed3pm_78  \\\n",
       "0                     0                 0                 0                 0   \n",
       "1                     0                 0                 0                 0   \n",
       "2                     0                 0                 0                 0   \n",
       "3                     0                 0                 0                 0   \n",
       "4                     0                 0                 0                 0   \n",
       "...                 ...               ...               ...               ...   \n",
       "61913                 0                 0                 0                 0   \n",
       "61914                 0                 0                 0                 0   \n",
       "61915                 0                 0                 0                 0   \n",
       "61916                 0                 0                 0                 0   \n",
       "61917                 0                 0                 0                 0   \n",
       "\n",
       "       wind_speed3pm_83  wind_speed3pm_87  wind_speed3pm_9  \\\n",
       "0                     0                 0                0   \n",
       "1                     0                 0                0   \n",
       "2                     0                 0                0   \n",
       "3                     0                 0                0   \n",
       "4                     0                 0                0   \n",
       "...                 ...               ...              ...   \n",
       "61913                 0                 0                0   \n",
       "61914                 0                 0                0   \n",
       "61915                 0                 0                0   \n",
       "61916                 0                 0                0   \n",
       "61917                 0                 0                0   \n",
       "\n",
       "       wind_speed3pm_wind_speed3pm  wind_speed3pm_windspeed3pm  \n",
       "0                                0                           0  \n",
       "1                                0                           0  \n",
       "2                                0                           0  \n",
       "3                                0                           0  \n",
       "4                                0                           0  \n",
       "...                            ...                         ...  \n",
       "61913                            0                           0  \n",
       "61914                            0                           0  \n",
       "61915                            0                           0  \n",
       "61916                            0                           0  \n",
       "61917                            0                           0  \n",
       "\n",
       "[61918 rows x 237 columns]"
      ]
     },
     "execution_count": 115,
     "metadata": {},
     "output_type": "execute_result"
    }
   ],
   "source": [
    "rain_wind=rain.merge(wind,on=['date', 'location'])\n",
    "rain_wind"
   ]
  },
  {
   "cell_type": "code",
   "execution_count": 116,
   "id": "7f6f2b15",
   "metadata": {
    "ExecuteTime": {
     "end_time": "2021-10-01T14:33:31.623035Z",
     "start_time": "2021-10-01T14:33:31.605082Z"
    }
   },
   "outputs": [
    {
     "data": {
      "text/plain": [
       "(61918, 237)"
      ]
     },
     "execution_count": 116,
     "metadata": {},
     "output_type": "execute_result"
    }
   ],
   "source": [
    "rain_wind.shape"
   ]
  },
  {
   "cell_type": "markdown",
   "id": "1a1cf67d",
   "metadata": {},
   "source": [
    "# 3 Exploratory data analysis"
   ]
  },
  {
   "cell_type": "code",
   "execution_count": 117,
   "id": "1b4f5c7f",
   "metadata": {
    "ExecuteTime": {
     "end_time": "2021-10-01T14:33:34.440792Z",
     "start_time": "2021-10-01T14:33:34.360952Z"
    }
   },
   "outputs": [
    {
     "data": {
      "text/html": [
       "<div>\n",
       "<style scoped>\n",
       "    .dataframe tbody tr th:only-of-type {\n",
       "        vertical-align: middle;\n",
       "    }\n",
       "\n",
       "    .dataframe tbody tr th {\n",
       "        vertical-align: top;\n",
       "    }\n",
       "\n",
       "    .dataframe thead th {\n",
       "        text-align: right;\n",
       "    }\n",
       "</style>\n",
       "<table border=\"1\" class=\"dataframe\">\n",
       "  <thead>\n",
       "    <tr style=\"text-align: right;\">\n",
       "      <th></th>\n",
       "      <th>date</th>\n",
       "      <th>location</th>\n",
       "      <th>mintemp</th>\n",
       "      <th>maxtemp</th>\n",
       "      <th>rainfall</th>\n",
       "      <th>evaporation</th>\n",
       "      <th>sunshine</th>\n",
       "      <th>humidity9am</th>\n",
       "      <th>humidity3pm</th>\n",
       "      <th>pressure9am</th>\n",
       "      <th>...</th>\n",
       "      <th>temp9am</th>\n",
       "      <th>temp3pm</th>\n",
       "      <th>raintoday</th>\n",
       "      <th>amountOfRain</th>\n",
       "      <th>raintomorrow</th>\n",
       "      <th>temp</th>\n",
       "      <th>humidity</th>\n",
       "      <th>precipitation3pm</th>\n",
       "      <th>precipitation9am</th>\n",
       "      <th>modelo_vigente</th>\n",
       "    </tr>\n",
       "  </thead>\n",
       "  <tbody>\n",
       "    <tr>\n",
       "      <th>5939</th>\n",
       "      <td>2009-01-01</td>\n",
       "      <td>Cobar</td>\n",
       "      <td>17.9</td>\n",
       "      <td>35.2</td>\n",
       "      <td>0.0</td>\n",
       "      <td>12.0</td>\n",
       "      <td>12.3</td>\n",
       "      <td>20.0</td>\n",
       "      <td>13.0</td>\n",
       "      <td>1006.3</td>\n",
       "      <td>...</td>\n",
       "      <td>26.6</td>\n",
       "      <td>33.4</td>\n",
       "      <td>0</td>\n",
       "      <td>0.0</td>\n",
       "      <td>0</td>\n",
       "      <td>44.24</td>\n",
       "      <td>17.6</td>\n",
       "      <td>5</td>\n",
       "      <td>15.165784</td>\n",
       "      <td>0.011320</td>\n",
       "    </tr>\n",
       "    <tr>\n",
       "      <th>5940</th>\n",
       "      <td>2009-01-02</td>\n",
       "      <td>Cobar</td>\n",
       "      <td>18.4</td>\n",
       "      <td>28.9</td>\n",
       "      <td>0.0</td>\n",
       "      <td>14.8</td>\n",
       "      <td>13.0</td>\n",
       "      <td>30.0</td>\n",
       "      <td>8.0</td>\n",
       "      <td>1012.9</td>\n",
       "      <td>...</td>\n",
       "      <td>20.3</td>\n",
       "      <td>27.0</td>\n",
       "      <td>0</td>\n",
       "      <td>0.0</td>\n",
       "      <td>0</td>\n",
       "      <td>36.68</td>\n",
       "      <td>11.6</td>\n",
       "      <td>9</td>\n",
       "      <td>9.750834</td>\n",
       "      <td>0.001683</td>\n",
       "    </tr>\n",
       "    <tr>\n",
       "      <th>5942</th>\n",
       "      <td>2009-01-04</td>\n",
       "      <td>Cobar</td>\n",
       "      <td>19.4</td>\n",
       "      <td>37.6</td>\n",
       "      <td>0.0</td>\n",
       "      <td>10.8</td>\n",
       "      <td>10.6</td>\n",
       "      <td>42.0</td>\n",
       "      <td>22.0</td>\n",
       "      <td>1012.3</td>\n",
       "      <td>...</td>\n",
       "      <td>28.7</td>\n",
       "      <td>34.9</td>\n",
       "      <td>0</td>\n",
       "      <td>0.0</td>\n",
       "      <td>0</td>\n",
       "      <td>47.12</td>\n",
       "      <td>28.4</td>\n",
       "      <td>11</td>\n",
       "      <td>5.557986</td>\n",
       "      <td>0.061026</td>\n",
       "    </tr>\n",
       "    <tr>\n",
       "      <th>5943</th>\n",
       "      <td>2009-01-05</td>\n",
       "      <td>Cobar</td>\n",
       "      <td>21.9</td>\n",
       "      <td>38.4</td>\n",
       "      <td>0.0</td>\n",
       "      <td>11.4</td>\n",
       "      <td>12.2</td>\n",
       "      <td>37.0</td>\n",
       "      <td>22.0</td>\n",
       "      <td>1012.7</td>\n",
       "      <td>...</td>\n",
       "      <td>29.1</td>\n",
       "      <td>35.6</td>\n",
       "      <td>0</td>\n",
       "      <td>0.0</td>\n",
       "      <td>0</td>\n",
       "      <td>48.08</td>\n",
       "      <td>28.4</td>\n",
       "      <td>10</td>\n",
       "      <td>17.820001</td>\n",
       "      <td>0.010724</td>\n",
       "    </tr>\n",
       "    <tr>\n",
       "      <th>5944</th>\n",
       "      <td>2009-01-06</td>\n",
       "      <td>Cobar</td>\n",
       "      <td>24.2</td>\n",
       "      <td>41.0</td>\n",
       "      <td>0.0</td>\n",
       "      <td>11.2</td>\n",
       "      <td>8.4</td>\n",
       "      <td>19.0</td>\n",
       "      <td>15.0</td>\n",
       "      <td>1010.7</td>\n",
       "      <td>...</td>\n",
       "      <td>33.6</td>\n",
       "      <td>37.6</td>\n",
       "      <td>0</td>\n",
       "      <td>0.0</td>\n",
       "      <td>0</td>\n",
       "      <td>51.20</td>\n",
       "      <td>20.0</td>\n",
       "      <td>9</td>\n",
       "      <td>13.217116</td>\n",
       "      <td>0.103292</td>\n",
       "    </tr>\n",
       "  </tbody>\n",
       "</table>\n",
       "<p>5 rows × 23 columns</p>\n",
       "</div>"
      ],
      "text/plain": [
       "            date location  mintemp  maxtemp  rainfall  evaporation  sunshine  \\\n",
       "5939  2009-01-01    Cobar     17.9     35.2       0.0         12.0      12.3   \n",
       "5940  2009-01-02    Cobar     18.4     28.9       0.0         14.8      13.0   \n",
       "5942  2009-01-04    Cobar     19.4     37.6       0.0         10.8      10.6   \n",
       "5943  2009-01-05    Cobar     21.9     38.4       0.0         11.4      12.2   \n",
       "5944  2009-01-06    Cobar     24.2     41.0       0.0         11.2       8.4   \n",
       "\n",
       "      humidity9am  humidity3pm  pressure9am  ...  temp9am  temp3pm  raintoday  \\\n",
       "5939         20.0         13.0       1006.3  ...     26.6     33.4          0   \n",
       "5940         30.0          8.0       1012.9  ...     20.3     27.0          0   \n",
       "5942         42.0         22.0       1012.3  ...     28.7     34.9          0   \n",
       "5943         37.0         22.0       1012.7  ...     29.1     35.6          0   \n",
       "5944         19.0         15.0       1010.7  ...     33.6     37.6          0   \n",
       "\n",
       "      amountOfRain  raintomorrow   temp  humidity  precipitation3pm  \\\n",
       "5939           0.0             0  44.24      17.6                 5   \n",
       "5940           0.0             0  36.68      11.6                 9   \n",
       "5942           0.0             0  47.12      28.4                11   \n",
       "5943           0.0             0  48.08      28.4                10   \n",
       "5944           0.0             0  51.20      20.0                 9   \n",
       "\n",
       "      precipitation9am  modelo_vigente  \n",
       "5939         15.165784        0.011320  \n",
       "5940          9.750834        0.001683  \n",
       "5942          5.557986        0.061026  \n",
       "5943         17.820001        0.010724  \n",
       "5944         13.217116        0.103292  \n",
       "\n",
       "[5 rows x 23 columns]"
      ]
     },
     "execution_count": 117,
     "metadata": {},
     "output_type": "execute_result"
    }
   ],
   "source": [
    "rain.head()"
   ]
  },
  {
   "cell_type": "code",
   "execution_count": 118,
   "id": "b4ce5492",
   "metadata": {
    "ExecuteTime": {
     "end_time": "2021-10-01T14:33:37.295603Z",
     "start_time": "2021-10-01T14:33:37.225762Z"
    }
   },
   "outputs": [
    {
     "data": {
      "text/plain": [
       "date                0\n",
       "location            0\n",
       "mintemp             0\n",
       "maxtemp             0\n",
       "rainfall            0\n",
       "evaporation         0\n",
       "sunshine            0\n",
       "humidity9am         0\n",
       "humidity3pm         0\n",
       "pressure9am         0\n",
       "pressure3pm         0\n",
       "cloud9am            0\n",
       "cloud3pm            0\n",
       "temp9am             0\n",
       "temp3pm             0\n",
       "raintoday           0\n",
       "amountOfRain        0\n",
       "raintomorrow        0\n",
       "temp                0\n",
       "humidity            0\n",
       "precipitation3pm    0\n",
       "precipitation9am    0\n",
       "modelo_vigente      0\n",
       "dtype: int64"
      ]
     },
     "execution_count": 118,
     "metadata": {},
     "output_type": "execute_result"
    }
   ],
   "source": [
    "rain.isna().sum()"
   ]
  },
  {
   "cell_type": "code",
   "execution_count": 14,
   "id": "fdaacdde",
   "metadata": {
    "ExecuteTime": {
     "end_time": "2021-10-01T13:40:50.915194Z",
     "start_time": "2021-10-01T13:40:50.420577Z"
    }
   },
   "outputs": [
    {
     "data": {
      "text/html": [
       "<div>\n",
       "<style scoped>\n",
       "    .dataframe tbody tr th:only-of-type {\n",
       "        vertical-align: middle;\n",
       "    }\n",
       "\n",
       "    .dataframe tbody tr th {\n",
       "        vertical-align: top;\n",
       "    }\n",
       "\n",
       "    .dataframe thead th {\n",
       "        text-align: right;\n",
       "    }\n",
       "</style>\n",
       "<table border=\"1\" class=\"dataframe\">\n",
       "  <thead>\n",
       "    <tr style=\"text-align: right;\">\n",
       "      <th></th>\n",
       "      <th>mintemp</th>\n",
       "      <th>maxtemp</th>\n",
       "      <th>rainfall</th>\n",
       "      <th>evaporation</th>\n",
       "      <th>sunshine</th>\n",
       "      <th>humidity9am</th>\n",
       "      <th>humidity3pm</th>\n",
       "      <th>pressure9am</th>\n",
       "      <th>pressure3pm</th>\n",
       "      <th>cloud9am</th>\n",
       "      <th>cloud3pm</th>\n",
       "      <th>temp9am</th>\n",
       "      <th>temp3pm</th>\n",
       "      <th>amountOfRain</th>\n",
       "      <th>temp</th>\n",
       "      <th>humidity</th>\n",
       "      <th>precipitation3pm</th>\n",
       "      <th>precipitation9am</th>\n",
       "      <th>modelo_vigente</th>\n",
       "    </tr>\n",
       "  </thead>\n",
       "  <tbody>\n",
       "    <tr>\n",
       "      <th>count</th>\n",
       "      <td>141556.000000</td>\n",
       "      <td>141871.000000</td>\n",
       "      <td>140787.000000</td>\n",
       "      <td>81350.000000</td>\n",
       "      <td>74377.000000</td>\n",
       "      <td>140419.000000</td>\n",
       "      <td>138583.000000</td>\n",
       "      <td>128179.000000</td>\n",
       "      <td>128212.000000</td>\n",
       "      <td>88536.000000</td>\n",
       "      <td>85099.000000</td>\n",
       "      <td>141289.000000</td>\n",
       "      <td>139467.000000</td>\n",
       "      <td>142193.000000</td>\n",
       "      <td>141871.000000</td>\n",
       "      <td>138583.000000</td>\n",
       "      <td>142193.000000</td>\n",
       "      <td>142193.000000</td>\n",
       "      <td>142193.000000</td>\n",
       "    </tr>\n",
       "    <tr>\n",
       "      <th>mean</th>\n",
       "      <td>12.186400</td>\n",
       "      <td>23.226784</td>\n",
       "      <td>2.349974</td>\n",
       "      <td>5.469824</td>\n",
       "      <td>7.624853</td>\n",
       "      <td>68.843810</td>\n",
       "      <td>51.482606</td>\n",
       "      <td>1017.653758</td>\n",
       "      <td>1015.258204</td>\n",
       "      <td>4.437189</td>\n",
       "      <td>4.503167</td>\n",
       "      <td>16.987509</td>\n",
       "      <td>21.687235</td>\n",
       "      <td>2.360682</td>\n",
       "      <td>28.505419</td>\n",
       "      <td>61.991179</td>\n",
       "      <td>10.014164</td>\n",
       "      <td>10.000748</td>\n",
       "      <td>0.227804</td>\n",
       "    </tr>\n",
       "    <tr>\n",
       "      <th>std</th>\n",
       "      <td>6.403283</td>\n",
       "      <td>7.117618</td>\n",
       "      <td>8.465173</td>\n",
       "      <td>4.188537</td>\n",
       "      <td>3.781525</td>\n",
       "      <td>19.051293</td>\n",
       "      <td>20.797772</td>\n",
       "      <td>7.105476</td>\n",
       "      <td>7.036677</td>\n",
       "      <td>2.887016</td>\n",
       "      <td>2.720633</td>\n",
       "      <td>6.492838</td>\n",
       "      <td>6.937594</td>\n",
       "      <td>8.477969</td>\n",
       "      <td>10.237506</td>\n",
       "      <td>26.649111</td>\n",
       "      <td>3.169832</td>\n",
       "      <td>4.997908</td>\n",
       "      <td>0.272764</td>\n",
       "    </tr>\n",
       "    <tr>\n",
       "      <th>min</th>\n",
       "      <td>-8.500000</td>\n",
       "      <td>-4.800000</td>\n",
       "      <td>0.000000</td>\n",
       "      <td>0.000000</td>\n",
       "      <td>0.000000</td>\n",
       "      <td>0.000000</td>\n",
       "      <td>0.000000</td>\n",
       "      <td>980.500000</td>\n",
       "      <td>977.100000</td>\n",
       "      <td>0.000000</td>\n",
       "      <td>0.000000</td>\n",
       "      <td>-7.200000</td>\n",
       "      <td>-5.400000</td>\n",
       "      <td>0.000000</td>\n",
       "      <td>-3.760000</td>\n",
       "      <td>2.000000</td>\n",
       "      <td>0.000000</td>\n",
       "      <td>-17.739346</td>\n",
       "      <td>0.000000</td>\n",
       "    </tr>\n",
       "    <tr>\n",
       "      <th>25%</th>\n",
       "      <td>7.600000</td>\n",
       "      <td>17.900000</td>\n",
       "      <td>0.000000</td>\n",
       "      <td>2.600000</td>\n",
       "      <td>4.900000</td>\n",
       "      <td>57.000000</td>\n",
       "      <td>37.000000</td>\n",
       "      <td>1012.900000</td>\n",
       "      <td>1010.400000</td>\n",
       "      <td>1.000000</td>\n",
       "      <td>2.000000</td>\n",
       "      <td>12.300000</td>\n",
       "      <td>16.600000</td>\n",
       "      <td>0.000000</td>\n",
       "      <td>22.520000</td>\n",
       "      <td>44.000000</td>\n",
       "      <td>8.000000</td>\n",
       "      <td>6.650238</td>\n",
       "      <td>0.030055</td>\n",
       "    </tr>\n",
       "    <tr>\n",
       "      <th>50%</th>\n",
       "      <td>12.000000</td>\n",
       "      <td>22.600000</td>\n",
       "      <td>0.000000</td>\n",
       "      <td>4.800000</td>\n",
       "      <td>8.500000</td>\n",
       "      <td>70.000000</td>\n",
       "      <td>52.000000</td>\n",
       "      <td>1017.600000</td>\n",
       "      <td>1015.200000</td>\n",
       "      <td>5.000000</td>\n",
       "      <td>5.000000</td>\n",
       "      <td>16.700000</td>\n",
       "      <td>21.100000</td>\n",
       "      <td>0.000000</td>\n",
       "      <td>28.520000</td>\n",
       "      <td>63.200000</td>\n",
       "      <td>10.000000</td>\n",
       "      <td>10.000009</td>\n",
       "      <td>0.100853</td>\n",
       "    </tr>\n",
       "    <tr>\n",
       "      <th>75%</th>\n",
       "      <td>16.800000</td>\n",
       "      <td>28.200000</td>\n",
       "      <td>0.800000</td>\n",
       "      <td>7.400000</td>\n",
       "      <td>10.600000</td>\n",
       "      <td>83.000000</td>\n",
       "      <td>66.000000</td>\n",
       "      <td>1022.400000</td>\n",
       "      <td>1020.000000</td>\n",
       "      <td>7.000000</td>\n",
       "      <td>7.000000</td>\n",
       "      <td>21.600000</td>\n",
       "      <td>26.400000</td>\n",
       "      <td>0.800000</td>\n",
       "      <td>35.480000</td>\n",
       "      <td>80.000000</td>\n",
       "      <td>12.000000</td>\n",
       "      <td>13.389306</td>\n",
       "      <td>0.329507</td>\n",
       "    </tr>\n",
       "    <tr>\n",
       "      <th>max</th>\n",
       "      <td>33.900000</td>\n",
       "      <td>48.100000</td>\n",
       "      <td>371.000000</td>\n",
       "      <td>145.000000</td>\n",
       "      <td>14.500000</td>\n",
       "      <td>100.000000</td>\n",
       "      <td>100.000000</td>\n",
       "      <td>1041.000000</td>\n",
       "      <td>1039.600000</td>\n",
       "      <td>9.000000</td>\n",
       "      <td>9.000000</td>\n",
       "      <td>40.200000</td>\n",
       "      <td>46.700000</td>\n",
       "      <td>371.000000</td>\n",
       "      <td>59.720000</td>\n",
       "      <td>122.000000</td>\n",
       "      <td>26.000000</td>\n",
       "      <td>32.478590</td>\n",
       "      <td>0.999400</td>\n",
       "    </tr>\n",
       "  </tbody>\n",
       "</table>\n",
       "</div>"
      ],
      "text/plain": [
       "             mintemp        maxtemp       rainfall   evaporation  \\\n",
       "count  141556.000000  141871.000000  140787.000000  81350.000000   \n",
       "mean       12.186400      23.226784       2.349974      5.469824   \n",
       "std         6.403283       7.117618       8.465173      4.188537   \n",
       "min        -8.500000      -4.800000       0.000000      0.000000   \n",
       "25%         7.600000      17.900000       0.000000      2.600000   \n",
       "50%        12.000000      22.600000       0.000000      4.800000   \n",
       "75%        16.800000      28.200000       0.800000      7.400000   \n",
       "max        33.900000      48.100000     371.000000    145.000000   \n",
       "\n",
       "           sunshine    humidity9am    humidity3pm    pressure9am  \\\n",
       "count  74377.000000  140419.000000  138583.000000  128179.000000   \n",
       "mean       7.624853      68.843810      51.482606    1017.653758   \n",
       "std        3.781525      19.051293      20.797772       7.105476   \n",
       "min        0.000000       0.000000       0.000000     980.500000   \n",
       "25%        4.900000      57.000000      37.000000    1012.900000   \n",
       "50%        8.500000      70.000000      52.000000    1017.600000   \n",
       "75%       10.600000      83.000000      66.000000    1022.400000   \n",
       "max       14.500000     100.000000     100.000000    1041.000000   \n",
       "\n",
       "         pressure3pm      cloud9am      cloud3pm        temp9am  \\\n",
       "count  128212.000000  88536.000000  85099.000000  141289.000000   \n",
       "mean     1015.258204      4.437189      4.503167      16.987509   \n",
       "std         7.036677      2.887016      2.720633       6.492838   \n",
       "min       977.100000      0.000000      0.000000      -7.200000   \n",
       "25%      1010.400000      1.000000      2.000000      12.300000   \n",
       "50%      1015.200000      5.000000      5.000000      16.700000   \n",
       "75%      1020.000000      7.000000      7.000000      21.600000   \n",
       "max      1039.600000      9.000000      9.000000      40.200000   \n",
       "\n",
       "             temp3pm   amountOfRain           temp       humidity  \\\n",
       "count  139467.000000  142193.000000  141871.000000  138583.000000   \n",
       "mean       21.687235       2.360682      28.505419      61.991179   \n",
       "std         6.937594       8.477969      10.237506      26.649111   \n",
       "min        -5.400000       0.000000      -3.760000       2.000000   \n",
       "25%        16.600000       0.000000      22.520000      44.000000   \n",
       "50%        21.100000       0.000000      28.520000      63.200000   \n",
       "75%        26.400000       0.800000      35.480000      80.000000   \n",
       "max        46.700000     371.000000      59.720000     122.000000   \n",
       "\n",
       "       precipitation3pm  precipitation9am  modelo_vigente  \n",
       "count     142193.000000     142193.000000   142193.000000  \n",
       "mean          10.014164         10.000748        0.227804  \n",
       "std            3.169832          4.997908        0.272764  \n",
       "min            0.000000        -17.739346        0.000000  \n",
       "25%            8.000000          6.650238        0.030055  \n",
       "50%           10.000000         10.000009        0.100853  \n",
       "75%           12.000000         13.389306        0.329507  \n",
       "max           26.000000         32.478590        0.999400  "
      ]
     },
     "execution_count": 14,
     "metadata": {},
     "output_type": "execute_result"
    }
   ],
   "source": [
    "rain.describe()"
   ]
  },
  {
   "cell_type": "code",
   "execution_count": 15,
   "id": "337578ff",
   "metadata": {
    "ExecuteTime": {
     "end_time": "2021-10-01T13:40:51.085861Z",
     "start_time": "2021-10-01T13:40:50.917189Z"
    }
   },
   "outputs": [
    {
     "data": {
      "text/html": [
       "<div>\n",
       "<style scoped>\n",
       "    .dataframe tbody tr th:only-of-type {\n",
       "        vertical-align: middle;\n",
       "    }\n",
       "\n",
       "    .dataframe tbody tr th {\n",
       "        vertical-align: top;\n",
       "    }\n",
       "\n",
       "    .dataframe thead th {\n",
       "        text-align: right;\n",
       "    }\n",
       "</style>\n",
       "<table border=\"1\" class=\"dataframe\">\n",
       "  <thead>\n",
       "    <tr style=\"text-align: right;\">\n",
       "      <th></th>\n",
       "      <th>date</th>\n",
       "      <th>location</th>\n",
       "      <th>mintemp</th>\n",
       "      <th>maxtemp</th>\n",
       "      <th>rainfall</th>\n",
       "      <th>evaporation</th>\n",
       "      <th>sunshine</th>\n",
       "      <th>humidity9am</th>\n",
       "      <th>humidity3pm</th>\n",
       "      <th>pressure9am</th>\n",
       "      <th>...</th>\n",
       "      <th>temp9am</th>\n",
       "      <th>temp3pm</th>\n",
       "      <th>raintoday</th>\n",
       "      <th>amountOfRain</th>\n",
       "      <th>raintomorrow</th>\n",
       "      <th>temp</th>\n",
       "      <th>humidity</th>\n",
       "      <th>precipitation3pm</th>\n",
       "      <th>precipitation9am</th>\n",
       "      <th>modelo_vigente</th>\n",
       "    </tr>\n",
       "  </thead>\n",
       "  <tbody>\n",
       "    <tr>\n",
       "      <th>5939</th>\n",
       "      <td>2009-01-01</td>\n",
       "      <td>Cobar</td>\n",
       "      <td>17.9</td>\n",
       "      <td>35.2</td>\n",
       "      <td>0.0</td>\n",
       "      <td>12.0</td>\n",
       "      <td>12.3</td>\n",
       "      <td>20.0</td>\n",
       "      <td>13.0</td>\n",
       "      <td>1006.3</td>\n",
       "      <td>...</td>\n",
       "      <td>26.6</td>\n",
       "      <td>33.4</td>\n",
       "      <td>No</td>\n",
       "      <td>0.0</td>\n",
       "      <td>No</td>\n",
       "      <td>44.24</td>\n",
       "      <td>17.6</td>\n",
       "      <td>5</td>\n",
       "      <td>15.165784</td>\n",
       "      <td>0.011320</td>\n",
       "    </tr>\n",
       "    <tr>\n",
       "      <th>5940</th>\n",
       "      <td>2009-01-02</td>\n",
       "      <td>Cobar</td>\n",
       "      <td>18.4</td>\n",
       "      <td>28.9</td>\n",
       "      <td>0.0</td>\n",
       "      <td>14.8</td>\n",
       "      <td>13.0</td>\n",
       "      <td>30.0</td>\n",
       "      <td>8.0</td>\n",
       "      <td>1012.9</td>\n",
       "      <td>...</td>\n",
       "      <td>20.3</td>\n",
       "      <td>27.0</td>\n",
       "      <td>No</td>\n",
       "      <td>0.0</td>\n",
       "      <td>No</td>\n",
       "      <td>36.68</td>\n",
       "      <td>11.6</td>\n",
       "      <td>9</td>\n",
       "      <td>9.750834</td>\n",
       "      <td>0.001683</td>\n",
       "    </tr>\n",
       "    <tr>\n",
       "      <th>5942</th>\n",
       "      <td>2009-01-04</td>\n",
       "      <td>Cobar</td>\n",
       "      <td>19.4</td>\n",
       "      <td>37.6</td>\n",
       "      <td>0.0</td>\n",
       "      <td>10.8</td>\n",
       "      <td>10.6</td>\n",
       "      <td>42.0</td>\n",
       "      <td>22.0</td>\n",
       "      <td>1012.3</td>\n",
       "      <td>...</td>\n",
       "      <td>28.7</td>\n",
       "      <td>34.9</td>\n",
       "      <td>No</td>\n",
       "      <td>0.0</td>\n",
       "      <td>No</td>\n",
       "      <td>47.12</td>\n",
       "      <td>28.4</td>\n",
       "      <td>11</td>\n",
       "      <td>5.557986</td>\n",
       "      <td>0.061026</td>\n",
       "    </tr>\n",
       "    <tr>\n",
       "      <th>5943</th>\n",
       "      <td>2009-01-05</td>\n",
       "      <td>Cobar</td>\n",
       "      <td>21.9</td>\n",
       "      <td>38.4</td>\n",
       "      <td>0.0</td>\n",
       "      <td>11.4</td>\n",
       "      <td>12.2</td>\n",
       "      <td>37.0</td>\n",
       "      <td>22.0</td>\n",
       "      <td>1012.7</td>\n",
       "      <td>...</td>\n",
       "      <td>29.1</td>\n",
       "      <td>35.6</td>\n",
       "      <td>No</td>\n",
       "      <td>0.0</td>\n",
       "      <td>No</td>\n",
       "      <td>48.08</td>\n",
       "      <td>28.4</td>\n",
       "      <td>10</td>\n",
       "      <td>17.820001</td>\n",
       "      <td>0.010724</td>\n",
       "    </tr>\n",
       "    <tr>\n",
       "      <th>5944</th>\n",
       "      <td>2009-01-06</td>\n",
       "      <td>Cobar</td>\n",
       "      <td>24.2</td>\n",
       "      <td>41.0</td>\n",
       "      <td>0.0</td>\n",
       "      <td>11.2</td>\n",
       "      <td>8.4</td>\n",
       "      <td>19.0</td>\n",
       "      <td>15.0</td>\n",
       "      <td>1010.7</td>\n",
       "      <td>...</td>\n",
       "      <td>33.6</td>\n",
       "      <td>37.6</td>\n",
       "      <td>No</td>\n",
       "      <td>0.0</td>\n",
       "      <td>No</td>\n",
       "      <td>51.20</td>\n",
       "      <td>20.0</td>\n",
       "      <td>9</td>\n",
       "      <td>13.217116</td>\n",
       "      <td>0.103292</td>\n",
       "    </tr>\n",
       "    <tr>\n",
       "      <th>...</th>\n",
       "      <td>...</td>\n",
       "      <td>...</td>\n",
       "      <td>...</td>\n",
       "      <td>...</td>\n",
       "      <td>...</td>\n",
       "      <td>...</td>\n",
       "      <td>...</td>\n",
       "      <td>...</td>\n",
       "      <td>...</td>\n",
       "      <td>...</td>\n",
       "      <td>...</td>\n",
       "      <td>...</td>\n",
       "      <td>...</td>\n",
       "      <td>...</td>\n",
       "      <td>...</td>\n",
       "      <td>...</td>\n",
       "      <td>...</td>\n",
       "      <td>...</td>\n",
       "      <td>...</td>\n",
       "      <td>...</td>\n",
       "      <td>...</td>\n",
       "    </tr>\n",
       "    <tr>\n",
       "      <th>139108</th>\n",
       "      <td>2017-06-20</td>\n",
       "      <td>Darwin</td>\n",
       "      <td>19.3</td>\n",
       "      <td>33.4</td>\n",
       "      <td>0.0</td>\n",
       "      <td>6.0</td>\n",
       "      <td>11.0</td>\n",
       "      <td>63.0</td>\n",
       "      <td>32.0</td>\n",
       "      <td>1013.9</td>\n",
       "      <td>...</td>\n",
       "      <td>24.5</td>\n",
       "      <td>32.3</td>\n",
       "      <td>No</td>\n",
       "      <td>0.0</td>\n",
       "      <td>No</td>\n",
       "      <td>42.08</td>\n",
       "      <td>40.4</td>\n",
       "      <td>7</td>\n",
       "      <td>15.000004</td>\n",
       "      <td>0.008671</td>\n",
       "    </tr>\n",
       "    <tr>\n",
       "      <th>139109</th>\n",
       "      <td>2017-06-21</td>\n",
       "      <td>Darwin</td>\n",
       "      <td>21.2</td>\n",
       "      <td>32.6</td>\n",
       "      <td>0.0</td>\n",
       "      <td>7.6</td>\n",
       "      <td>8.6</td>\n",
       "      <td>56.0</td>\n",
       "      <td>28.0</td>\n",
       "      <td>1014.6</td>\n",
       "      <td>...</td>\n",
       "      <td>24.8</td>\n",
       "      <td>32.0</td>\n",
       "      <td>No</td>\n",
       "      <td>0.0</td>\n",
       "      <td>No</td>\n",
       "      <td>41.12</td>\n",
       "      <td>35.6</td>\n",
       "      <td>12</td>\n",
       "      <td>3.721395</td>\n",
       "      <td>0.052358</td>\n",
       "    </tr>\n",
       "    <tr>\n",
       "      <th>139110</th>\n",
       "      <td>2017-06-22</td>\n",
       "      <td>Darwin</td>\n",
       "      <td>20.7</td>\n",
       "      <td>32.8</td>\n",
       "      <td>0.0</td>\n",
       "      <td>5.6</td>\n",
       "      <td>11.0</td>\n",
       "      <td>46.0</td>\n",
       "      <td>23.0</td>\n",
       "      <td>1015.3</td>\n",
       "      <td>...</td>\n",
       "      <td>24.8</td>\n",
       "      <td>32.1</td>\n",
       "      <td>No</td>\n",
       "      <td>0.0</td>\n",
       "      <td>No</td>\n",
       "      <td>41.36</td>\n",
       "      <td>29.6</td>\n",
       "      <td>10</td>\n",
       "      <td>18.462662</td>\n",
       "      <td>0.005346</td>\n",
       "    </tr>\n",
       "    <tr>\n",
       "      <th>139111</th>\n",
       "      <td>2017-06-23</td>\n",
       "      <td>Darwin</td>\n",
       "      <td>19.5</td>\n",
       "      <td>31.8</td>\n",
       "      <td>0.0</td>\n",
       "      <td>6.2</td>\n",
       "      <td>10.6</td>\n",
       "      <td>62.0</td>\n",
       "      <td>58.0</td>\n",
       "      <td>1014.9</td>\n",
       "      <td>...</td>\n",
       "      <td>24.8</td>\n",
       "      <td>29.2</td>\n",
       "      <td>No</td>\n",
       "      <td>0.0</td>\n",
       "      <td>No</td>\n",
       "      <td>40.16</td>\n",
       "      <td>71.6</td>\n",
       "      <td>6</td>\n",
       "      <td>16.343690</td>\n",
       "      <td>0.025044</td>\n",
       "    </tr>\n",
       "    <tr>\n",
       "      <th>139112</th>\n",
       "      <td>2017-06-24</td>\n",
       "      <td>Darwin</td>\n",
       "      <td>20.2</td>\n",
       "      <td>31.7</td>\n",
       "      <td>0.0</td>\n",
       "      <td>5.6</td>\n",
       "      <td>10.7</td>\n",
       "      <td>73.0</td>\n",
       "      <td>32.0</td>\n",
       "      <td>1013.9</td>\n",
       "      <td>...</td>\n",
       "      <td>25.4</td>\n",
       "      <td>31.0</td>\n",
       "      <td>No</td>\n",
       "      <td>0.0</td>\n",
       "      <td>No</td>\n",
       "      <td>40.04</td>\n",
       "      <td>40.4</td>\n",
       "      <td>12</td>\n",
       "      <td>9.187054</td>\n",
       "      <td>0.043525</td>\n",
       "    </tr>\n",
       "  </tbody>\n",
       "</table>\n",
       "<p>61918 rows × 23 columns</p>\n",
       "</div>"
      ],
      "text/plain": [
       "              date location  mintemp  maxtemp  rainfall  evaporation  \\\n",
       "5939    2009-01-01    Cobar     17.9     35.2       0.0         12.0   \n",
       "5940    2009-01-02    Cobar     18.4     28.9       0.0         14.8   \n",
       "5942    2009-01-04    Cobar     19.4     37.6       0.0         10.8   \n",
       "5943    2009-01-05    Cobar     21.9     38.4       0.0         11.4   \n",
       "5944    2009-01-06    Cobar     24.2     41.0       0.0         11.2   \n",
       "...            ...      ...      ...      ...       ...          ...   \n",
       "139108  2017-06-20   Darwin     19.3     33.4       0.0          6.0   \n",
       "139109  2017-06-21   Darwin     21.2     32.6       0.0          7.6   \n",
       "139110  2017-06-22   Darwin     20.7     32.8       0.0          5.6   \n",
       "139111  2017-06-23   Darwin     19.5     31.8       0.0          6.2   \n",
       "139112  2017-06-24   Darwin     20.2     31.7       0.0          5.6   \n",
       "\n",
       "        sunshine  humidity9am  humidity3pm  pressure9am  ...  temp9am  \\\n",
       "5939        12.3         20.0         13.0       1006.3  ...     26.6   \n",
       "5940        13.0         30.0          8.0       1012.9  ...     20.3   \n",
       "5942        10.6         42.0         22.0       1012.3  ...     28.7   \n",
       "5943        12.2         37.0         22.0       1012.7  ...     29.1   \n",
       "5944         8.4         19.0         15.0       1010.7  ...     33.6   \n",
       "...          ...          ...          ...          ...  ...      ...   \n",
       "139108      11.0         63.0         32.0       1013.9  ...     24.5   \n",
       "139109       8.6         56.0         28.0       1014.6  ...     24.8   \n",
       "139110      11.0         46.0         23.0       1015.3  ...     24.8   \n",
       "139111      10.6         62.0         58.0       1014.9  ...     24.8   \n",
       "139112      10.7         73.0         32.0       1013.9  ...     25.4   \n",
       "\n",
       "        temp3pm  raintoday  amountOfRain  raintomorrow   temp  humidity  \\\n",
       "5939       33.4         No           0.0            No  44.24      17.6   \n",
       "5940       27.0         No           0.0            No  36.68      11.6   \n",
       "5942       34.9         No           0.0            No  47.12      28.4   \n",
       "5943       35.6         No           0.0            No  48.08      28.4   \n",
       "5944       37.6         No           0.0            No  51.20      20.0   \n",
       "...         ...        ...           ...           ...    ...       ...   \n",
       "139108     32.3         No           0.0            No  42.08      40.4   \n",
       "139109     32.0         No           0.0            No  41.12      35.6   \n",
       "139110     32.1         No           0.0            No  41.36      29.6   \n",
       "139111     29.2         No           0.0            No  40.16      71.6   \n",
       "139112     31.0         No           0.0            No  40.04      40.4   \n",
       "\n",
       "       precipitation3pm  precipitation9am  modelo_vigente  \n",
       "5939                  5         15.165784        0.011320  \n",
       "5940                  9          9.750834        0.001683  \n",
       "5942                 11          5.557986        0.061026  \n",
       "5943                 10         17.820001        0.010724  \n",
       "5944                  9         13.217116        0.103292  \n",
       "...                 ...               ...             ...  \n",
       "139108                7         15.000004        0.008671  \n",
       "139109               12          3.721395        0.052358  \n",
       "139110               10         18.462662        0.005346  \n",
       "139111                6         16.343690        0.025044  \n",
       "139112               12          9.187054        0.043525  \n",
       "\n",
       "[61918 rows x 23 columns]"
      ]
     },
     "execution_count": 15,
     "metadata": {},
     "output_type": "execute_result"
    }
   ],
   "source": [
    "rain=rain.dropna()\n",
    "rain"
   ]
  },
  {
   "cell_type": "code",
   "execution_count": 16,
   "id": "fcab850c",
   "metadata": {
    "ExecuteTime": {
     "end_time": "2021-10-01T13:40:51.101817Z",
     "start_time": "2021-10-01T13:40:51.087855Z"
    }
   },
   "outputs": [],
   "source": [
    "# A variavel target esta com sim ou nao (rain tomorrow)."
   ]
  },
  {
   "cell_type": "code",
   "execution_count": 17,
   "id": "83199934",
   "metadata": {
    "ExecuteTime": {
     "end_time": "2021-10-01T13:40:51.302599Z",
     "start_time": "2021-10-01T13:40:51.104810Z"
    }
   },
   "outputs": [
    {
     "data": {
      "text/plain": [
       "5939      No\n",
       "5940      No\n",
       "5942      No\n",
       "5943      No\n",
       "5944      No\n",
       "          ..\n",
       "139108    No\n",
       "139109    No\n",
       "139110    No\n",
       "139111    No\n",
       "139112    No\n",
       "Name: raintomorrow, Length: 61918, dtype: object"
      ]
     },
     "execution_count": 17,
     "metadata": {},
     "output_type": "execute_result"
    }
   ],
   "source": [
    "rain.raintomorrow"
   ]
  },
  {
   "cell_type": "code",
   "execution_count": 18,
   "id": "979e1b4e",
   "metadata": {
    "ExecuteTime": {
     "end_time": "2021-10-01T13:40:51.427597Z",
     "start_time": "2021-10-01T13:40:51.305590Z"
    }
   },
   "outputs": [
    {
     "data": {
      "text/plain": [
       "5939      No\n",
       "5940      No\n",
       "5942      No\n",
       "5943      No\n",
       "5944      No\n",
       "          ..\n",
       "139108    No\n",
       "139109    No\n",
       "139110    No\n",
       "139111    No\n",
       "139112    No\n",
       "Name: raintoday, Length: 61918, dtype: object"
      ]
     },
     "execution_count": 18,
     "metadata": {},
     "output_type": "execute_result"
    }
   ],
   "source": [
    "rain.raintoday"
   ]
  },
  {
   "cell_type": "code",
   "execution_count": 19,
   "id": "f270de03",
   "metadata": {
    "ExecuteTime": {
     "end_time": "2021-10-01T13:40:51.584257Z",
     "start_time": "2021-10-01T13:40:51.428594Z"
    }
   },
   "outputs": [],
   "source": [
    "rain['raintoday']=rain['raintoday'].replace({'No':0,'Yes':1})"
   ]
  },
  {
   "cell_type": "code",
   "execution_count": 20,
   "id": "60fb5ae4",
   "metadata": {
    "ExecuteTime": {
     "end_time": "2021-10-01T13:40:51.725225Z",
     "start_time": "2021-10-01T13:40:51.586252Z"
    }
   },
   "outputs": [],
   "source": [
    "rain['raintomorrow']=rain['raintomorrow'].replace({'No':0,'Yes':1})"
   ]
  },
  {
   "cell_type": "code",
   "execution_count": 21,
   "id": "293b508e",
   "metadata": {
    "ExecuteTime": {
     "end_time": "2021-10-01T13:40:51.898033Z",
     "start_time": "2021-10-01T13:40:51.727219Z"
    }
   },
   "outputs": [
    {
     "data": {
      "text/html": [
       "<div>\n",
       "<style scoped>\n",
       "    .dataframe tbody tr th:only-of-type {\n",
       "        vertical-align: middle;\n",
       "    }\n",
       "\n",
       "    .dataframe tbody tr th {\n",
       "        vertical-align: top;\n",
       "    }\n",
       "\n",
       "    .dataframe thead th {\n",
       "        text-align: right;\n",
       "    }\n",
       "</style>\n",
       "<table border=\"1\" class=\"dataframe\">\n",
       "  <thead>\n",
       "    <tr style=\"text-align: right;\">\n",
       "      <th></th>\n",
       "      <th>date</th>\n",
       "      <th>location</th>\n",
       "      <th>mintemp</th>\n",
       "      <th>maxtemp</th>\n",
       "      <th>rainfall</th>\n",
       "      <th>evaporation</th>\n",
       "      <th>sunshine</th>\n",
       "      <th>humidity9am</th>\n",
       "      <th>humidity3pm</th>\n",
       "      <th>pressure9am</th>\n",
       "      <th>...</th>\n",
       "      <th>temp9am</th>\n",
       "      <th>temp3pm</th>\n",
       "      <th>raintoday</th>\n",
       "      <th>amountOfRain</th>\n",
       "      <th>raintomorrow</th>\n",
       "      <th>temp</th>\n",
       "      <th>humidity</th>\n",
       "      <th>precipitation3pm</th>\n",
       "      <th>precipitation9am</th>\n",
       "      <th>modelo_vigente</th>\n",
       "    </tr>\n",
       "  </thead>\n",
       "  <tbody>\n",
       "    <tr>\n",
       "      <th>5939</th>\n",
       "      <td>2009-01-01</td>\n",
       "      <td>Cobar</td>\n",
       "      <td>17.9</td>\n",
       "      <td>35.2</td>\n",
       "      <td>0.0</td>\n",
       "      <td>12.0</td>\n",
       "      <td>12.3</td>\n",
       "      <td>20.0</td>\n",
       "      <td>13.0</td>\n",
       "      <td>1006.3</td>\n",
       "      <td>...</td>\n",
       "      <td>26.6</td>\n",
       "      <td>33.4</td>\n",
       "      <td>0</td>\n",
       "      <td>0.0</td>\n",
       "      <td>0</td>\n",
       "      <td>44.24</td>\n",
       "      <td>17.6</td>\n",
       "      <td>5</td>\n",
       "      <td>15.165784</td>\n",
       "      <td>0.011320</td>\n",
       "    </tr>\n",
       "    <tr>\n",
       "      <th>5940</th>\n",
       "      <td>2009-01-02</td>\n",
       "      <td>Cobar</td>\n",
       "      <td>18.4</td>\n",
       "      <td>28.9</td>\n",
       "      <td>0.0</td>\n",
       "      <td>14.8</td>\n",
       "      <td>13.0</td>\n",
       "      <td>30.0</td>\n",
       "      <td>8.0</td>\n",
       "      <td>1012.9</td>\n",
       "      <td>...</td>\n",
       "      <td>20.3</td>\n",
       "      <td>27.0</td>\n",
       "      <td>0</td>\n",
       "      <td>0.0</td>\n",
       "      <td>0</td>\n",
       "      <td>36.68</td>\n",
       "      <td>11.6</td>\n",
       "      <td>9</td>\n",
       "      <td>9.750834</td>\n",
       "      <td>0.001683</td>\n",
       "    </tr>\n",
       "    <tr>\n",
       "      <th>5942</th>\n",
       "      <td>2009-01-04</td>\n",
       "      <td>Cobar</td>\n",
       "      <td>19.4</td>\n",
       "      <td>37.6</td>\n",
       "      <td>0.0</td>\n",
       "      <td>10.8</td>\n",
       "      <td>10.6</td>\n",
       "      <td>42.0</td>\n",
       "      <td>22.0</td>\n",
       "      <td>1012.3</td>\n",
       "      <td>...</td>\n",
       "      <td>28.7</td>\n",
       "      <td>34.9</td>\n",
       "      <td>0</td>\n",
       "      <td>0.0</td>\n",
       "      <td>0</td>\n",
       "      <td>47.12</td>\n",
       "      <td>28.4</td>\n",
       "      <td>11</td>\n",
       "      <td>5.557986</td>\n",
       "      <td>0.061026</td>\n",
       "    </tr>\n",
       "    <tr>\n",
       "      <th>5943</th>\n",
       "      <td>2009-01-05</td>\n",
       "      <td>Cobar</td>\n",
       "      <td>21.9</td>\n",
       "      <td>38.4</td>\n",
       "      <td>0.0</td>\n",
       "      <td>11.4</td>\n",
       "      <td>12.2</td>\n",
       "      <td>37.0</td>\n",
       "      <td>22.0</td>\n",
       "      <td>1012.7</td>\n",
       "      <td>...</td>\n",
       "      <td>29.1</td>\n",
       "      <td>35.6</td>\n",
       "      <td>0</td>\n",
       "      <td>0.0</td>\n",
       "      <td>0</td>\n",
       "      <td>48.08</td>\n",
       "      <td>28.4</td>\n",
       "      <td>10</td>\n",
       "      <td>17.820001</td>\n",
       "      <td>0.010724</td>\n",
       "    </tr>\n",
       "    <tr>\n",
       "      <th>5944</th>\n",
       "      <td>2009-01-06</td>\n",
       "      <td>Cobar</td>\n",
       "      <td>24.2</td>\n",
       "      <td>41.0</td>\n",
       "      <td>0.0</td>\n",
       "      <td>11.2</td>\n",
       "      <td>8.4</td>\n",
       "      <td>19.0</td>\n",
       "      <td>15.0</td>\n",
       "      <td>1010.7</td>\n",
       "      <td>...</td>\n",
       "      <td>33.6</td>\n",
       "      <td>37.6</td>\n",
       "      <td>0</td>\n",
       "      <td>0.0</td>\n",
       "      <td>0</td>\n",
       "      <td>51.20</td>\n",
       "      <td>20.0</td>\n",
       "      <td>9</td>\n",
       "      <td>13.217116</td>\n",
       "      <td>0.103292</td>\n",
       "    </tr>\n",
       "    <tr>\n",
       "      <th>...</th>\n",
       "      <td>...</td>\n",
       "      <td>...</td>\n",
       "      <td>...</td>\n",
       "      <td>...</td>\n",
       "      <td>...</td>\n",
       "      <td>...</td>\n",
       "      <td>...</td>\n",
       "      <td>...</td>\n",
       "      <td>...</td>\n",
       "      <td>...</td>\n",
       "      <td>...</td>\n",
       "      <td>...</td>\n",
       "      <td>...</td>\n",
       "      <td>...</td>\n",
       "      <td>...</td>\n",
       "      <td>...</td>\n",
       "      <td>...</td>\n",
       "      <td>...</td>\n",
       "      <td>...</td>\n",
       "      <td>...</td>\n",
       "      <td>...</td>\n",
       "    </tr>\n",
       "    <tr>\n",
       "      <th>139108</th>\n",
       "      <td>2017-06-20</td>\n",
       "      <td>Darwin</td>\n",
       "      <td>19.3</td>\n",
       "      <td>33.4</td>\n",
       "      <td>0.0</td>\n",
       "      <td>6.0</td>\n",
       "      <td>11.0</td>\n",
       "      <td>63.0</td>\n",
       "      <td>32.0</td>\n",
       "      <td>1013.9</td>\n",
       "      <td>...</td>\n",
       "      <td>24.5</td>\n",
       "      <td>32.3</td>\n",
       "      <td>0</td>\n",
       "      <td>0.0</td>\n",
       "      <td>0</td>\n",
       "      <td>42.08</td>\n",
       "      <td>40.4</td>\n",
       "      <td>7</td>\n",
       "      <td>15.000004</td>\n",
       "      <td>0.008671</td>\n",
       "    </tr>\n",
       "    <tr>\n",
       "      <th>139109</th>\n",
       "      <td>2017-06-21</td>\n",
       "      <td>Darwin</td>\n",
       "      <td>21.2</td>\n",
       "      <td>32.6</td>\n",
       "      <td>0.0</td>\n",
       "      <td>7.6</td>\n",
       "      <td>8.6</td>\n",
       "      <td>56.0</td>\n",
       "      <td>28.0</td>\n",
       "      <td>1014.6</td>\n",
       "      <td>...</td>\n",
       "      <td>24.8</td>\n",
       "      <td>32.0</td>\n",
       "      <td>0</td>\n",
       "      <td>0.0</td>\n",
       "      <td>0</td>\n",
       "      <td>41.12</td>\n",
       "      <td>35.6</td>\n",
       "      <td>12</td>\n",
       "      <td>3.721395</td>\n",
       "      <td>0.052358</td>\n",
       "    </tr>\n",
       "    <tr>\n",
       "      <th>139110</th>\n",
       "      <td>2017-06-22</td>\n",
       "      <td>Darwin</td>\n",
       "      <td>20.7</td>\n",
       "      <td>32.8</td>\n",
       "      <td>0.0</td>\n",
       "      <td>5.6</td>\n",
       "      <td>11.0</td>\n",
       "      <td>46.0</td>\n",
       "      <td>23.0</td>\n",
       "      <td>1015.3</td>\n",
       "      <td>...</td>\n",
       "      <td>24.8</td>\n",
       "      <td>32.1</td>\n",
       "      <td>0</td>\n",
       "      <td>0.0</td>\n",
       "      <td>0</td>\n",
       "      <td>41.36</td>\n",
       "      <td>29.6</td>\n",
       "      <td>10</td>\n",
       "      <td>18.462662</td>\n",
       "      <td>0.005346</td>\n",
       "    </tr>\n",
       "    <tr>\n",
       "      <th>139111</th>\n",
       "      <td>2017-06-23</td>\n",
       "      <td>Darwin</td>\n",
       "      <td>19.5</td>\n",
       "      <td>31.8</td>\n",
       "      <td>0.0</td>\n",
       "      <td>6.2</td>\n",
       "      <td>10.6</td>\n",
       "      <td>62.0</td>\n",
       "      <td>58.0</td>\n",
       "      <td>1014.9</td>\n",
       "      <td>...</td>\n",
       "      <td>24.8</td>\n",
       "      <td>29.2</td>\n",
       "      <td>0</td>\n",
       "      <td>0.0</td>\n",
       "      <td>0</td>\n",
       "      <td>40.16</td>\n",
       "      <td>71.6</td>\n",
       "      <td>6</td>\n",
       "      <td>16.343690</td>\n",
       "      <td>0.025044</td>\n",
       "    </tr>\n",
       "    <tr>\n",
       "      <th>139112</th>\n",
       "      <td>2017-06-24</td>\n",
       "      <td>Darwin</td>\n",
       "      <td>20.2</td>\n",
       "      <td>31.7</td>\n",
       "      <td>0.0</td>\n",
       "      <td>5.6</td>\n",
       "      <td>10.7</td>\n",
       "      <td>73.0</td>\n",
       "      <td>32.0</td>\n",
       "      <td>1013.9</td>\n",
       "      <td>...</td>\n",
       "      <td>25.4</td>\n",
       "      <td>31.0</td>\n",
       "      <td>0</td>\n",
       "      <td>0.0</td>\n",
       "      <td>0</td>\n",
       "      <td>40.04</td>\n",
       "      <td>40.4</td>\n",
       "      <td>12</td>\n",
       "      <td>9.187054</td>\n",
       "      <td>0.043525</td>\n",
       "    </tr>\n",
       "  </tbody>\n",
       "</table>\n",
       "<p>61918 rows × 23 columns</p>\n",
       "</div>"
      ],
      "text/plain": [
       "              date location  mintemp  maxtemp  rainfall  evaporation  \\\n",
       "5939    2009-01-01    Cobar     17.9     35.2       0.0         12.0   \n",
       "5940    2009-01-02    Cobar     18.4     28.9       0.0         14.8   \n",
       "5942    2009-01-04    Cobar     19.4     37.6       0.0         10.8   \n",
       "5943    2009-01-05    Cobar     21.9     38.4       0.0         11.4   \n",
       "5944    2009-01-06    Cobar     24.2     41.0       0.0         11.2   \n",
       "...            ...      ...      ...      ...       ...          ...   \n",
       "139108  2017-06-20   Darwin     19.3     33.4       0.0          6.0   \n",
       "139109  2017-06-21   Darwin     21.2     32.6       0.0          7.6   \n",
       "139110  2017-06-22   Darwin     20.7     32.8       0.0          5.6   \n",
       "139111  2017-06-23   Darwin     19.5     31.8       0.0          6.2   \n",
       "139112  2017-06-24   Darwin     20.2     31.7       0.0          5.6   \n",
       "\n",
       "        sunshine  humidity9am  humidity3pm  pressure9am  ...  temp9am  \\\n",
       "5939        12.3         20.0         13.0       1006.3  ...     26.6   \n",
       "5940        13.0         30.0          8.0       1012.9  ...     20.3   \n",
       "5942        10.6         42.0         22.0       1012.3  ...     28.7   \n",
       "5943        12.2         37.0         22.0       1012.7  ...     29.1   \n",
       "5944         8.4         19.0         15.0       1010.7  ...     33.6   \n",
       "...          ...          ...          ...          ...  ...      ...   \n",
       "139108      11.0         63.0         32.0       1013.9  ...     24.5   \n",
       "139109       8.6         56.0         28.0       1014.6  ...     24.8   \n",
       "139110      11.0         46.0         23.0       1015.3  ...     24.8   \n",
       "139111      10.6         62.0         58.0       1014.9  ...     24.8   \n",
       "139112      10.7         73.0         32.0       1013.9  ...     25.4   \n",
       "\n",
       "        temp3pm  raintoday  amountOfRain  raintomorrow   temp  humidity  \\\n",
       "5939       33.4          0           0.0             0  44.24      17.6   \n",
       "5940       27.0          0           0.0             0  36.68      11.6   \n",
       "5942       34.9          0           0.0             0  47.12      28.4   \n",
       "5943       35.6          0           0.0             0  48.08      28.4   \n",
       "5944       37.6          0           0.0             0  51.20      20.0   \n",
       "...         ...        ...           ...           ...    ...       ...   \n",
       "139108     32.3          0           0.0             0  42.08      40.4   \n",
       "139109     32.0          0           0.0             0  41.12      35.6   \n",
       "139110     32.1          0           0.0             0  41.36      29.6   \n",
       "139111     29.2          0           0.0             0  40.16      71.6   \n",
       "139112     31.0          0           0.0             0  40.04      40.4   \n",
       "\n",
       "        precipitation3pm  precipitation9am  modelo_vigente  \n",
       "5939                   5         15.165784        0.011320  \n",
       "5940                   9          9.750834        0.001683  \n",
       "5942                  11          5.557986        0.061026  \n",
       "5943                  10         17.820001        0.010724  \n",
       "5944                   9         13.217116        0.103292  \n",
       "...                  ...               ...             ...  \n",
       "139108                 7         15.000004        0.008671  \n",
       "139109                12          3.721395        0.052358  \n",
       "139110                10         18.462662        0.005346  \n",
       "139111                 6         16.343690        0.025044  \n",
       "139112                12          9.187054        0.043525  \n",
       "\n",
       "[61918 rows x 23 columns]"
      ]
     },
     "execution_count": 21,
     "metadata": {},
     "output_type": "execute_result"
    }
   ],
   "source": [
    "rain"
   ]
  },
  {
   "cell_type": "code",
   "execution_count": 22,
   "id": "db9d23ba",
   "metadata": {
    "ExecuteTime": {
     "end_time": "2021-10-01T13:40:52.084136Z",
     "start_time": "2021-10-01T13:40:51.900029Z"
    }
   },
   "outputs": [
    {
     "data": {
      "text/html": [
       "<div>\n",
       "<style scoped>\n",
       "    .dataframe tbody tr th:only-of-type {\n",
       "        vertical-align: middle;\n",
       "    }\n",
       "\n",
       "    .dataframe tbody tr th {\n",
       "        vertical-align: top;\n",
       "    }\n",
       "\n",
       "    .dataframe thead th {\n",
       "        text-align: right;\n",
       "    }\n",
       "</style>\n",
       "<table border=\"1\" class=\"dataframe\">\n",
       "  <thead>\n",
       "    <tr style=\"text-align: right;\">\n",
       "      <th></th>\n",
       "      <th>mintemp</th>\n",
       "      <th>maxtemp</th>\n",
       "      <th>rainfall</th>\n",
       "      <th>evaporation</th>\n",
       "      <th>sunshine</th>\n",
       "      <th>humidity9am</th>\n",
       "      <th>humidity3pm</th>\n",
       "      <th>pressure9am</th>\n",
       "      <th>pressure3pm</th>\n",
       "      <th>cloud9am</th>\n",
       "      <th>...</th>\n",
       "      <th>temp9am</th>\n",
       "      <th>temp3pm</th>\n",
       "      <th>raintoday</th>\n",
       "      <th>amountOfRain</th>\n",
       "      <th>raintomorrow</th>\n",
       "      <th>temp</th>\n",
       "      <th>humidity</th>\n",
       "      <th>precipitation3pm</th>\n",
       "      <th>precipitation9am</th>\n",
       "      <th>modelo_vigente</th>\n",
       "    </tr>\n",
       "  </thead>\n",
       "  <tbody>\n",
       "    <tr>\n",
       "      <th>mintemp</th>\n",
       "      <td>1.000000</td>\n",
       "      <td>0.743674</td>\n",
       "      <td>0.110846</td>\n",
       "      <td>0.510004</td>\n",
       "      <td>0.070680</td>\n",
       "      <td>-0.177758</td>\n",
       "      <td>0.076333</td>\n",
       "      <td>-0.475451</td>\n",
       "      <td>-0.491435</td>\n",
       "      <td>0.115204</td>\n",
       "      <td>...</td>\n",
       "      <td>0.905552</td>\n",
       "      <td>0.720796</td>\n",
       "      <td>0.051478</td>\n",
       "      <td>0.142911</td>\n",
       "      <td>0.088964</td>\n",
       "      <td>0.578773</td>\n",
       "      <td>0.068579</td>\n",
       "      <td>0.003508</td>\n",
       "      <td>-0.001382</td>\n",
       "      <td>0.135744</td>\n",
       "    </tr>\n",
       "    <tr>\n",
       "      <th>maxtemp</th>\n",
       "      <td>0.743674</td>\n",
       "      <td>1.000000</td>\n",
       "      <td>-0.069482</td>\n",
       "      <td>0.652247</td>\n",
       "      <td>0.461698</td>\n",
       "      <td>-0.496329</td>\n",
       "      <td>-0.448043</td>\n",
       "      <td>-0.355855</td>\n",
       "      <td>-0.454047</td>\n",
       "      <td>-0.262003</td>\n",
       "      <td>...</td>\n",
       "      <td>0.890743</td>\n",
       "      <td>0.984101</td>\n",
       "      <td>-0.220012</td>\n",
       "      <td>-0.015487</td>\n",
       "      <td>-0.144498</td>\n",
       "      <td>0.779778</td>\n",
       "      <td>-0.406402</td>\n",
       "      <td>0.003385</td>\n",
       "      <td>-0.001055</td>\n",
       "      <td>-0.212616</td>\n",
       "    </tr>\n",
       "    <tr>\n",
       "      <th>rainfall</th>\n",
       "      <td>0.110846</td>\n",
       "      <td>-0.069482</td>\n",
       "      <td>1.000000</td>\n",
       "      <td>-0.074049</td>\n",
       "      <td>-0.243738</td>\n",
       "      <td>0.258127</td>\n",
       "      <td>0.270421</td>\n",
       "      <td>-0.177673</td>\n",
       "      <td>-0.133452</td>\n",
       "      <td>0.215699</td>\n",
       "      <td>...</td>\n",
       "      <td>0.014438</td>\n",
       "      <td>-0.073640</td>\n",
       "      <td>0.553481</td>\n",
       "      <td>0.302723</td>\n",
       "      <td>0.253773</td>\n",
       "      <td>-0.060093</td>\n",
       "      <td>0.247128</td>\n",
       "      <td>-0.007556</td>\n",
       "      <td>-0.003066</td>\n",
       "      <td>0.371184</td>\n",
       "    </tr>\n",
       "    <tr>\n",
       "      <th>evaporation</th>\n",
       "      <td>0.510004</td>\n",
       "      <td>0.652247</td>\n",
       "      <td>-0.074049</td>\n",
       "      <td>1.000000</td>\n",
       "      <td>0.366577</td>\n",
       "      <td>-0.554104</td>\n",
       "      <td>-0.414895</td>\n",
       "      <td>-0.304406</td>\n",
       "      <td>-0.330799</td>\n",
       "      <td>-0.192775</td>\n",
       "      <td>...</td>\n",
       "      <td>0.598609</td>\n",
       "      <td>0.631686</td>\n",
       "      <td>-0.213291</td>\n",
       "      <td>-0.042126</td>\n",
       "      <td>-0.127257</td>\n",
       "      <td>0.509947</td>\n",
       "      <td>-0.375537</td>\n",
       "      <td>0.007043</td>\n",
       "      <td>-0.000189</td>\n",
       "      <td>-0.183537</td>\n",
       "    </tr>\n",
       "    <tr>\n",
       "      <th>sunshine</th>\n",
       "      <td>0.070680</td>\n",
       "      <td>0.461698</td>\n",
       "      <td>-0.243738</td>\n",
       "      <td>0.366577</td>\n",
       "      <td>1.000000</td>\n",
       "      <td>-0.498855</td>\n",
       "      <td>-0.622767</td>\n",
       "      <td>0.035783</td>\n",
       "      <td>-0.027949</td>\n",
       "      <td>-0.678801</td>\n",
       "      <td>...</td>\n",
       "      <td>0.285678</td>\n",
       "      <td>0.483256</td>\n",
       "      <td>-0.327720</td>\n",
       "      <td>-0.298182</td>\n",
       "      <td>-0.449261</td>\n",
       "      <td>0.359295</td>\n",
       "      <td>-0.565134</td>\n",
       "      <td>-0.003376</td>\n",
       "      <td>0.004404</td>\n",
       "      <td>-0.643104</td>\n",
       "    </tr>\n",
       "    <tr>\n",
       "      <th>humidity9am</th>\n",
       "      <td>-0.177758</td>\n",
       "      <td>-0.496329</td>\n",
       "      <td>0.258127</td>\n",
       "      <td>-0.554104</td>\n",
       "      <td>-0.498855</td>\n",
       "      <td>1.000000</td>\n",
       "      <td>0.679847</td>\n",
       "      <td>0.122421</td>\n",
       "      <td>0.178441</td>\n",
       "      <td>0.432826</td>\n",
       "      <td>...</td>\n",
       "      <td>-0.426737</td>\n",
       "      <td>-0.487789</td>\n",
       "      <td>0.371288</td>\n",
       "      <td>0.177473</td>\n",
       "      <td>0.265360</td>\n",
       "      <td>-0.388460</td>\n",
       "      <td>0.617538</td>\n",
       "      <td>-0.003913</td>\n",
       "      <td>-0.001670</td>\n",
       "      <td>0.392692</td>\n",
       "    </tr>\n",
       "    <tr>\n",
       "      <th>humidity3pm</th>\n",
       "      <td>0.076333</td>\n",
       "      <td>-0.448043</td>\n",
       "      <td>0.270421</td>\n",
       "      <td>-0.414895</td>\n",
       "      <td>-0.622767</td>\n",
       "      <td>0.679847</td>\n",
       "      <td>1.000000</td>\n",
       "      <td>-0.057837</td>\n",
       "      <td>0.028653</td>\n",
       "      <td>0.507677</td>\n",
       "      <td>...</td>\n",
       "      <td>-0.148491</td>\n",
       "      <td>-0.498921</td>\n",
       "      <td>0.376480</td>\n",
       "      <td>0.309910</td>\n",
       "      <td>0.447742</td>\n",
       "      <td>-0.351533</td>\n",
       "      <td>0.907959</td>\n",
       "      <td>-0.003120</td>\n",
       "      <td>-0.003777</td>\n",
       "      <td>0.644851</td>\n",
       "    </tr>\n",
       "    <tr>\n",
       "      <th>pressure9am</th>\n",
       "      <td>-0.475451</td>\n",
       "      <td>-0.355855</td>\n",
       "      <td>-0.177673</td>\n",
       "      <td>-0.304406</td>\n",
       "      <td>0.035783</td>\n",
       "      <td>0.122421</td>\n",
       "      <td>-0.057837</td>\n",
       "      <td>1.000000</td>\n",
       "      <td>0.961926</td>\n",
       "      <td>-0.142788</td>\n",
       "      <td>...</td>\n",
       "      <td>-0.447688</td>\n",
       "      <td>-0.314549</td>\n",
       "      <td>-0.183468</td>\n",
       "      <td>-0.174923</td>\n",
       "      <td>-0.255934</td>\n",
       "      <td>-0.274905</td>\n",
       "      <td>-0.052670</td>\n",
       "      <td>-0.002484</td>\n",
       "      <td>0.003967</td>\n",
       "      <td>-0.371539</td>\n",
       "    </tr>\n",
       "    <tr>\n",
       "      <th>pressure3pm</th>\n",
       "      <td>-0.491435</td>\n",
       "      <td>-0.454047</td>\n",
       "      <td>-0.133452</td>\n",
       "      <td>-0.330799</td>\n",
       "      <td>-0.027949</td>\n",
       "      <td>0.178441</td>\n",
       "      <td>0.028653</td>\n",
       "      <td>0.961926</td>\n",
       "      <td>1.000000</td>\n",
       "      <td>-0.074193</td>\n",
       "      <td>...</td>\n",
       "      <td>-0.500713</td>\n",
       "      <td>-0.422233</td>\n",
       "      <td>-0.100839</td>\n",
       "      <td>-0.174031</td>\n",
       "      <td>-0.231428</td>\n",
       "      <td>-0.351972</td>\n",
       "      <td>0.025834</td>\n",
       "      <td>-0.002560</td>\n",
       "      <td>0.004046</td>\n",
       "      <td>-0.322904</td>\n",
       "    </tr>\n",
       "    <tr>\n",
       "      <th>cloud9am</th>\n",
       "      <td>0.115204</td>\n",
       "      <td>-0.262003</td>\n",
       "      <td>0.215699</td>\n",
       "      <td>-0.192775</td>\n",
       "      <td>-0.678801</td>\n",
       "      <td>0.432826</td>\n",
       "      <td>0.507677</td>\n",
       "      <td>-0.142788</td>\n",
       "      <td>-0.074193</td>\n",
       "      <td>1.000000</td>\n",
       "      <td>...</td>\n",
       "      <td>-0.101916</td>\n",
       "      <td>-0.278856</td>\n",
       "      <td>0.297414</td>\n",
       "      <td>0.204768</td>\n",
       "      <td>0.319410</td>\n",
       "      <td>-0.203947</td>\n",
       "      <td>0.460164</td>\n",
       "      <td>-0.000451</td>\n",
       "      <td>-0.000973</td>\n",
       "      <td>0.473697</td>\n",
       "    </tr>\n",
       "    <tr>\n",
       "      <th>cloud3pm</th>\n",
       "      <td>0.050917</td>\n",
       "      <td>-0.253183</td>\n",
       "      <td>0.191743</td>\n",
       "      <td>-0.196180</td>\n",
       "      <td>-0.704871</td>\n",
       "      <td>0.344565</td>\n",
       "      <td>0.507461</td>\n",
       "      <td>-0.164998</td>\n",
       "      <td>-0.101631</td>\n",
       "      <td>0.612633</td>\n",
       "      <td>...</td>\n",
       "      <td>-0.100641</td>\n",
       "      <td>-0.292905</td>\n",
       "      <td>0.272209</td>\n",
       "      <td>0.243504</td>\n",
       "      <td>0.389891</td>\n",
       "      <td>-0.199544</td>\n",
       "      <td>0.460723</td>\n",
       "      <td>0.000051</td>\n",
       "      <td>-0.005084</td>\n",
       "      <td>0.558326</td>\n",
       "    </tr>\n",
       "    <tr>\n",
       "      <th>temp9am</th>\n",
       "      <td>0.905552</td>\n",
       "      <td>0.890743</td>\n",
       "      <td>0.014438</td>\n",
       "      <td>0.598609</td>\n",
       "      <td>0.285678</td>\n",
       "      <td>-0.426737</td>\n",
       "      <td>-0.148491</td>\n",
       "      <td>-0.447688</td>\n",
       "      <td>-0.500713</td>\n",
       "      <td>-0.101916</td>\n",
       "      <td>...</td>\n",
       "      <td>1.000000</td>\n",
       "      <td>0.867197</td>\n",
       "      <td>-0.094113</td>\n",
       "      <td>0.072842</td>\n",
       "      <td>-0.016180</td>\n",
       "      <td>0.694676</td>\n",
       "      <td>-0.134657</td>\n",
       "      <td>0.003672</td>\n",
       "      <td>-0.000129</td>\n",
       "      <td>-0.025092</td>\n",
       "    </tr>\n",
       "    <tr>\n",
       "      <th>temp3pm</th>\n",
       "      <td>0.720796</td>\n",
       "      <td>0.984101</td>\n",
       "      <td>-0.073640</td>\n",
       "      <td>0.631686</td>\n",
       "      <td>0.483256</td>\n",
       "      <td>-0.487789</td>\n",
       "      <td>-0.498921</td>\n",
       "      <td>-0.314549</td>\n",
       "      <td>-0.422233</td>\n",
       "      <td>-0.278856</td>\n",
       "      <td>...</td>\n",
       "      <td>0.867197</td>\n",
       "      <td>1.000000</td>\n",
       "      <td>-0.225959</td>\n",
       "      <td>-0.039415</td>\n",
       "      <td>-0.181295</td>\n",
       "      <td>0.767793</td>\n",
       "      <td>-0.452851</td>\n",
       "      <td>0.003252</td>\n",
       "      <td>-0.000318</td>\n",
       "      <td>-0.264061</td>\n",
       "    </tr>\n",
       "    <tr>\n",
       "      <th>raintoday</th>\n",
       "      <td>0.051478</td>\n",
       "      <td>-0.220012</td>\n",
       "      <td>0.553481</td>\n",
       "      <td>-0.213291</td>\n",
       "      <td>-0.327720</td>\n",
       "      <td>0.371288</td>\n",
       "      <td>0.376480</td>\n",
       "      <td>-0.183468</td>\n",
       "      <td>-0.100839</td>\n",
       "      <td>0.297414</td>\n",
       "      <td>...</td>\n",
       "      <td>-0.094113</td>\n",
       "      <td>-0.225959</td>\n",
       "      <td>1.000000</td>\n",
       "      <td>0.218438</td>\n",
       "      <td>0.308621</td>\n",
       "      <td>-0.174028</td>\n",
       "      <td>0.339474</td>\n",
       "      <td>-0.001359</td>\n",
       "      <td>-0.002866</td>\n",
       "      <td>0.453866</td>\n",
       "    </tr>\n",
       "    <tr>\n",
       "      <th>amountOfRain</th>\n",
       "      <td>0.142911</td>\n",
       "      <td>-0.015487</td>\n",
       "      <td>0.302723</td>\n",
       "      <td>-0.042126</td>\n",
       "      <td>-0.298182</td>\n",
       "      <td>0.177473</td>\n",
       "      <td>0.309910</td>\n",
       "      <td>-0.174923</td>\n",
       "      <td>-0.174031</td>\n",
       "      <td>0.204768</td>\n",
       "      <td>...</td>\n",
       "      <td>0.072842</td>\n",
       "      <td>-0.039415</td>\n",
       "      <td>0.218438</td>\n",
       "      <td>1.000000</td>\n",
       "      <td>0.492611</td>\n",
       "      <td>-0.012145</td>\n",
       "      <td>0.283171</td>\n",
       "      <td>-0.003559</td>\n",
       "      <td>-0.008993</td>\n",
       "      <td>0.505059</td>\n",
       "    </tr>\n",
       "    <tr>\n",
       "      <th>raintomorrow</th>\n",
       "      <td>0.088964</td>\n",
       "      <td>-0.144498</td>\n",
       "      <td>0.253773</td>\n",
       "      <td>-0.127257</td>\n",
       "      <td>-0.449261</td>\n",
       "      <td>0.265360</td>\n",
       "      <td>0.447742</td>\n",
       "      <td>-0.255934</td>\n",
       "      <td>-0.231428</td>\n",
       "      <td>0.319410</td>\n",
       "      <td>...</td>\n",
       "      <td>-0.016180</td>\n",
       "      <td>-0.181295</td>\n",
       "      <td>0.308621</td>\n",
       "      <td>0.492611</td>\n",
       "      <td>1.000000</td>\n",
       "      <td>-0.112636</td>\n",
       "      <td>0.406002</td>\n",
       "      <td>0.006578</td>\n",
       "      <td>-0.013366</td>\n",
       "      <td>0.863107</td>\n",
       "    </tr>\n",
       "    <tr>\n",
       "      <th>temp</th>\n",
       "      <td>0.578773</td>\n",
       "      <td>0.779778</td>\n",
       "      <td>-0.060093</td>\n",
       "      <td>0.509947</td>\n",
       "      <td>0.359295</td>\n",
       "      <td>-0.388460</td>\n",
       "      <td>-0.351533</td>\n",
       "      <td>-0.274905</td>\n",
       "      <td>-0.351972</td>\n",
       "      <td>-0.203947</td>\n",
       "      <td>...</td>\n",
       "      <td>0.694676</td>\n",
       "      <td>0.767793</td>\n",
       "      <td>-0.174028</td>\n",
       "      <td>-0.012145</td>\n",
       "      <td>-0.112636</td>\n",
       "      <td>1.000000</td>\n",
       "      <td>-0.318448</td>\n",
       "      <td>0.000834</td>\n",
       "      <td>-0.001049</td>\n",
       "      <td>-0.164796</td>\n",
       "    </tr>\n",
       "    <tr>\n",
       "      <th>humidity</th>\n",
       "      <td>0.068579</td>\n",
       "      <td>-0.406402</td>\n",
       "      <td>0.247128</td>\n",
       "      <td>-0.375537</td>\n",
       "      <td>-0.565134</td>\n",
       "      <td>0.617538</td>\n",
       "      <td>0.907959</td>\n",
       "      <td>-0.052670</td>\n",
       "      <td>0.025834</td>\n",
       "      <td>0.460164</td>\n",
       "      <td>...</td>\n",
       "      <td>-0.134657</td>\n",
       "      <td>-0.452851</td>\n",
       "      <td>0.339474</td>\n",
       "      <td>0.283171</td>\n",
       "      <td>0.406002</td>\n",
       "      <td>-0.318448</td>\n",
       "      <td>1.000000</td>\n",
       "      <td>-0.003714</td>\n",
       "      <td>-0.004449</td>\n",
       "      <td>0.584962</td>\n",
       "    </tr>\n",
       "    <tr>\n",
       "      <th>precipitation3pm</th>\n",
       "      <td>0.003508</td>\n",
       "      <td>0.003385</td>\n",
       "      <td>-0.007556</td>\n",
       "      <td>0.007043</td>\n",
       "      <td>-0.003376</td>\n",
       "      <td>-0.003913</td>\n",
       "      <td>-0.003120</td>\n",
       "      <td>-0.002484</td>\n",
       "      <td>-0.002560</td>\n",
       "      <td>-0.000451</td>\n",
       "      <td>...</td>\n",
       "      <td>0.003672</td>\n",
       "      <td>0.003252</td>\n",
       "      <td>-0.001359</td>\n",
       "      <td>-0.003559</td>\n",
       "      <td>0.006578</td>\n",
       "      <td>0.000834</td>\n",
       "      <td>-0.003714</td>\n",
       "      <td>1.000000</td>\n",
       "      <td>0.004011</td>\n",
       "      <td>0.002956</td>\n",
       "    </tr>\n",
       "    <tr>\n",
       "      <th>precipitation9am</th>\n",
       "      <td>-0.001382</td>\n",
       "      <td>-0.001055</td>\n",
       "      <td>-0.003066</td>\n",
       "      <td>-0.000189</td>\n",
       "      <td>0.004404</td>\n",
       "      <td>-0.001670</td>\n",
       "      <td>-0.003777</td>\n",
       "      <td>0.003967</td>\n",
       "      <td>0.004046</td>\n",
       "      <td>-0.000973</td>\n",
       "      <td>...</td>\n",
       "      <td>-0.000129</td>\n",
       "      <td>-0.000318</td>\n",
       "      <td>-0.002866</td>\n",
       "      <td>-0.008993</td>\n",
       "      <td>-0.013366</td>\n",
       "      <td>-0.001049</td>\n",
       "      <td>-0.004449</td>\n",
       "      <td>0.004011</td>\n",
       "      <td>1.000000</td>\n",
       "      <td>-0.009939</td>\n",
       "    </tr>\n",
       "    <tr>\n",
       "      <th>modelo_vigente</th>\n",
       "      <td>0.135744</td>\n",
       "      <td>-0.212616</td>\n",
       "      <td>0.371184</td>\n",
       "      <td>-0.183537</td>\n",
       "      <td>-0.643104</td>\n",
       "      <td>0.392692</td>\n",
       "      <td>0.644851</td>\n",
       "      <td>-0.371539</td>\n",
       "      <td>-0.322904</td>\n",
       "      <td>0.473697</td>\n",
       "      <td>...</td>\n",
       "      <td>-0.025092</td>\n",
       "      <td>-0.264061</td>\n",
       "      <td>0.453866</td>\n",
       "      <td>0.505059</td>\n",
       "      <td>0.863107</td>\n",
       "      <td>-0.164796</td>\n",
       "      <td>0.584962</td>\n",
       "      <td>0.002956</td>\n",
       "      <td>-0.009939</td>\n",
       "      <td>1.000000</td>\n",
       "    </tr>\n",
       "  </tbody>\n",
       "</table>\n",
       "<p>21 rows × 21 columns</p>\n",
       "</div>"
      ],
      "text/plain": [
       "                   mintemp   maxtemp  rainfall  evaporation  sunshine  \\\n",
       "mintemp           1.000000  0.743674  0.110846     0.510004  0.070680   \n",
       "maxtemp           0.743674  1.000000 -0.069482     0.652247  0.461698   \n",
       "rainfall          0.110846 -0.069482  1.000000    -0.074049 -0.243738   \n",
       "evaporation       0.510004  0.652247 -0.074049     1.000000  0.366577   \n",
       "sunshine          0.070680  0.461698 -0.243738     0.366577  1.000000   \n",
       "humidity9am      -0.177758 -0.496329  0.258127    -0.554104 -0.498855   \n",
       "humidity3pm       0.076333 -0.448043  0.270421    -0.414895 -0.622767   \n",
       "pressure9am      -0.475451 -0.355855 -0.177673    -0.304406  0.035783   \n",
       "pressure3pm      -0.491435 -0.454047 -0.133452    -0.330799 -0.027949   \n",
       "cloud9am          0.115204 -0.262003  0.215699    -0.192775 -0.678801   \n",
       "cloud3pm          0.050917 -0.253183  0.191743    -0.196180 -0.704871   \n",
       "temp9am           0.905552  0.890743  0.014438     0.598609  0.285678   \n",
       "temp3pm           0.720796  0.984101 -0.073640     0.631686  0.483256   \n",
       "raintoday         0.051478 -0.220012  0.553481    -0.213291 -0.327720   \n",
       "amountOfRain      0.142911 -0.015487  0.302723    -0.042126 -0.298182   \n",
       "raintomorrow      0.088964 -0.144498  0.253773    -0.127257 -0.449261   \n",
       "temp              0.578773  0.779778 -0.060093     0.509947  0.359295   \n",
       "humidity          0.068579 -0.406402  0.247128    -0.375537 -0.565134   \n",
       "precipitation3pm  0.003508  0.003385 -0.007556     0.007043 -0.003376   \n",
       "precipitation9am -0.001382 -0.001055 -0.003066    -0.000189  0.004404   \n",
       "modelo_vigente    0.135744 -0.212616  0.371184    -0.183537 -0.643104   \n",
       "\n",
       "                  humidity9am  humidity3pm  pressure9am  pressure3pm  \\\n",
       "mintemp             -0.177758     0.076333    -0.475451    -0.491435   \n",
       "maxtemp             -0.496329    -0.448043    -0.355855    -0.454047   \n",
       "rainfall             0.258127     0.270421    -0.177673    -0.133452   \n",
       "evaporation         -0.554104    -0.414895    -0.304406    -0.330799   \n",
       "sunshine            -0.498855    -0.622767     0.035783    -0.027949   \n",
       "humidity9am          1.000000     0.679847     0.122421     0.178441   \n",
       "humidity3pm          0.679847     1.000000    -0.057837     0.028653   \n",
       "pressure9am          0.122421    -0.057837     1.000000     0.961926   \n",
       "pressure3pm          0.178441     0.028653     0.961926     1.000000   \n",
       "cloud9am             0.432826     0.507677    -0.142788    -0.074193   \n",
       "cloud3pm             0.344565     0.507461    -0.164998    -0.101631   \n",
       "temp9am             -0.426737    -0.148491    -0.447688    -0.500713   \n",
       "temp3pm             -0.487789    -0.498921    -0.314549    -0.422233   \n",
       "raintoday            0.371288     0.376480    -0.183468    -0.100839   \n",
       "amountOfRain         0.177473     0.309910    -0.174923    -0.174031   \n",
       "raintomorrow         0.265360     0.447742    -0.255934    -0.231428   \n",
       "temp                -0.388460    -0.351533    -0.274905    -0.351972   \n",
       "humidity             0.617538     0.907959    -0.052670     0.025834   \n",
       "precipitation3pm    -0.003913    -0.003120    -0.002484    -0.002560   \n",
       "precipitation9am    -0.001670    -0.003777     0.003967     0.004046   \n",
       "modelo_vigente       0.392692     0.644851    -0.371539    -0.322904   \n",
       "\n",
       "                  cloud9am  ...   temp9am   temp3pm  raintoday  amountOfRain  \\\n",
       "mintemp           0.115204  ...  0.905552  0.720796   0.051478      0.142911   \n",
       "maxtemp          -0.262003  ...  0.890743  0.984101  -0.220012     -0.015487   \n",
       "rainfall          0.215699  ...  0.014438 -0.073640   0.553481      0.302723   \n",
       "evaporation      -0.192775  ...  0.598609  0.631686  -0.213291     -0.042126   \n",
       "sunshine         -0.678801  ...  0.285678  0.483256  -0.327720     -0.298182   \n",
       "humidity9am       0.432826  ... -0.426737 -0.487789   0.371288      0.177473   \n",
       "humidity3pm       0.507677  ... -0.148491 -0.498921   0.376480      0.309910   \n",
       "pressure9am      -0.142788  ... -0.447688 -0.314549  -0.183468     -0.174923   \n",
       "pressure3pm      -0.074193  ... -0.500713 -0.422233  -0.100839     -0.174031   \n",
       "cloud9am          1.000000  ... -0.101916 -0.278856   0.297414      0.204768   \n",
       "cloud3pm          0.612633  ... -0.100641 -0.292905   0.272209      0.243504   \n",
       "temp9am          -0.101916  ...  1.000000  0.867197  -0.094113      0.072842   \n",
       "temp3pm          -0.278856  ...  0.867197  1.000000  -0.225959     -0.039415   \n",
       "raintoday         0.297414  ... -0.094113 -0.225959   1.000000      0.218438   \n",
       "amountOfRain      0.204768  ...  0.072842 -0.039415   0.218438      1.000000   \n",
       "raintomorrow      0.319410  ... -0.016180 -0.181295   0.308621      0.492611   \n",
       "temp             -0.203947  ...  0.694676  0.767793  -0.174028     -0.012145   \n",
       "humidity          0.460164  ... -0.134657 -0.452851   0.339474      0.283171   \n",
       "precipitation3pm -0.000451  ...  0.003672  0.003252  -0.001359     -0.003559   \n",
       "precipitation9am -0.000973  ... -0.000129 -0.000318  -0.002866     -0.008993   \n",
       "modelo_vigente    0.473697  ... -0.025092 -0.264061   0.453866      0.505059   \n",
       "\n",
       "                  raintomorrow      temp  humidity  precipitation3pm  \\\n",
       "mintemp               0.088964  0.578773  0.068579          0.003508   \n",
       "maxtemp              -0.144498  0.779778 -0.406402          0.003385   \n",
       "rainfall              0.253773 -0.060093  0.247128         -0.007556   \n",
       "evaporation          -0.127257  0.509947 -0.375537          0.007043   \n",
       "sunshine             -0.449261  0.359295 -0.565134         -0.003376   \n",
       "humidity9am           0.265360 -0.388460  0.617538         -0.003913   \n",
       "humidity3pm           0.447742 -0.351533  0.907959         -0.003120   \n",
       "pressure9am          -0.255934 -0.274905 -0.052670         -0.002484   \n",
       "pressure3pm          -0.231428 -0.351972  0.025834         -0.002560   \n",
       "cloud9am              0.319410 -0.203947  0.460164         -0.000451   \n",
       "cloud3pm              0.389891 -0.199544  0.460723          0.000051   \n",
       "temp9am              -0.016180  0.694676 -0.134657          0.003672   \n",
       "temp3pm              -0.181295  0.767793 -0.452851          0.003252   \n",
       "raintoday             0.308621 -0.174028  0.339474         -0.001359   \n",
       "amountOfRain          0.492611 -0.012145  0.283171         -0.003559   \n",
       "raintomorrow          1.000000 -0.112636  0.406002          0.006578   \n",
       "temp                 -0.112636  1.000000 -0.318448          0.000834   \n",
       "humidity              0.406002 -0.318448  1.000000         -0.003714   \n",
       "precipitation3pm      0.006578  0.000834 -0.003714          1.000000   \n",
       "precipitation9am     -0.013366 -0.001049 -0.004449          0.004011   \n",
       "modelo_vigente        0.863107 -0.164796  0.584962          0.002956   \n",
       "\n",
       "                  precipitation9am  modelo_vigente  \n",
       "mintemp                  -0.001382        0.135744  \n",
       "maxtemp                  -0.001055       -0.212616  \n",
       "rainfall                 -0.003066        0.371184  \n",
       "evaporation              -0.000189       -0.183537  \n",
       "sunshine                  0.004404       -0.643104  \n",
       "humidity9am              -0.001670        0.392692  \n",
       "humidity3pm              -0.003777        0.644851  \n",
       "pressure9am               0.003967       -0.371539  \n",
       "pressure3pm               0.004046       -0.322904  \n",
       "cloud9am                 -0.000973        0.473697  \n",
       "cloud3pm                 -0.005084        0.558326  \n",
       "temp9am                  -0.000129       -0.025092  \n",
       "temp3pm                  -0.000318       -0.264061  \n",
       "raintoday                -0.002866        0.453866  \n",
       "amountOfRain             -0.008993        0.505059  \n",
       "raintomorrow             -0.013366        0.863107  \n",
       "temp                     -0.001049       -0.164796  \n",
       "humidity                 -0.004449        0.584962  \n",
       "precipitation3pm          0.004011        0.002956  \n",
       "precipitation9am          1.000000       -0.009939  \n",
       "modelo_vigente           -0.009939        1.000000  \n",
       "\n",
       "[21 rows x 21 columns]"
      ]
     },
     "execution_count": 22,
     "metadata": {},
     "output_type": "execute_result"
    }
   ],
   "source": [
    "rain.corr()"
   ]
  },
  {
   "cell_type": "code",
   "execution_count": 23,
   "id": "e0e01f6d",
   "metadata": {
    "ExecuteTime": {
     "end_time": "2021-10-01T13:40:52.190843Z",
     "start_time": "2021-10-01T13:40:52.090130Z"
    }
   },
   "outputs": [
    {
     "data": {
      "text/plain": [
       "mintemp             0.088964\n",
       "maxtemp            -0.144498\n",
       "rainfall            0.253773\n",
       "evaporation        -0.127257\n",
       "sunshine           -0.449261\n",
       "humidity9am         0.265360\n",
       "humidity3pm         0.447742\n",
       "pressure9am        -0.255934\n",
       "pressure3pm        -0.231428\n",
       "cloud9am            0.319410\n",
       "cloud3pm            0.389891\n",
       "temp9am            -0.016180\n",
       "temp3pm            -0.181295\n",
       "raintoday           0.308621\n",
       "amountOfRain        0.492611\n",
       "raintomorrow        1.000000\n",
       "temp               -0.112636\n",
       "humidity            0.406002\n",
       "precipitation3pm    0.006578\n",
       "precipitation9am   -0.013366\n",
       "modelo_vigente      0.863107\n",
       "Name: raintomorrow, dtype: float64"
      ]
     },
     "execution_count": 23,
     "metadata": {},
     "output_type": "execute_result"
    }
   ],
   "source": [
    "rain.corr()['raintomorrow']"
   ]
  },
  {
   "cell_type": "code",
   "execution_count": 24,
   "id": "ceafb158",
   "metadata": {
    "ExecuteTime": {
     "end_time": "2021-10-01T13:40:52.268834Z",
     "start_time": "2021-10-01T13:40:52.193839Z"
    }
   },
   "outputs": [],
   "source": [
    "# A coluna \"Amount of rain\" significa o colume de chuva naquele dia, que no caso é amanha. Nao podemos usa-la dado que ela ainda nao existe. E uma coluna de vazamento de dados."
   ]
  },
  {
   "cell_type": "code",
   "execution_count": null,
   "id": "7036ac70",
   "metadata": {
    "ExecuteTime": {
     "end_time": "2021-09-30T20:22:33.563410Z",
     "start_time": "2021-09-30T20:22:33.080459Z"
    }
   },
   "outputs": [],
   "source": []
  },
  {
   "cell_type": "code",
   "execution_count": 119,
   "id": "abe069b8",
   "metadata": {
    "ExecuteTime": {
     "end_time": "2021-10-01T14:33:58.385076Z",
     "start_time": "2021-10-01T14:33:58.151740Z"
    }
   },
   "outputs": [
    {
     "data": {
      "text/html": [
       "<div>\n",
       "<style scoped>\n",
       "    .dataframe tbody tr th:only-of-type {\n",
       "        vertical-align: middle;\n",
       "    }\n",
       "\n",
       "    .dataframe tbody tr th {\n",
       "        vertical-align: top;\n",
       "    }\n",
       "\n",
       "    .dataframe thead th {\n",
       "        text-align: right;\n",
       "    }\n",
       "</style>\n",
       "<table border=\"1\" class=\"dataframe\">\n",
       "  <thead>\n",
       "    <tr style=\"text-align: right;\">\n",
       "      <th></th>\n",
       "      <th>date</th>\n",
       "      <th>location</th>\n",
       "      <th>mintemp</th>\n",
       "      <th>maxtemp</th>\n",
       "      <th>rainfall</th>\n",
       "      <th>evaporation</th>\n",
       "      <th>sunshine</th>\n",
       "      <th>humidity9am</th>\n",
       "      <th>humidity3pm</th>\n",
       "      <th>pressure9am</th>\n",
       "      <th>...</th>\n",
       "      <th>wind_speed3pm_7</th>\n",
       "      <th>wind_speed3pm_72</th>\n",
       "      <th>wind_speed3pm_74</th>\n",
       "      <th>wind_speed3pm_76</th>\n",
       "      <th>wind_speed3pm_78</th>\n",
       "      <th>wind_speed3pm_83</th>\n",
       "      <th>wind_speed3pm_87</th>\n",
       "      <th>wind_speed3pm_9</th>\n",
       "      <th>wind_speed3pm_wind_speed3pm</th>\n",
       "      <th>wind_speed3pm_windspeed3pm</th>\n",
       "    </tr>\n",
       "  </thead>\n",
       "  <tbody>\n",
       "    <tr>\n",
       "      <th>0</th>\n",
       "      <td>2009-01-01</td>\n",
       "      <td>Cobar</td>\n",
       "      <td>17.9</td>\n",
       "      <td>35.2</td>\n",
       "      <td>0.0</td>\n",
       "      <td>12.0</td>\n",
       "      <td>12.3</td>\n",
       "      <td>20.0</td>\n",
       "      <td>13.0</td>\n",
       "      <td>1006.3</td>\n",
       "      <td>...</td>\n",
       "      <td>0</td>\n",
       "      <td>0</td>\n",
       "      <td>0</td>\n",
       "      <td>0</td>\n",
       "      <td>0</td>\n",
       "      <td>0</td>\n",
       "      <td>0</td>\n",
       "      <td>0</td>\n",
       "      <td>0</td>\n",
       "      <td>0</td>\n",
       "    </tr>\n",
       "    <tr>\n",
       "      <th>1</th>\n",
       "      <td>2009-01-02</td>\n",
       "      <td>Cobar</td>\n",
       "      <td>18.4</td>\n",
       "      <td>28.9</td>\n",
       "      <td>0.0</td>\n",
       "      <td>14.8</td>\n",
       "      <td>13.0</td>\n",
       "      <td>30.0</td>\n",
       "      <td>8.0</td>\n",
       "      <td>1012.9</td>\n",
       "      <td>...</td>\n",
       "      <td>0</td>\n",
       "      <td>0</td>\n",
       "      <td>0</td>\n",
       "      <td>0</td>\n",
       "      <td>0</td>\n",
       "      <td>0</td>\n",
       "      <td>0</td>\n",
       "      <td>0</td>\n",
       "      <td>0</td>\n",
       "      <td>0</td>\n",
       "    </tr>\n",
       "    <tr>\n",
       "      <th>2</th>\n",
       "      <td>2009-01-04</td>\n",
       "      <td>Cobar</td>\n",
       "      <td>19.4</td>\n",
       "      <td>37.6</td>\n",
       "      <td>0.0</td>\n",
       "      <td>10.8</td>\n",
       "      <td>10.6</td>\n",
       "      <td>42.0</td>\n",
       "      <td>22.0</td>\n",
       "      <td>1012.3</td>\n",
       "      <td>...</td>\n",
       "      <td>0</td>\n",
       "      <td>0</td>\n",
       "      <td>0</td>\n",
       "      <td>0</td>\n",
       "      <td>0</td>\n",
       "      <td>0</td>\n",
       "      <td>0</td>\n",
       "      <td>0</td>\n",
       "      <td>0</td>\n",
       "      <td>0</td>\n",
       "    </tr>\n",
       "    <tr>\n",
       "      <th>3</th>\n",
       "      <td>2009-01-05</td>\n",
       "      <td>Cobar</td>\n",
       "      <td>21.9</td>\n",
       "      <td>38.4</td>\n",
       "      <td>0.0</td>\n",
       "      <td>11.4</td>\n",
       "      <td>12.2</td>\n",
       "      <td>37.0</td>\n",
       "      <td>22.0</td>\n",
       "      <td>1012.7</td>\n",
       "      <td>...</td>\n",
       "      <td>0</td>\n",
       "      <td>0</td>\n",
       "      <td>0</td>\n",
       "      <td>0</td>\n",
       "      <td>0</td>\n",
       "      <td>0</td>\n",
       "      <td>0</td>\n",
       "      <td>0</td>\n",
       "      <td>0</td>\n",
       "      <td>0</td>\n",
       "    </tr>\n",
       "    <tr>\n",
       "      <th>4</th>\n",
       "      <td>2009-01-06</td>\n",
       "      <td>Cobar</td>\n",
       "      <td>24.2</td>\n",
       "      <td>41.0</td>\n",
       "      <td>0.0</td>\n",
       "      <td>11.2</td>\n",
       "      <td>8.4</td>\n",
       "      <td>19.0</td>\n",
       "      <td>15.0</td>\n",
       "      <td>1010.7</td>\n",
       "      <td>...</td>\n",
       "      <td>0</td>\n",
       "      <td>0</td>\n",
       "      <td>0</td>\n",
       "      <td>0</td>\n",
       "      <td>0</td>\n",
       "      <td>0</td>\n",
       "      <td>0</td>\n",
       "      <td>0</td>\n",
       "      <td>0</td>\n",
       "      <td>0</td>\n",
       "    </tr>\n",
       "    <tr>\n",
       "      <th>...</th>\n",
       "      <td>...</td>\n",
       "      <td>...</td>\n",
       "      <td>...</td>\n",
       "      <td>...</td>\n",
       "      <td>...</td>\n",
       "      <td>...</td>\n",
       "      <td>...</td>\n",
       "      <td>...</td>\n",
       "      <td>...</td>\n",
       "      <td>...</td>\n",
       "      <td>...</td>\n",
       "      <td>...</td>\n",
       "      <td>...</td>\n",
       "      <td>...</td>\n",
       "      <td>...</td>\n",
       "      <td>...</td>\n",
       "      <td>...</td>\n",
       "      <td>...</td>\n",
       "      <td>...</td>\n",
       "      <td>...</td>\n",
       "      <td>...</td>\n",
       "    </tr>\n",
       "    <tr>\n",
       "      <th>61913</th>\n",
       "      <td>2017-06-20</td>\n",
       "      <td>Darwin</td>\n",
       "      <td>19.3</td>\n",
       "      <td>33.4</td>\n",
       "      <td>0.0</td>\n",
       "      <td>6.0</td>\n",
       "      <td>11.0</td>\n",
       "      <td>63.0</td>\n",
       "      <td>32.0</td>\n",
       "      <td>1013.9</td>\n",
       "      <td>...</td>\n",
       "      <td>0</td>\n",
       "      <td>0</td>\n",
       "      <td>0</td>\n",
       "      <td>0</td>\n",
       "      <td>0</td>\n",
       "      <td>0</td>\n",
       "      <td>0</td>\n",
       "      <td>0</td>\n",
       "      <td>0</td>\n",
       "      <td>0</td>\n",
       "    </tr>\n",
       "    <tr>\n",
       "      <th>61914</th>\n",
       "      <td>2017-06-21</td>\n",
       "      <td>Darwin</td>\n",
       "      <td>21.2</td>\n",
       "      <td>32.6</td>\n",
       "      <td>0.0</td>\n",
       "      <td>7.6</td>\n",
       "      <td>8.6</td>\n",
       "      <td>56.0</td>\n",
       "      <td>28.0</td>\n",
       "      <td>1014.6</td>\n",
       "      <td>...</td>\n",
       "      <td>0</td>\n",
       "      <td>0</td>\n",
       "      <td>0</td>\n",
       "      <td>0</td>\n",
       "      <td>0</td>\n",
       "      <td>0</td>\n",
       "      <td>0</td>\n",
       "      <td>0</td>\n",
       "      <td>0</td>\n",
       "      <td>0</td>\n",
       "    </tr>\n",
       "    <tr>\n",
       "      <th>61915</th>\n",
       "      <td>2017-06-22</td>\n",
       "      <td>Darwin</td>\n",
       "      <td>20.7</td>\n",
       "      <td>32.8</td>\n",
       "      <td>0.0</td>\n",
       "      <td>5.6</td>\n",
       "      <td>11.0</td>\n",
       "      <td>46.0</td>\n",
       "      <td>23.0</td>\n",
       "      <td>1015.3</td>\n",
       "      <td>...</td>\n",
       "      <td>0</td>\n",
       "      <td>0</td>\n",
       "      <td>0</td>\n",
       "      <td>0</td>\n",
       "      <td>0</td>\n",
       "      <td>0</td>\n",
       "      <td>0</td>\n",
       "      <td>0</td>\n",
       "      <td>0</td>\n",
       "      <td>0</td>\n",
       "    </tr>\n",
       "    <tr>\n",
       "      <th>61916</th>\n",
       "      <td>2017-06-23</td>\n",
       "      <td>Darwin</td>\n",
       "      <td>19.5</td>\n",
       "      <td>31.8</td>\n",
       "      <td>0.0</td>\n",
       "      <td>6.2</td>\n",
       "      <td>10.6</td>\n",
       "      <td>62.0</td>\n",
       "      <td>58.0</td>\n",
       "      <td>1014.9</td>\n",
       "      <td>...</td>\n",
       "      <td>0</td>\n",
       "      <td>0</td>\n",
       "      <td>0</td>\n",
       "      <td>0</td>\n",
       "      <td>0</td>\n",
       "      <td>0</td>\n",
       "      <td>0</td>\n",
       "      <td>0</td>\n",
       "      <td>0</td>\n",
       "      <td>0</td>\n",
       "    </tr>\n",
       "    <tr>\n",
       "      <th>61917</th>\n",
       "      <td>2017-06-24</td>\n",
       "      <td>Darwin</td>\n",
       "      <td>20.2</td>\n",
       "      <td>31.7</td>\n",
       "      <td>0.0</td>\n",
       "      <td>5.6</td>\n",
       "      <td>10.7</td>\n",
       "      <td>73.0</td>\n",
       "      <td>32.0</td>\n",
       "      <td>1013.9</td>\n",
       "      <td>...</td>\n",
       "      <td>1</td>\n",
       "      <td>0</td>\n",
       "      <td>0</td>\n",
       "      <td>0</td>\n",
       "      <td>0</td>\n",
       "      <td>0</td>\n",
       "      <td>0</td>\n",
       "      <td>0</td>\n",
       "      <td>0</td>\n",
       "      <td>0</td>\n",
       "    </tr>\n",
       "  </tbody>\n",
       "</table>\n",
       "<p>61918 rows × 237 columns</p>\n",
       "</div>"
      ],
      "text/plain": [
       "             date location  mintemp  maxtemp  rainfall  evaporation  sunshine  \\\n",
       "0      2009-01-01    Cobar     17.9     35.2       0.0         12.0      12.3   \n",
       "1      2009-01-02    Cobar     18.4     28.9       0.0         14.8      13.0   \n",
       "2      2009-01-04    Cobar     19.4     37.6       0.0         10.8      10.6   \n",
       "3      2009-01-05    Cobar     21.9     38.4       0.0         11.4      12.2   \n",
       "4      2009-01-06    Cobar     24.2     41.0       0.0         11.2       8.4   \n",
       "...           ...      ...      ...      ...       ...          ...       ...   \n",
       "61913  2017-06-20   Darwin     19.3     33.4       0.0          6.0      11.0   \n",
       "61914  2017-06-21   Darwin     21.2     32.6       0.0          7.6       8.6   \n",
       "61915  2017-06-22   Darwin     20.7     32.8       0.0          5.6      11.0   \n",
       "61916  2017-06-23   Darwin     19.5     31.8       0.0          6.2      10.6   \n",
       "61917  2017-06-24   Darwin     20.2     31.7       0.0          5.6      10.7   \n",
       "\n",
       "       humidity9am  humidity3pm  pressure9am  ...  wind_speed3pm_7  \\\n",
       "0             20.0         13.0       1006.3  ...                0   \n",
       "1             30.0          8.0       1012.9  ...                0   \n",
       "2             42.0         22.0       1012.3  ...                0   \n",
       "3             37.0         22.0       1012.7  ...                0   \n",
       "4             19.0         15.0       1010.7  ...                0   \n",
       "...            ...          ...          ...  ...              ...   \n",
       "61913         63.0         32.0       1013.9  ...                0   \n",
       "61914         56.0         28.0       1014.6  ...                0   \n",
       "61915         46.0         23.0       1015.3  ...                0   \n",
       "61916         62.0         58.0       1014.9  ...                0   \n",
       "61917         73.0         32.0       1013.9  ...                1   \n",
       "\n",
       "       wind_speed3pm_72  wind_speed3pm_74  wind_speed3pm_76  wind_speed3pm_78  \\\n",
       "0                     0                 0                 0                 0   \n",
       "1                     0                 0                 0                 0   \n",
       "2                     0                 0                 0                 0   \n",
       "3                     0                 0                 0                 0   \n",
       "4                     0                 0                 0                 0   \n",
       "...                 ...               ...               ...               ...   \n",
       "61913                 0                 0                 0                 0   \n",
       "61914                 0                 0                 0                 0   \n",
       "61915                 0                 0                 0                 0   \n",
       "61916                 0                 0                 0                 0   \n",
       "61917                 0                 0                 0                 0   \n",
       "\n",
       "       wind_speed3pm_83  wind_speed3pm_87  wind_speed3pm_9  \\\n",
       "0                     0                 0                0   \n",
       "1                     0                 0                0   \n",
       "2                     0                 0                0   \n",
       "3                     0                 0                0   \n",
       "4                     0                 0                0   \n",
       "...                 ...               ...              ...   \n",
       "61913                 0                 0                0   \n",
       "61914                 0                 0                0   \n",
       "61915                 0                 0                0   \n",
       "61916                 0                 0                0   \n",
       "61917                 0                 0                0   \n",
       "\n",
       "       wind_speed3pm_wind_speed3pm  wind_speed3pm_windspeed3pm  \n",
       "0                                0                           0  \n",
       "1                                0                           0  \n",
       "2                                0                           0  \n",
       "3                                0                           0  \n",
       "4                                0                           0  \n",
       "...                            ...                         ...  \n",
       "61913                            0                           0  \n",
       "61914                            0                           0  \n",
       "61915                            0                           0  \n",
       "61916                            0                           0  \n",
       "61917                            0                           0  \n",
       "\n",
       "[61918 rows x 237 columns]"
      ]
     },
     "execution_count": 119,
     "metadata": {},
     "output_type": "execute_result"
    }
   ],
   "source": [
    "rain_wind=rain_wind.dropna()\n",
    "rain_wind"
   ]
  },
  {
   "cell_type": "code",
   "execution_count": 120,
   "id": "daf6d8e2",
   "metadata": {
    "ExecuteTime": {
     "end_time": "2021-10-01T14:34:01.993154Z",
     "start_time": "2021-10-01T14:34:01.979191Z"
    }
   },
   "outputs": [
    {
     "data": {
      "text/plain": [
       "0        0\n",
       "1        0\n",
       "2        0\n",
       "3        0\n",
       "4        0\n",
       "        ..\n",
       "61913    0\n",
       "61914    0\n",
       "61915    0\n",
       "61916    0\n",
       "61917    0\n",
       "Name: raintomorrow, Length: 61918, dtype: int64"
      ]
     },
     "execution_count": 120,
     "metadata": {},
     "output_type": "execute_result"
    }
   ],
   "source": [
    "rain_wind['raintomorrow']"
   ]
  },
  {
   "cell_type": "code",
   "execution_count": 121,
   "id": "77891943",
   "metadata": {
    "ExecuteTime": {
     "end_time": "2021-10-01T14:34:05.700595Z",
     "start_time": "2021-10-01T14:34:05.645057Z"
    }
   },
   "outputs": [],
   "source": [
    "rain_wind['raintoday']=rain_wind['raintoday'].replace({'No':0,'Yes':1})"
   ]
  },
  {
   "cell_type": "code",
   "execution_count": 103,
   "id": "e1bb9722",
   "metadata": {
    "ExecuteTime": {
     "end_time": "2021-10-01T13:51:01.785020Z",
     "start_time": "2021-10-01T13:51:01.747131Z"
    }
   },
   "outputs": [
    {
     "name": "stderr",
     "output_type": "stream",
     "text": [
      "<ipython-input-103-14db09535f22>:1: SettingWithCopyWarning: \n",
      "A value is trying to be set on a copy of a slice from a DataFrame.\n",
      "Try using .loc[row_indexer,col_indexer] = value instead\n",
      "\n",
      "See the caveats in the documentation: https://pandas.pydata.org/pandas-docs/stable/user_guide/indexing.html#returning-a-view-versus-a-copy\n",
      "  rain_wind['raintomorrow']=rain_wind['raintomorrow'].replace({'No':0,'Yes':1})\n"
     ]
    }
   ],
   "source": [
    "rain_wind['raintomorrow']=rain_wind['raintomorrow'].replace({'No':0,'Yes':1})"
   ]
  },
  {
   "cell_type": "code",
   "execution_count": 122,
   "id": "5918c009",
   "metadata": {
    "ExecuteTime": {
     "end_time": "2021-10-01T14:34:08.429765Z",
     "start_time": "2021-10-01T14:34:08.269185Z"
    }
   },
   "outputs": [
    {
     "data": {
      "text/html": [
       "<div>\n",
       "<style scoped>\n",
       "    .dataframe tbody tr th:only-of-type {\n",
       "        vertical-align: middle;\n",
       "    }\n",
       "\n",
       "    .dataframe tbody tr th {\n",
       "        vertical-align: top;\n",
       "    }\n",
       "\n",
       "    .dataframe thead th {\n",
       "        text-align: right;\n",
       "    }\n",
       "</style>\n",
       "<table border=\"1\" class=\"dataframe\">\n",
       "  <thead>\n",
       "    <tr style=\"text-align: right;\">\n",
       "      <th></th>\n",
       "      <th>date</th>\n",
       "      <th>location</th>\n",
       "      <th>mintemp</th>\n",
       "      <th>maxtemp</th>\n",
       "      <th>rainfall</th>\n",
       "      <th>evaporation</th>\n",
       "      <th>sunshine</th>\n",
       "      <th>humidity9am</th>\n",
       "      <th>humidity3pm</th>\n",
       "      <th>pressure9am</th>\n",
       "      <th>...</th>\n",
       "      <th>wind_speed3pm_7</th>\n",
       "      <th>wind_speed3pm_72</th>\n",
       "      <th>wind_speed3pm_74</th>\n",
       "      <th>wind_speed3pm_76</th>\n",
       "      <th>wind_speed3pm_78</th>\n",
       "      <th>wind_speed3pm_83</th>\n",
       "      <th>wind_speed3pm_87</th>\n",
       "      <th>wind_speed3pm_9</th>\n",
       "      <th>wind_speed3pm_wind_speed3pm</th>\n",
       "      <th>wind_speed3pm_windspeed3pm</th>\n",
       "    </tr>\n",
       "  </thead>\n",
       "  <tbody>\n",
       "    <tr>\n",
       "      <th>0</th>\n",
       "      <td>2009-01-01</td>\n",
       "      <td>Cobar</td>\n",
       "      <td>17.9</td>\n",
       "      <td>35.2</td>\n",
       "      <td>0.0</td>\n",
       "      <td>12.0</td>\n",
       "      <td>12.3</td>\n",
       "      <td>20.0</td>\n",
       "      <td>13.0</td>\n",
       "      <td>1006.3</td>\n",
       "      <td>...</td>\n",
       "      <td>0</td>\n",
       "      <td>0</td>\n",
       "      <td>0</td>\n",
       "      <td>0</td>\n",
       "      <td>0</td>\n",
       "      <td>0</td>\n",
       "      <td>0</td>\n",
       "      <td>0</td>\n",
       "      <td>0</td>\n",
       "      <td>0</td>\n",
       "    </tr>\n",
       "    <tr>\n",
       "      <th>1</th>\n",
       "      <td>2009-01-02</td>\n",
       "      <td>Cobar</td>\n",
       "      <td>18.4</td>\n",
       "      <td>28.9</td>\n",
       "      <td>0.0</td>\n",
       "      <td>14.8</td>\n",
       "      <td>13.0</td>\n",
       "      <td>30.0</td>\n",
       "      <td>8.0</td>\n",
       "      <td>1012.9</td>\n",
       "      <td>...</td>\n",
       "      <td>0</td>\n",
       "      <td>0</td>\n",
       "      <td>0</td>\n",
       "      <td>0</td>\n",
       "      <td>0</td>\n",
       "      <td>0</td>\n",
       "      <td>0</td>\n",
       "      <td>0</td>\n",
       "      <td>0</td>\n",
       "      <td>0</td>\n",
       "    </tr>\n",
       "    <tr>\n",
       "      <th>2</th>\n",
       "      <td>2009-01-04</td>\n",
       "      <td>Cobar</td>\n",
       "      <td>19.4</td>\n",
       "      <td>37.6</td>\n",
       "      <td>0.0</td>\n",
       "      <td>10.8</td>\n",
       "      <td>10.6</td>\n",
       "      <td>42.0</td>\n",
       "      <td>22.0</td>\n",
       "      <td>1012.3</td>\n",
       "      <td>...</td>\n",
       "      <td>0</td>\n",
       "      <td>0</td>\n",
       "      <td>0</td>\n",
       "      <td>0</td>\n",
       "      <td>0</td>\n",
       "      <td>0</td>\n",
       "      <td>0</td>\n",
       "      <td>0</td>\n",
       "      <td>0</td>\n",
       "      <td>0</td>\n",
       "    </tr>\n",
       "    <tr>\n",
       "      <th>3</th>\n",
       "      <td>2009-01-05</td>\n",
       "      <td>Cobar</td>\n",
       "      <td>21.9</td>\n",
       "      <td>38.4</td>\n",
       "      <td>0.0</td>\n",
       "      <td>11.4</td>\n",
       "      <td>12.2</td>\n",
       "      <td>37.0</td>\n",
       "      <td>22.0</td>\n",
       "      <td>1012.7</td>\n",
       "      <td>...</td>\n",
       "      <td>0</td>\n",
       "      <td>0</td>\n",
       "      <td>0</td>\n",
       "      <td>0</td>\n",
       "      <td>0</td>\n",
       "      <td>0</td>\n",
       "      <td>0</td>\n",
       "      <td>0</td>\n",
       "      <td>0</td>\n",
       "      <td>0</td>\n",
       "    </tr>\n",
       "    <tr>\n",
       "      <th>4</th>\n",
       "      <td>2009-01-06</td>\n",
       "      <td>Cobar</td>\n",
       "      <td>24.2</td>\n",
       "      <td>41.0</td>\n",
       "      <td>0.0</td>\n",
       "      <td>11.2</td>\n",
       "      <td>8.4</td>\n",
       "      <td>19.0</td>\n",
       "      <td>15.0</td>\n",
       "      <td>1010.7</td>\n",
       "      <td>...</td>\n",
       "      <td>0</td>\n",
       "      <td>0</td>\n",
       "      <td>0</td>\n",
       "      <td>0</td>\n",
       "      <td>0</td>\n",
       "      <td>0</td>\n",
       "      <td>0</td>\n",
       "      <td>0</td>\n",
       "      <td>0</td>\n",
       "      <td>0</td>\n",
       "    </tr>\n",
       "    <tr>\n",
       "      <th>...</th>\n",
       "      <td>...</td>\n",
       "      <td>...</td>\n",
       "      <td>...</td>\n",
       "      <td>...</td>\n",
       "      <td>...</td>\n",
       "      <td>...</td>\n",
       "      <td>...</td>\n",
       "      <td>...</td>\n",
       "      <td>...</td>\n",
       "      <td>...</td>\n",
       "      <td>...</td>\n",
       "      <td>...</td>\n",
       "      <td>...</td>\n",
       "      <td>...</td>\n",
       "      <td>...</td>\n",
       "      <td>...</td>\n",
       "      <td>...</td>\n",
       "      <td>...</td>\n",
       "      <td>...</td>\n",
       "      <td>...</td>\n",
       "      <td>...</td>\n",
       "    </tr>\n",
       "    <tr>\n",
       "      <th>61913</th>\n",
       "      <td>2017-06-20</td>\n",
       "      <td>Darwin</td>\n",
       "      <td>19.3</td>\n",
       "      <td>33.4</td>\n",
       "      <td>0.0</td>\n",
       "      <td>6.0</td>\n",
       "      <td>11.0</td>\n",
       "      <td>63.0</td>\n",
       "      <td>32.0</td>\n",
       "      <td>1013.9</td>\n",
       "      <td>...</td>\n",
       "      <td>0</td>\n",
       "      <td>0</td>\n",
       "      <td>0</td>\n",
       "      <td>0</td>\n",
       "      <td>0</td>\n",
       "      <td>0</td>\n",
       "      <td>0</td>\n",
       "      <td>0</td>\n",
       "      <td>0</td>\n",
       "      <td>0</td>\n",
       "    </tr>\n",
       "    <tr>\n",
       "      <th>61914</th>\n",
       "      <td>2017-06-21</td>\n",
       "      <td>Darwin</td>\n",
       "      <td>21.2</td>\n",
       "      <td>32.6</td>\n",
       "      <td>0.0</td>\n",
       "      <td>7.6</td>\n",
       "      <td>8.6</td>\n",
       "      <td>56.0</td>\n",
       "      <td>28.0</td>\n",
       "      <td>1014.6</td>\n",
       "      <td>...</td>\n",
       "      <td>0</td>\n",
       "      <td>0</td>\n",
       "      <td>0</td>\n",
       "      <td>0</td>\n",
       "      <td>0</td>\n",
       "      <td>0</td>\n",
       "      <td>0</td>\n",
       "      <td>0</td>\n",
       "      <td>0</td>\n",
       "      <td>0</td>\n",
       "    </tr>\n",
       "    <tr>\n",
       "      <th>61915</th>\n",
       "      <td>2017-06-22</td>\n",
       "      <td>Darwin</td>\n",
       "      <td>20.7</td>\n",
       "      <td>32.8</td>\n",
       "      <td>0.0</td>\n",
       "      <td>5.6</td>\n",
       "      <td>11.0</td>\n",
       "      <td>46.0</td>\n",
       "      <td>23.0</td>\n",
       "      <td>1015.3</td>\n",
       "      <td>...</td>\n",
       "      <td>0</td>\n",
       "      <td>0</td>\n",
       "      <td>0</td>\n",
       "      <td>0</td>\n",
       "      <td>0</td>\n",
       "      <td>0</td>\n",
       "      <td>0</td>\n",
       "      <td>0</td>\n",
       "      <td>0</td>\n",
       "      <td>0</td>\n",
       "    </tr>\n",
       "    <tr>\n",
       "      <th>61916</th>\n",
       "      <td>2017-06-23</td>\n",
       "      <td>Darwin</td>\n",
       "      <td>19.5</td>\n",
       "      <td>31.8</td>\n",
       "      <td>0.0</td>\n",
       "      <td>6.2</td>\n",
       "      <td>10.6</td>\n",
       "      <td>62.0</td>\n",
       "      <td>58.0</td>\n",
       "      <td>1014.9</td>\n",
       "      <td>...</td>\n",
       "      <td>0</td>\n",
       "      <td>0</td>\n",
       "      <td>0</td>\n",
       "      <td>0</td>\n",
       "      <td>0</td>\n",
       "      <td>0</td>\n",
       "      <td>0</td>\n",
       "      <td>0</td>\n",
       "      <td>0</td>\n",
       "      <td>0</td>\n",
       "    </tr>\n",
       "    <tr>\n",
       "      <th>61917</th>\n",
       "      <td>2017-06-24</td>\n",
       "      <td>Darwin</td>\n",
       "      <td>20.2</td>\n",
       "      <td>31.7</td>\n",
       "      <td>0.0</td>\n",
       "      <td>5.6</td>\n",
       "      <td>10.7</td>\n",
       "      <td>73.0</td>\n",
       "      <td>32.0</td>\n",
       "      <td>1013.9</td>\n",
       "      <td>...</td>\n",
       "      <td>1</td>\n",
       "      <td>0</td>\n",
       "      <td>0</td>\n",
       "      <td>0</td>\n",
       "      <td>0</td>\n",
       "      <td>0</td>\n",
       "      <td>0</td>\n",
       "      <td>0</td>\n",
       "      <td>0</td>\n",
       "      <td>0</td>\n",
       "    </tr>\n",
       "  </tbody>\n",
       "</table>\n",
       "<p>61918 rows × 237 columns</p>\n",
       "</div>"
      ],
      "text/plain": [
       "             date location  mintemp  maxtemp  rainfall  evaporation  sunshine  \\\n",
       "0      2009-01-01    Cobar     17.9     35.2       0.0         12.0      12.3   \n",
       "1      2009-01-02    Cobar     18.4     28.9       0.0         14.8      13.0   \n",
       "2      2009-01-04    Cobar     19.4     37.6       0.0         10.8      10.6   \n",
       "3      2009-01-05    Cobar     21.9     38.4       0.0         11.4      12.2   \n",
       "4      2009-01-06    Cobar     24.2     41.0       0.0         11.2       8.4   \n",
       "...           ...      ...      ...      ...       ...          ...       ...   \n",
       "61913  2017-06-20   Darwin     19.3     33.4       0.0          6.0      11.0   \n",
       "61914  2017-06-21   Darwin     21.2     32.6       0.0          7.6       8.6   \n",
       "61915  2017-06-22   Darwin     20.7     32.8       0.0          5.6      11.0   \n",
       "61916  2017-06-23   Darwin     19.5     31.8       0.0          6.2      10.6   \n",
       "61917  2017-06-24   Darwin     20.2     31.7       0.0          5.6      10.7   \n",
       "\n",
       "       humidity9am  humidity3pm  pressure9am  ...  wind_speed3pm_7  \\\n",
       "0             20.0         13.0       1006.3  ...                0   \n",
       "1             30.0          8.0       1012.9  ...                0   \n",
       "2             42.0         22.0       1012.3  ...                0   \n",
       "3             37.0         22.0       1012.7  ...                0   \n",
       "4             19.0         15.0       1010.7  ...                0   \n",
       "...            ...          ...          ...  ...              ...   \n",
       "61913         63.0         32.0       1013.9  ...                0   \n",
       "61914         56.0         28.0       1014.6  ...                0   \n",
       "61915         46.0         23.0       1015.3  ...                0   \n",
       "61916         62.0         58.0       1014.9  ...                0   \n",
       "61917         73.0         32.0       1013.9  ...                1   \n",
       "\n",
       "       wind_speed3pm_72  wind_speed3pm_74  wind_speed3pm_76  wind_speed3pm_78  \\\n",
       "0                     0                 0                 0                 0   \n",
       "1                     0                 0                 0                 0   \n",
       "2                     0                 0                 0                 0   \n",
       "3                     0                 0                 0                 0   \n",
       "4                     0                 0                 0                 0   \n",
       "...                 ...               ...               ...               ...   \n",
       "61913                 0                 0                 0                 0   \n",
       "61914                 0                 0                 0                 0   \n",
       "61915                 0                 0                 0                 0   \n",
       "61916                 0                 0                 0                 0   \n",
       "61917                 0                 0                 0                 0   \n",
       "\n",
       "       wind_speed3pm_83  wind_speed3pm_87  wind_speed3pm_9  \\\n",
       "0                     0                 0                0   \n",
       "1                     0                 0                0   \n",
       "2                     0                 0                0   \n",
       "3                     0                 0                0   \n",
       "4                     0                 0                0   \n",
       "...                 ...               ...              ...   \n",
       "61913                 0                 0                0   \n",
       "61914                 0                 0                0   \n",
       "61915                 0                 0                0   \n",
       "61916                 0                 0                0   \n",
       "61917                 0                 0                0   \n",
       "\n",
       "       wind_speed3pm_wind_speed3pm  wind_speed3pm_windspeed3pm  \n",
       "0                                0                           0  \n",
       "1                                0                           0  \n",
       "2                                0                           0  \n",
       "3                                0                           0  \n",
       "4                                0                           0  \n",
       "...                            ...                         ...  \n",
       "61913                            0                           0  \n",
       "61914                            0                           0  \n",
       "61915                            0                           0  \n",
       "61916                            0                           0  \n",
       "61917                            0                           0  \n",
       "\n",
       "[61918 rows x 237 columns]"
      ]
     },
     "execution_count": 122,
     "metadata": {},
     "output_type": "execute_result"
    }
   ],
   "source": [
    "rain_wind=rain_wind.dropna()\n",
    "rain_wind"
   ]
  },
  {
   "cell_type": "code",
   "execution_count": 125,
   "id": "5d3a44b4",
   "metadata": {
    "ExecuteTime": {
     "end_time": "2021-10-01T14:36:34.136587Z",
     "start_time": "2021-10-01T14:36:34.000644Z"
    }
   },
   "outputs": [
    {
     "data": {
      "text/plain": [
       "array([0], dtype=int64)"
      ]
     },
     "execution_count": 125,
     "metadata": {},
     "output_type": "execute_result"
    }
   ],
   "source": [
    "rain_wind.isna().sum().unique()"
   ]
  },
  {
   "cell_type": "code",
   "execution_count": 123,
   "id": "7607b993",
   "metadata": {
    "ExecuteTime": {
     "end_time": "2021-10-01T14:34:20.190188Z",
     "start_time": "2021-10-01T14:34:12.392747Z"
    }
   },
   "outputs": [
    {
     "data": {
      "text/plain": [
       "mintemp                        0.088964\n",
       "maxtemp                       -0.144498\n",
       "rainfall                       0.253773\n",
       "evaporation                   -0.127257\n",
       "sunshine                      -0.449261\n",
       "                                 ...   \n",
       "wind_speed3pm_83                    NaN\n",
       "wind_speed3pm_87                    NaN\n",
       "wind_speed3pm_9               -0.017834\n",
       "wind_speed3pm_wind_speed3pm         NaN\n",
       "wind_speed3pm_windspeed3pm          NaN\n",
       "Name: raintomorrow, Length: 235, dtype: float64"
      ]
     },
     "execution_count": 123,
     "metadata": {},
     "output_type": "execute_result"
    }
   ],
   "source": [
    "rain_wind.corr()['raintomorrow']"
   ]
  },
  {
   "cell_type": "code",
   "execution_count": null,
   "id": "e7e22c05",
   "metadata": {},
   "outputs": [],
   "source": []
  },
  {
   "cell_type": "code",
   "execution_count": null,
   "id": "0e347e75",
   "metadata": {},
   "outputs": [],
   "source": []
  },
  {
   "cell_type": "code",
   "execution_count": null,
   "id": "5ae3d702",
   "metadata": {},
   "outputs": [],
   "source": []
  },
  {
   "cell_type": "markdown",
   "id": "bce59908",
   "metadata": {},
   "source": [
    "# 4 Previsão - Modelo Árvore de Decisão"
   ]
  },
  {
   "cell_type": "code",
   "execution_count": 26,
   "id": "166c2403",
   "metadata": {
    "ExecuteTime": {
     "end_time": "2021-10-01T13:41:00.157447Z",
     "start_time": "2021-10-01T13:40:52.584210Z"
    }
   },
   "outputs": [],
   "source": [
    "from sklearn.model_selection import train_test_split\n",
    "from sklearn.tree import DecisionTreeClassifier"
   ]
  },
  {
   "cell_type": "markdown",
   "id": "d2146af0",
   "metadata": {},
   "source": [
    "# 4.1 Tentativa com variaveis - amountOfRain & raintomorrow"
   ]
  },
  {
   "cell_type": "code",
   "execution_count": 27,
   "id": "f327a8c0",
   "metadata": {
    "ExecuteTime": {
     "end_time": "2021-10-01T13:41:00.172407Z",
     "start_time": "2021-10-01T13:41:00.158444Z"
    }
   },
   "outputs": [],
   "source": [
    "X=rain[['amountOfRain']]\n",
    "y=rain['raintomorrow']"
   ]
  },
  {
   "cell_type": "code",
   "execution_count": 28,
   "id": "98f750aa",
   "metadata": {
    "ExecuteTime": {
     "end_time": "2021-10-01T13:41:00.405501Z",
     "start_time": "2021-10-01T13:41:00.176397Z"
    }
   },
   "outputs": [],
   "source": [
    "X_train, X_test, y_train, y_test = train_test_split(X, y, test_size=0.2)"
   ]
  },
  {
   "cell_type": "code",
   "execution_count": 29,
   "id": "bb534756",
   "metadata": {
    "ExecuteTime": {
     "end_time": "2021-10-01T13:41:00.857420Z",
     "start_time": "2021-10-01T13:41:00.407464Z"
    }
   },
   "outputs": [
    {
     "data": {
      "text/plain": [
       "DecisionTreeClassifier()"
      ]
     },
     "execution_count": 29,
     "metadata": {},
     "output_type": "execute_result"
    }
   ],
   "source": [
    "tree = DecisionTreeClassifier()\n",
    "tree"
   ]
  },
  {
   "cell_type": "code",
   "execution_count": 30,
   "id": "c5ca1ed5",
   "metadata": {
    "ExecuteTime": {
     "end_time": "2021-10-01T13:41:01.059984Z",
     "start_time": "2021-10-01T13:41:00.858418Z"
    }
   },
   "outputs": [
    {
     "data": {
      "text/plain": [
       "DecisionTreeClassifier()"
      ]
     },
     "execution_count": 30,
     "metadata": {},
     "output_type": "execute_result"
    }
   ],
   "source": [
    "tree.fit(X_train, y_train)\n",
    "\n",
    "#Aprende os padroes do dado"
   ]
  },
  {
   "cell_type": "code",
   "execution_count": 31,
   "id": "1153b41d",
   "metadata": {
    "ExecuteTime": {
     "end_time": "2021-10-01T13:41:01.263753Z",
     "start_time": "2021-10-01T13:41:01.061984Z"
    }
   },
   "outputs": [
    {
     "data": {
      "text/plain": [
       "1.0"
      ]
     },
     "execution_count": 31,
     "metadata": {},
     "output_type": "execute_result"
    }
   ],
   "source": [
    "tree.score(X_test, y_test)\n",
    "\n",
    "# Retorna a acuracia. Queremos saber quao bom a variavel esta no teste."
   ]
  },
  {
   "cell_type": "code",
   "execution_count": 32,
   "id": "efa0c6e1",
   "metadata": {
    "ExecuteTime": {
     "end_time": "2021-10-01T13:41:01.481660Z",
     "start_time": "2021-10-01T13:41:01.265748Z"
    }
   },
   "outputs": [
    {
     "data": {
      "text/plain": [
       "1.0"
      ]
     },
     "execution_count": 32,
     "metadata": {},
     "output_type": "execute_result"
    }
   ],
   "source": [
    "tree.score(X_train, y_train)"
   ]
  },
  {
   "cell_type": "code",
   "execution_count": 33,
   "id": "33f30f5f",
   "metadata": {
    "ExecuteTime": {
     "end_time": "2021-10-01T13:41:01.606986Z",
     "start_time": "2021-10-01T13:41:01.484684Z"
    }
   },
   "outputs": [],
   "source": [
    "# Aplicando a matrix de confusao que pode ser feita de duas formas: 1) confusion_matrix, 2) plot_confusion_matrix"
   ]
  },
  {
   "cell_type": "code",
   "execution_count": 34,
   "id": "6e4b9961",
   "metadata": {
    "ExecuteTime": {
     "end_time": "2021-10-01T13:41:01.855949Z",
     "start_time": "2021-10-01T13:41:01.608982Z"
    }
   },
   "outputs": [
    {
     "data": {
      "text/plain": [
       "array([[9657,    0],\n",
       "       [   0, 2727]], dtype=int64)"
      ]
     },
     "execution_count": 34,
     "metadata": {},
     "output_type": "execute_result"
    }
   ],
   "source": [
    "from sklearn.metrics import plot_confusion_matrix, confusion_matrix\n",
    "\n",
    "confusion_matrix(y_test, tree.predict(X_test))\n"
   ]
  },
  {
   "cell_type": "code",
   "execution_count": 35,
   "id": "9e61a83f",
   "metadata": {
    "ExecuteTime": {
     "end_time": "2021-10-01T13:41:03.049224Z",
     "start_time": "2021-10-01T13:41:01.857941Z"
    }
   },
   "outputs": [
    {
     "data": {
      "image/png": "[encoded data removed]",
      "text/plain": [
       "<Figure size 432x288 with 2 Axes>"
      ]
     },
     "metadata": {
      "needs_background": "light"
     },
     "output_type": "display_data"
    }
   ],
   "source": [
    "plot_confusion_matrix(tree, X_test, y_test, values_format='.0f')\n",
    "plt.grid(False)"
   ]
  },
  {
   "cell_type": "code",
   "execution_count": 36,
   "id": "695272ca",
   "metadata": {
    "ExecuteTime": {
     "end_time": "2021-10-01T13:41:03.064692Z",
     "start_time": "2021-10-01T13:41:03.052725Z"
    }
   },
   "outputs": [],
   "source": [
    "#Meu modelo me deu acuracia no treino e no teste iguais a 1, isto é, parece que conseguimos um modelo perfeito. O que nao pode acontecer. Nao é overfit porque ele esta performando bem no teste.\n"
   ]
  },
  {
   "cell_type": "code",
   "execution_count": 37,
   "id": "ad9eca88",
   "metadata": {
    "ExecuteTime": {
     "end_time": "2021-10-01T13:41:03.499346Z",
     "start_time": "2021-10-01T13:41:03.065690Z"
    }
   },
   "outputs": [
    {
     "data": {
      "image/png": "[encoded data removed]",
      "text/plain": [
       "<Figure size 432x288 with 2 Axes>"
      ]
     },
     "metadata": {
      "needs_background": "light"
     },
     "output_type": "display_data"
    }
   ],
   "source": [
    "plot_confusion_matrix(tree, X_train, y_train, values_format='.0f')\n",
    "plt.grid(False)"
   ]
  },
  {
   "cell_type": "code",
   "execution_count": 38,
   "id": "294bb168",
   "metadata": {
    "ExecuteTime": {
     "end_time": "2021-10-01T13:41:04.067169Z",
     "start_time": "2021-10-01T13:41:03.501341Z"
    }
   },
   "outputs": [
    {
     "data": {
      "image/png": "[encoded data removed]",
      "text/plain": [
       "<Figure size 3600x2520 with 1 Axes>"
      ]
     },
     "metadata": {
      "needs_background": "light"
     },
     "output_type": "display_data"
    }
   ],
   "source": [
    "from sklearn.tree import plot_tree\n",
    "import matplotlib.pyplot as plt\n",
    "plt.figure(figsize=(50,35))\n",
    "plot_tree(tree,feature_names=X_train.columns,class_names=[\"não_choveu\",\"choveu\"],proportion=True,filled=True)\n",
    "plt.show()"
   ]
  },
  {
   "cell_type": "code",
   "execution_count": 39,
   "id": "d2184de3",
   "metadata": {
    "ExecuteTime": {
     "end_time": "2021-10-01T13:41:04.127008Z",
     "start_time": "2021-10-01T13:41:04.070175Z"
    }
   },
   "outputs": [
    {
     "data": {
      "text/plain": [
       "0    0.776214\n",
       "1    0.223786\n",
       "Name: raintomorrow, dtype: float64"
      ]
     },
     "execution_count": 39,
     "metadata": {},
     "output_type": "execute_result"
    }
   ],
   "source": [
    "y_train.value_counts(normalize=True)"
   ]
  },
  {
   "cell_type": "code",
   "execution_count": 40,
   "id": "4ee74a61",
   "metadata": {
    "ExecuteTime": {
     "end_time": "2021-10-01T13:41:04.414416Z",
     "start_time": "2021-10-01T13:41:04.130002Z"
    }
   },
   "outputs": [],
   "source": [
    "# 4.2 Tentativa com variaveis - sunshine & raintomorrow"
   ]
  },
  {
   "cell_type": "code",
   "execution_count": 41,
   "id": "08f3b2de",
   "metadata": {
    "ExecuteTime": {
     "end_time": "2021-10-01T13:41:04.581546Z",
     "start_time": "2021-10-01T13:41:04.415414Z"
    }
   },
   "outputs": [],
   "source": [
    "from sklearn.model_selection import train_test_split\n",
    "from sklearn.tree import DecisionTreeClassifier"
   ]
  },
  {
   "cell_type": "code",
   "execution_count": 42,
   "id": "7ce96914",
   "metadata": {
    "ExecuteTime": {
     "end_time": "2021-10-01T13:41:04.721419Z",
     "start_time": "2021-10-01T13:41:04.583541Z"
    }
   },
   "outputs": [],
   "source": [
    "X2=rain[['sunshine']]\n",
    "y2=rain['raintomorrow']"
   ]
  },
  {
   "cell_type": "code",
   "execution_count": 43,
   "id": "87e92cd2",
   "metadata": {
    "ExecuteTime": {
     "end_time": "2021-10-01T13:41:04.812270Z",
     "start_time": "2021-10-01T13:41:04.723413Z"
    }
   },
   "outputs": [],
   "source": [
    "X2_train, X2_test, y2_train, y2_test = train_test_split(X2, y2, test_size=0.2)"
   ]
  },
  {
   "cell_type": "code",
   "execution_count": 44,
   "id": "d4f07591",
   "metadata": {
    "ExecuteTime": {
     "end_time": "2021-10-01T13:41:04.902257Z",
     "start_time": "2021-10-01T13:41:04.813265Z"
    }
   },
   "outputs": [
    {
     "data": {
      "text/plain": [
       "DecisionTreeClassifier()"
      ]
     },
     "execution_count": 44,
     "metadata": {},
     "output_type": "execute_result"
    }
   ],
   "source": [
    "tree2 = DecisionTreeClassifier()\n",
    "tree2"
   ]
  },
  {
   "cell_type": "code",
   "execution_count": 45,
   "id": "ebee9df6",
   "metadata": {
    "ExecuteTime": {
     "end_time": "2021-10-01T13:41:05.036895Z",
     "start_time": "2021-10-01T13:41:04.904215Z"
    }
   },
   "outputs": [
    {
     "data": {
      "text/plain": [
       "DecisionTreeClassifier()"
      ]
     },
     "execution_count": 45,
     "metadata": {},
     "output_type": "execute_result"
    }
   ],
   "source": [
    "tree2.fit(X2_train, y2_train)\n",
    "\n",
    "#Aprende os padroes do dado"
   ]
  },
  {
   "cell_type": "code",
   "execution_count": 46,
   "id": "12e84f69",
   "metadata": {
    "ExecuteTime": {
     "end_time": "2021-10-01T13:41:05.097724Z",
     "start_time": "2021-10-01T13:41:05.038859Z"
    }
   },
   "outputs": [
    {
     "data": {
      "text/plain": [
       "0.7923934108527132"
      ]
     },
     "execution_count": 46,
     "metadata": {},
     "output_type": "execute_result"
    }
   ],
   "source": [
    "tree2.score(X2_test, y2_test)\n",
    "\n",
    "# Retorna a acuracia. Queremos saber quao bom a variavel esta no teste."
   ]
  },
  {
   "cell_type": "code",
   "execution_count": 47,
   "id": "87e9922e",
   "metadata": {
    "ExecuteTime": {
     "end_time": "2021-10-01T13:41:05.311431Z",
     "start_time": "2021-10-01T13:41:05.099695Z"
    }
   },
   "outputs": [
    {
     "data": {
      "text/plain": [
       "0.798300157467598"
      ]
     },
     "execution_count": 47,
     "metadata": {},
     "output_type": "execute_result"
    }
   ],
   "source": [
    "tree2.score(X2_train, y2_train)"
   ]
  },
  {
   "cell_type": "code",
   "execution_count": 48,
   "id": "c6cbb4c8",
   "metadata": {
    "ExecuteTime": {
     "end_time": "2021-10-01T13:41:05.436360Z",
     "start_time": "2021-10-01T13:41:05.312429Z"
    }
   },
   "outputs": [],
   "source": [
    " # Aplicando a matrix de confusao que pode ser feita de duas formas: 1) confusion_matrix, 2) plot_confusion_matrix"
   ]
  },
  {
   "cell_type": "code",
   "execution_count": 49,
   "id": "50d8c504",
   "metadata": {
    "ExecuteTime": {
     "end_time": "2021-10-01T13:41:05.576976Z",
     "start_time": "2021-10-01T13:41:05.437366Z"
    }
   },
   "outputs": [
    {
     "data": {
      "text/plain": [
       "array([[9031,  476],\n",
       "       [2095,  782]], dtype=int64)"
      ]
     },
     "execution_count": 49,
     "metadata": {},
     "output_type": "execute_result"
    }
   ],
   "source": [
    "# 1) confusion_matrix\n",
    "\n",
    "from sklearn.metrics import plot_confusion_matrix, confusion_matrix\n",
    "\n",
    "confusion_matrix(y2_test, tree2.predict(X2_test))"
   ]
  },
  {
   "cell_type": "code",
   "execution_count": 50,
   "id": "cf3755e8",
   "metadata": {
    "ExecuteTime": {
     "end_time": "2021-10-01T13:41:05.918219Z",
     "start_time": "2021-10-01T13:41:05.579970Z"
    }
   },
   "outputs": [
    {
     "data": {
      "image/png": "[encoded data removed]",
      "text/plain": [
       "<Figure size 432x288 with 2 Axes>"
      ]
     },
     "metadata": {
      "needs_background": "light"
     },
     "output_type": "display_data"
    }
   ],
   "source": [
    "# 2) plot_confusion_matrix\n",
    "\n",
    "plot_confusion_matrix(tree, X2_test, y2_test, values_format='.0f')\n",
    "\n",
    "plt.grid(False)"
   ]
  },
  {
   "cell_type": "code",
   "execution_count": 51,
   "id": "025e1bb7",
   "metadata": {
    "ExecuteTime": {
     "end_time": "2021-10-01T13:41:05.933346Z",
     "start_time": "2021-10-01T13:41:05.923210Z"
    }
   },
   "outputs": [],
   "source": [
    "# TN = 397\n",
    "# FP = 9198 (vai chover e nao chove)\n",
    "# FN = 651\n",
    "# TP = 2138"
   ]
  },
  {
   "cell_type": "code",
   "execution_count": 52,
   "id": "6b609926",
   "metadata": {
    "ExecuteTime": {
     "end_time": "2021-10-01T13:41:06.040929Z",
     "start_time": "2021-10-01T13:41:05.934344Z"
    }
   },
   "outputs": [],
   "source": [
    "# Esse é o modelo baseline (com sunshine). Nosso cliente será um agricultor, vamos entrao focar em modelos que diminuam o falso negativo."
   ]
  },
  {
   "cell_type": "code",
   "execution_count": 53,
   "id": "c2ca05ef",
   "metadata": {
    "ExecuteTime": {
     "end_time": "2021-10-01T13:41:06.180990Z",
     "start_time": "2021-10-01T13:41:06.044921Z"
    }
   },
   "outputs": [],
   "source": [
    "# Vamos realizar algum metodo de poda da arvore - com as mesmas variaveis (sunshine e raintomorrow)"
   ]
  },
  {
   "cell_type": "code",
   "execution_count": 54,
   "id": "8b69c0c6",
   "metadata": {
    "ExecuteTime": {
     "end_time": "2021-10-01T13:41:06.587242Z",
     "start_time": "2021-10-01T13:41:06.181990Z"
    }
   },
   "outputs": [
    {
     "data": {
      "text/plain": [
       "<sklearn.metrics._plot.confusion_matrix.ConfusionMatrixDisplay at 0x2849694c970>"
      ]
     },
     "execution_count": 54,
     "metadata": {},
     "output_type": "execute_result"
    },
    {
     "data": {
      "image/png": "[encoded data removed]",
      "text/plain": [
       "<Figure size 432x288 with 2 Axes>"
      ]
     },
     "metadata": {
      "needs_background": "light"
     },
     "output_type": "display_data"
    }
   ],
   "source": [
    "tree3 = DecisionTreeClassifier(max_depth=3)\n",
    "\n",
    "tree3.fit(X2_train, y2_train)\n",
    "\n",
    "plot_confusion_matrix(tree3, X2_test, y2_test, values_format='.0f')"
   ]
  },
  {
   "cell_type": "code",
   "execution_count": 55,
   "id": "70f256ea",
   "metadata": {
    "ExecuteTime": {
     "end_time": "2021-10-01T13:41:06.632402Z",
     "start_time": "2021-10-01T13:41:06.589277Z"
    }
   },
   "outputs": [],
   "source": [
    "# Vamos realizar algum metodo de poda da arvore - com todas as colunas numericas"
   ]
  },
  {
   "cell_type": "code",
   "execution_count": 56,
   "id": "2ae356a9",
   "metadata": {
    "ExecuteTime": {
     "end_time": "2021-10-01T13:41:06.753927Z",
     "start_time": "2021-10-01T13:41:06.634389Z"
    }
   },
   "outputs": [
    {
     "data": {
      "text/plain": [
       "Index(['date', 'location', 'mintemp', 'maxtemp', 'rainfall', 'evaporation',\n",
       "       'sunshine', 'humidity9am', 'humidity3pm', 'pressure9am', 'pressure3pm',\n",
       "       'cloud9am', 'cloud3pm', 'temp9am', 'temp3pm', 'raintoday',\n",
       "       'amountOfRain', 'raintomorrow', 'temp', 'humidity', 'precipitation3pm',\n",
       "       'precipitation9am', 'modelo_vigente'],\n",
       "      dtype='object')"
      ]
     },
     "execution_count": 56,
     "metadata": {},
     "output_type": "execute_result"
    }
   ],
   "source": [
    "rain.columns"
   ]
  },
  {
   "cell_type": "code",
   "execution_count": 57,
   "id": "111c066a",
   "metadata": {
    "ExecuteTime": {
     "end_time": "2021-10-01T13:41:06.895451Z",
     "start_time": "2021-10-01T13:41:06.756918Z"
    }
   },
   "outputs": [],
   "source": [
    "X3=rain[[ 'mintemp', 'maxtemp', 'rainfall', 'evaporation', 'sunshine', 'humidity9am', 'humidity3pm', 'pressure9am', 'pressure3pm',\n",
    "'cloud9am', 'cloud3pm', 'temp9am', 'temp3pm', 'raintoday', 'temp', 'humidity', 'precipitation3pm','precipitation9am']]\n",
    "y2=rain['raintomorrow']"
   ]
  },
  {
   "cell_type": "code",
   "execution_count": 58,
   "id": "a1d43603",
   "metadata": {
    "ExecuteTime": {
     "end_time": "2021-10-01T13:41:07.067540Z",
     "start_time": "2021-10-01T13:41:06.897446Z"
    }
   },
   "outputs": [],
   "source": [
    "X3_train, X3_test, y2_train, y2_test = train_test_split(X3, y2, test_size=0.2)   "
   ]
  },
  {
   "cell_type": "code",
   "execution_count": 59,
   "id": "e8be3672",
   "metadata": {
    "ExecuteTime": {
     "end_time": "2021-10-01T13:41:07.159916Z",
     "start_time": "2021-10-01T13:41:07.069551Z"
    }
   },
   "outputs": [
    {
     "data": {
      "text/plain": [
       "DecisionTreeClassifier()"
      ]
     },
     "execution_count": 59,
     "metadata": {},
     "output_type": "execute_result"
    }
   ],
   "source": [
    "tree4 = DecisionTreeClassifier()\n",
    "tree4"
   ]
  },
  {
   "cell_type": "code",
   "execution_count": 60,
   "id": "eda5b4b2",
   "metadata": {
    "ExecuteTime": {
     "end_time": "2021-10-01T13:41:07.847610Z",
     "start_time": "2021-10-01T13:41:07.160915Z"
    }
   },
   "outputs": [
    {
     "data": {
      "text/plain": [
       "DecisionTreeClassifier()"
      ]
     },
     "execution_count": 60,
     "metadata": {},
     "output_type": "execute_result"
    }
   ],
   "source": [
    "tree4.fit(X3_train, y2_train)\n",
    "\n",
    "#Aprende os padroes do dado"
   ]
  },
  {
   "cell_type": "code",
   "execution_count": 61,
   "id": "a0346c55",
   "metadata": {
    "ExecuteTime": {
     "end_time": "2021-10-01T13:41:07.863567Z",
     "start_time": "2021-10-01T13:41:07.849603Z"
    }
   },
   "outputs": [
    {
     "data": {
      "text/plain": [
       "0.7784237726098191"
      ]
     },
     "execution_count": 61,
     "metadata": {},
     "output_type": "execute_result"
    }
   ],
   "source": [
    "tree4.score(X3_test, y2_test)\n",
    "\n",
    "# Retorna a acuracia. Queremos saber quao bom a variavel esta no teste."
   ]
  },
  {
   "cell_type": "code",
   "execution_count": 62,
   "id": "2e0a6720",
   "metadata": {
    "ExecuteTime": {
     "end_time": "2021-10-01T13:41:07.974455Z",
     "start_time": "2021-10-01T13:41:07.866559Z"
    }
   },
   "outputs": [
    {
     "data": {
      "text/plain": [
       "1.0"
      ]
     },
     "execution_count": 62,
     "metadata": {},
     "output_type": "execute_result"
    }
   ],
   "source": [
    "tree4.score(X3_train, y2_train)"
   ]
  },
  {
   "cell_type": "code",
   "execution_count": 63,
   "id": "9ce51fa8",
   "metadata": {
    "ExecuteTime": {
     "end_time": "2021-10-01T13:41:15.706428Z",
     "start_time": "2021-10-01T13:41:07.976451Z"
    }
   },
   "outputs": [
    {
     "data": {
      "application/vnd.jupyter.widget-view+json": {
       "model_id": "b0b7a5c359984991b08c05b13169d4e4",
       "version_major": 2,
       "version_minor": 0
      },
      "text/plain": [
       "  0%|          | 0/19 [00:00<?, ?it/s]"
      ]
     },
     "metadata": {},
     "output_type": "display_data"
    },
    {
     "data": {
      "text/plain": [
       "8"
      ]
     },
     "execution_count": 63,
     "metadata": {},
     "output_type": "execute_result"
    },
    {
     "data": {
      "image/png": "[encoded data removed]",
      "text/plain": [
       "<Figure size 432x288 with 1 Axes>"
      ]
     },
     "metadata": {
      "needs_background": "light"
     },
     "output_type": "display_data"
    }
   ],
   "source": [
    "# Encontrar o ponto otimo referente a curva ROC para ser utilizado no max_depth\n",
    "\n",
    "from sklearn.metrics import roc_auc_score\n",
    "from tqdm.auto import tqdm\n",
    "complexity = []\n",
    "error_test = []\n",
    "error_train = []\n",
    "for K in tqdm(range(1, 20)):\n",
    "    complexity.append(K)\n",
    "    knn = DecisionTreeClassifier(max_depth=K)\n",
    "    knn.fit(X3_train, y2_train)\n",
    "    error_train.append(1 - roc_auc_score(y2_train, knn.predict(X3_train)))\n",
    "    error_test.append(1 - roc_auc_score(y2_test, knn.predict(X3_test)))\n",
    "plt.plot(complexity, error_train, '-', label='Training Error')\n",
    "plt.plot(complexity, error_test, '-', label='Test Error')\n",
    "plt.hlines(min(error_test), 0, 20, colors='red', linestyles='dashed')\n",
    "plt.xlabel('Complexity')\n",
    "plt.ylabel('Error')\n",
    "plt.legend()\n",
    "error_test.index(min(error_test))+1"
   ]
  },
  {
   "cell_type": "code",
   "execution_count": 64,
   "id": "0519e492",
   "metadata": {
    "ExecuteTime": {
     "end_time": "2021-10-01T13:41:16.206599Z",
     "start_time": "2021-10-01T13:41:15.709389Z"
    }
   },
   "outputs": [
    {
     "data": {
      "text/plain": [
       "<sklearn.metrics._plot.confusion_matrix.ConfusionMatrixDisplay at 0x28496fa55b0>"
      ]
     },
     "execution_count": 64,
     "metadata": {},
     "output_type": "execute_result"
    },
    {
     "data": {
      "image/png": "[encoded data removed]",
      "text/plain": [
       "<Figure size 432x288 with 2 Axes>"
      ]
     },
     "metadata": {
      "needs_background": "light"
     },
     "output_type": "display_data"
    }
   ],
   "source": [
    "tree4 = DecisionTreeClassifier(max_depth=8)\n",
    "\n",
    "tree4.fit(X3_train, y2_train)\n",
    "\n",
    "plot_confusion_matrix(tree4, X3_test, y2_test, values_format='.0f')"
   ]
  },
  {
   "cell_type": "code",
   "execution_count": 65,
   "id": "811cc550",
   "metadata": {
    "ExecuteTime": {
     "end_time": "2021-10-01T13:41:16.253441Z",
     "start_time": "2021-10-01T13:41:16.208563Z"
    }
   },
   "outputs": [
    {
     "data": {
      "text/html": [
       "<div>\n",
       "<style scoped>\n",
       "    .dataframe tbody tr th:only-of-type {\n",
       "        vertical-align: middle;\n",
       "    }\n",
       "\n",
       "    .dataframe tbody tr th {\n",
       "        vertical-align: top;\n",
       "    }\n",
       "\n",
       "    .dataframe thead th {\n",
       "        text-align: right;\n",
       "    }\n",
       "</style>\n",
       "<table border=\"1\" class=\"dataframe\">\n",
       "  <thead>\n",
       "    <tr style=\"text-align: right;\">\n",
       "      <th></th>\n",
       "      <th>0</th>\n",
       "      <th>1</th>\n",
       "    </tr>\n",
       "  </thead>\n",
       "  <tbody>\n",
       "    <tr>\n",
       "      <th>0</th>\n",
       "      <td>0.009255</td>\n",
       "      <td>mintemp</td>\n",
       "    </tr>\n",
       "    <tr>\n",
       "      <th>1</th>\n",
       "      <td>0.004633</td>\n",
       "      <td>maxtemp</td>\n",
       "    </tr>\n",
       "    <tr>\n",
       "      <th>2</th>\n",
       "      <td>0.030127</td>\n",
       "      <td>rainfall</td>\n",
       "    </tr>\n",
       "    <tr>\n",
       "      <th>3</th>\n",
       "      <td>0.010001</td>\n",
       "      <td>evaporation</td>\n",
       "    </tr>\n",
       "    <tr>\n",
       "      <th>4</th>\n",
       "      <td>0.166114</td>\n",
       "      <td>sunshine</td>\n",
       "    </tr>\n",
       "    <tr>\n",
       "      <th>5</th>\n",
       "      <td>0.010622</td>\n",
       "      <td>humidity9am</td>\n",
       "    </tr>\n",
       "    <tr>\n",
       "      <th>6</th>\n",
       "      <td>0.587989</td>\n",
       "      <td>humidity3pm</td>\n",
       "    </tr>\n",
       "    <tr>\n",
       "      <th>7</th>\n",
       "      <td>0.009606</td>\n",
       "      <td>pressure9am</td>\n",
       "    </tr>\n",
       "    <tr>\n",
       "      <th>8</th>\n",
       "      <td>0.13266</td>\n",
       "      <td>pressure3pm</td>\n",
       "    </tr>\n",
       "    <tr>\n",
       "      <th>9</th>\n",
       "      <td>0.002235</td>\n",
       "      <td>cloud9am</td>\n",
       "    </tr>\n",
       "    <tr>\n",
       "      <th>10</th>\n",
       "      <td>0.009444</td>\n",
       "      <td>cloud3pm</td>\n",
       "    </tr>\n",
       "    <tr>\n",
       "      <th>11</th>\n",
       "      <td>0.005068</td>\n",
       "      <td>temp9am</td>\n",
       "    </tr>\n",
       "    <tr>\n",
       "      <th>12</th>\n",
       "      <td>0.0062</td>\n",
       "      <td>temp3pm</td>\n",
       "    </tr>\n",
       "    <tr>\n",
       "      <th>13</th>\n",
       "      <td>0.000499</td>\n",
       "      <td>raintoday</td>\n",
       "    </tr>\n",
       "    <tr>\n",
       "      <th>14</th>\n",
       "      <td>0.001743</td>\n",
       "      <td>temp</td>\n",
       "    </tr>\n",
       "    <tr>\n",
       "      <th>15</th>\n",
       "      <td>0.005328</td>\n",
       "      <td>humidity</td>\n",
       "    </tr>\n",
       "    <tr>\n",
       "      <th>16</th>\n",
       "      <td>0.002111</td>\n",
       "      <td>precipitation3pm</td>\n",
       "    </tr>\n",
       "    <tr>\n",
       "      <th>17</th>\n",
       "      <td>0.006366</td>\n",
       "      <td>precipitation9am</td>\n",
       "    </tr>\n",
       "  </tbody>\n",
       "</table>\n",
       "</div>"
      ],
      "text/plain": [
       "           0                 1\n",
       "0   0.009255           mintemp\n",
       "1   0.004633           maxtemp\n",
       "2   0.030127          rainfall\n",
       "3   0.010001       evaporation\n",
       "4   0.166114          sunshine\n",
       "5   0.010622       humidity9am\n",
       "6   0.587989       humidity3pm\n",
       "7   0.009606       pressure9am\n",
       "8    0.13266       pressure3pm\n",
       "9   0.002235          cloud9am\n",
       "10  0.009444          cloud3pm\n",
       "11  0.005068           temp9am\n",
       "12    0.0062           temp3pm\n",
       "13  0.000499         raintoday\n",
       "14  0.001743              temp\n",
       "15  0.005328          humidity\n",
       "16  0.002111  precipitation3pm\n",
       "17  0.006366  precipitation9am"
      ]
     },
     "execution_count": 65,
     "metadata": {},
     "output_type": "execute_result"
    }
   ],
   "source": [
    "pd.DataFrame([tree4.feature_importances_,X3.columns]).T"
   ]
  },
  {
   "cell_type": "markdown",
   "id": "6ba874e6",
   "metadata": {},
   "source": [
    "# Previsão - Utilizando os Conceitos de LGBM"
   ]
  },
  {
   "cell_type": "code",
   "execution_count": 66,
   "id": "34702f0e",
   "metadata": {
    "ExecuteTime": {
     "end_time": "2021-10-01T13:41:37.142561Z",
     "start_time": "2021-10-01T13:41:16.255436Z"
    }
   },
   "outputs": [
    {
     "name": "stdout",
     "output_type": "stream",
     "text": [
      "Requirement already satisfied: lightgbm in c:\\users\\isabela\\anaconda3\\lib\\site-packages (3.2.1)Note: you may need to restart the kernel to use updated packages.\n",
      "Requirement already satisfied: numpy in c:\\users\\isabela\\anaconda3\\lib\\site-packages (from lightgbm) (1.19.5)\n",
      "Requirement already satisfied: wheel in c:\\users\\isabela\\anaconda3\\lib\\site-packages (from lightgbm) (0.36.2)\n",
      "Requirement already satisfied: scikit-learn!=0.22.0 in c:\\users\\isabela\\anaconda3\\lib\\site-packages (from lightgbm) (0.24.1)\n",
      "Requirement already satisfied: scipy in c:\\users\\isabela\\anaconda3\\lib\\site-packages (from lightgbm) (1.6.2)\n",
      "\n",
      "Requirement already satisfied: joblib>=0.11 in c:\\users\\isabela\\anaconda3\\lib\\site-packages (from scikit-learn!=0.22.0->lightgbm) (1.0.1)\n",
      "Requirement already satisfied: threadpoolctl>=2.0.0 in c:\\users\\isabela\\anaconda3\\lib\\site-packages (from scikit-learn!=0.22.0->lightgbm) (2.1.0)\n"
     ]
    }
   ],
   "source": [
    "pip install lightgbm"
   ]
  },
  {
   "cell_type": "code",
   "execution_count": 67,
   "id": "f907a66f",
   "metadata": {
    "ExecuteTime": {
     "end_time": "2021-10-01T13:41:46.163008Z",
     "start_time": "2021-10-01T13:41:37.145530Z"
    }
   },
   "outputs": [],
   "source": [
    "from lightgbm import LGBMClassifier"
   ]
  },
  {
   "cell_type": "code",
   "execution_count": 68,
   "id": "5d17d70c",
   "metadata": {
    "ExecuteTime": {
     "end_time": "2021-10-01T13:41:46.491406Z",
     "start_time": "2021-10-01T13:41:46.174978Z"
    }
   },
   "outputs": [
    {
     "data": {
      "text/plain": [
       "LGBMClassifier(colsample_bytree=0.33, max_depth=3, n_estimators=50)"
      ]
     },
     "execution_count": 68,
     "metadata": {},
     "output_type": "execute_result"
    }
   ],
   "source": [
    "lgb = LGBMClassifier(max_depth=3, n_estimators=50, colsample_bytree=.33, n_jobs=-1)\n",
    "lgb.fit(X3_train,y2_train)\n",
    "\n",
    "# Todos os indicadores que sao definidos dentro do parenteses devem ser testados. mas_depth sera a quantidade de decisões que minha arvore tomará. n_estimators"
   ]
  },
  {
   "cell_type": "code",
   "execution_count": 69,
   "id": "387584c3",
   "metadata": {
    "ExecuteTime": {
     "end_time": "2021-10-01T13:41:46.692865Z",
     "start_time": "2021-10-01T13:41:46.505368Z"
    }
   },
   "outputs": [
    {
     "name": "stdout",
     "output_type": "stream",
     "text": [
      "0.8739700768834628\n",
      "0.8585758330315586\n"
     ]
    }
   ],
   "source": [
    "print(roc_auc_score(y2_train, lgb.predict_proba(X3_train)[:, 1]))\n",
    "print(roc_auc_score(y2_test, lgb.predict_proba(X3_test)[:, 1]))"
   ]
  },
  {
   "cell_type": "code",
   "execution_count": 70,
   "id": "8b985286",
   "metadata": {
    "ExecuteTime": {
     "end_time": "2021-10-01T13:41:47.066108Z",
     "start_time": "2021-10-01T13:41:46.695857Z"
    }
   },
   "outputs": [
    {
     "data": {
      "text/plain": [
       "<sklearn.metrics._plot.confusion_matrix.ConfusionMatrixDisplay at 0x28496f08df0>"
      ]
     },
     "execution_count": 70,
     "metadata": {},
     "output_type": "execute_result"
    },
    {
     "data": {
      "image/png": "[encoded data removed]",
      "text/plain": [
       "<Figure size 432x288 with 2 Axes>"
      ]
     },
     "metadata": {
      "needs_background": "light"
     },
     "output_type": "display_data"
    }
   ],
   "source": [
    "plot_confusion_matrix(lgb, X3_test, y2_test, values_format='.0f')\n",
    "#plt.grid(False) So precisamos usar uma vez e ele tira uma grade"
   ]
  },
  {
   "cell_type": "code",
   "execution_count": 71,
   "id": "3b3ca168",
   "metadata": {
    "ExecuteTime": {
     "end_time": "2021-10-01T13:41:47.082063Z",
     "start_time": "2021-10-01T13:41:47.070093Z"
    }
   },
   "outputs": [],
   "source": [
    "from lightgbm import plot_importance"
   ]
  },
  {
   "cell_type": "code",
   "execution_count": 72,
   "id": "abacb9d3",
   "metadata": {
    "ExecuteTime": {
     "end_time": "2021-10-01T13:41:47.704086Z",
     "start_time": "2021-10-01T13:41:47.085054Z"
    }
   },
   "outputs": [
    {
     "data": {
      "text/plain": [
       "<AxesSubplot:title={'center':'Feature importance'}, xlabel='Feature importance', ylabel='Features'>"
      ]
     },
     "execution_count": 72,
     "metadata": {},
     "output_type": "execute_result"
    },
    {
     "data": {
      "image/png": "[encoded data removed]",
      "text/plain": [
       "<Figure size 432x288 with 1 Axes>"
      ]
     },
     "metadata": {
      "needs_background": "light"
     },
     "output_type": "display_data"
    }
   ],
   "source": [
    "plot_importance(lgb, importance_type='gain')"
   ]
  },
  {
   "cell_type": "code",
   "execution_count": 73,
   "id": "9fc967b6",
   "metadata": {
    "ExecuteTime": {
     "end_time": "2021-10-01T13:41:47.719046Z",
     "start_time": "2021-10-01T13:41:47.705084Z"
    }
   },
   "outputs": [],
   "source": [
    "X4=rain[[ 'sunshine', 'humidity3pm', 'pressure9am', 'pressure3pm']]\n",
    "y2=rain['raintomorrow']"
   ]
  },
  {
   "cell_type": "code",
   "execution_count": 74,
   "id": "20fb6e0b",
   "metadata": {
    "ExecuteTime": {
     "end_time": "2021-10-01T13:41:47.860079Z",
     "start_time": "2021-10-01T13:41:47.721041Z"
    }
   },
   "outputs": [],
   "source": [
    "X4_train, X4_test, y2_train, y2_test = train_test_split(X4, y2, test_size=0.2)  "
   ]
  },
  {
   "cell_type": "code",
   "execution_count": 75,
   "id": "835ce7d4",
   "metadata": {
    "ExecuteTime": {
     "end_time": "2021-10-01T13:41:47.999615Z",
     "start_time": "2021-10-01T13:41:47.862075Z"
    }
   },
   "outputs": [],
   "source": [
    "from lightgbm import LGBMClassifier"
   ]
  },
  {
   "cell_type": "code",
   "execution_count": 76,
   "id": "a69a0228",
   "metadata": {
    "ExecuteTime": {
     "end_time": "2021-10-01T13:41:48.217419Z",
     "start_time": "2021-10-01T13:41:48.001578Z"
    }
   },
   "outputs": [
    {
     "data": {
      "text/plain": [
       "LGBMClassifier(colsample_bytree=0.33, max_depth=3, n_estimators=50)"
      ]
     },
     "execution_count": 76,
     "metadata": {},
     "output_type": "execute_result"
    }
   ],
   "source": [
    "lgb = LGBMClassifier(max_depth=3, n_estimators=50, colsample_bytree=.33, n_jobs=-1)\n",
    "lgb.fit(X4_train,y2_train)"
   ]
  },
  {
   "cell_type": "code",
   "execution_count": 77,
   "id": "a5ad440c",
   "metadata": {
    "ExecuteTime": {
     "end_time": "2021-10-01T13:41:48.576975Z",
     "start_time": "2021-10-01T13:41:48.222406Z"
    }
   },
   "outputs": [
    {
     "data": {
      "text/plain": [
       "<sklearn.metrics._plot.confusion_matrix.ConfusionMatrixDisplay at 0x28496fcf8b0>"
      ]
     },
     "execution_count": 77,
     "metadata": {},
     "output_type": "execute_result"
    },
    {
     "data": {
      "image/png": "[encoded data removed]",
      "text/plain": [
       "<Figure size 432x288 with 2 Axes>"
      ]
     },
     "metadata": {
      "needs_background": "light"
     },
     "output_type": "display_data"
    }
   ],
   "source": [
    "plot_confusion_matrix(lgb, X4_test, y2_test, values_format='.0f')"
   ]
  },
  {
   "cell_type": "code",
   "execution_count": 78,
   "id": "b93bad4c",
   "metadata": {
    "ExecuteTime": {
     "end_time": "2021-10-01T13:41:48.592937Z",
     "start_time": "2021-10-01T13:41:48.579005Z"
    }
   },
   "outputs": [],
   "source": [
    "# Tentativa - Modelo com 1 coluna apenas, a primeira do data set (mintemp) dado que este foi o resultado proposto pelo metodo de redução do número de colunas (Backward Stepwise Selection) com Arvore de decisao"
   ]
  },
  {
   "cell_type": "code",
   "execution_count": 79,
   "id": "5fe5d4ee",
   "metadata": {
    "ExecuteTime": {
     "end_time": "2021-10-01T13:41:48.729837Z",
     "start_time": "2021-10-01T13:41:48.594928Z"
    }
   },
   "outputs": [],
   "source": [
    "X5=rain[[ 'mintemp']]\n",
    "y2=rain['raintomorrow']"
   ]
  },
  {
   "cell_type": "code",
   "execution_count": 80,
   "id": "2e78d03a",
   "metadata": {
    "ExecuteTime": {
     "end_time": "2021-10-01T13:41:48.838131Z",
     "start_time": "2021-10-01T13:41:48.733826Z"
    }
   },
   "outputs": [],
   "source": [
    "X5_train, X5_test, y2_train, y2_test = train_test_split(X5, y2, test_size=0.2)   "
   ]
  },
  {
   "cell_type": "code",
   "execution_count": 81,
   "id": "b22d5522",
   "metadata": {
    "ExecuteTime": {
     "end_time": "2021-10-01T13:41:49.038467Z",
     "start_time": "2021-10-01T13:41:48.839165Z"
    }
   },
   "outputs": [
    {
     "data": {
      "text/plain": [
       "DecisionTreeClassifier()"
      ]
     },
     "execution_count": 81,
     "metadata": {},
     "output_type": "execute_result"
    }
   ],
   "source": [
    "tree5 = DecisionTreeClassifier()\n",
    "tree5"
   ]
  },
  {
   "cell_type": "code",
   "execution_count": 82,
   "id": "b8bb49e0",
   "metadata": {
    "ExecuteTime": {
     "end_time": "2021-10-01T13:41:49.194417Z",
     "start_time": "2021-10-01T13:41:49.040429Z"
    }
   },
   "outputs": [
    {
     "data": {
      "text/plain": [
       "DecisionTreeClassifier()"
      ]
     },
     "execution_count": 82,
     "metadata": {},
     "output_type": "execute_result"
    }
   ],
   "source": [
    "tree5.fit(X5_train, y2_train)\n",
    "\n",
    "#Aprende os padroes do dado"
   ]
  },
  {
   "cell_type": "code",
   "execution_count": 83,
   "id": "3b52b6e8",
   "metadata": {
    "ExecuteTime": {
     "end_time": "2021-10-01T13:41:49.304125Z",
     "start_time": "2021-10-01T13:41:49.196419Z"
    }
   },
   "outputs": [
    {
     "data": {
      "text/plain": [
       "0.7800387596899225"
      ]
     },
     "execution_count": 83,
     "metadata": {},
     "output_type": "execute_result"
    }
   ],
   "source": [
    "tree5.score(X5_test, y2_test)\n",
    "\n",
    "# Retorna a acuracia. Queremos saber quao bom a variavel esta no teste."
   ]
  },
  {
   "cell_type": "code",
   "execution_count": 84,
   "id": "d73d635e",
   "metadata": {
    "ExecuteTime": {
     "end_time": "2021-10-01T13:41:49.473861Z",
     "start_time": "2021-10-01T13:41:49.306119Z"
    }
   },
   "outputs": [
    {
     "data": {
      "text/plain": [
       "0.7761537529777527"
      ]
     },
     "execution_count": 84,
     "metadata": {},
     "output_type": "execute_result"
    }
   ],
   "source": [
    "tree5.score(X5_train, y2_train)"
   ]
  },
  {
   "cell_type": "code",
   "execution_count": 85,
   "id": "35366f9a",
   "metadata": {
    "ExecuteTime": {
     "end_time": "2021-10-01T13:41:49.752219Z",
     "start_time": "2021-10-01T13:41:49.475858Z"
    }
   },
   "outputs": [
    {
     "data": {
      "text/plain": [
       "<sklearn.metrics._plot.confusion_matrix.ConfusionMatrixDisplay at 0x2849db637f0>"
      ]
     },
     "execution_count": 85,
     "metadata": {},
     "output_type": "execute_result"
    },
    {
     "data": {
      "image/png": "[encoded data removed]",
      "text/plain": [
       "<Figure size 432x288 with 2 Axes>"
      ]
     },
     "metadata": {
      "needs_background": "light"
     },
     "output_type": "display_data"
    }
   ],
   "source": [
    "tree5 = DecisionTreeClassifier(max_depth=8)\n",
    "\n",
    "tree5.fit(X5_train, y2_train)\n",
    "\n",
    "plot_confusion_matrix(tree5, X5_test, y2_test, values_format='.0f')"
   ]
  },
  {
   "cell_type": "code",
   "execution_count": 86,
   "id": "90c831d7",
   "metadata": {
    "ExecuteTime": {
     "end_time": "2021-10-01T13:41:49.768179Z",
     "start_time": "2021-10-01T13:41:49.753209Z"
    }
   },
   "outputs": [],
   "source": [
    "# # Tentativa - Modelo com 1 coluna apenas, a primeira do data set (mintemp) dado que este foi o resultado proposto pelo metodo de redução do número de colunas (Backward Stepwise Selection) mas com LGBM"
   ]
  },
  {
   "cell_type": "code",
   "execution_count": 87,
   "id": "0b57ef72",
   "metadata": {
    "ExecuteTime": {
     "end_time": "2021-10-01T13:41:49.896063Z",
     "start_time": "2021-10-01T13:41:49.770164Z"
    }
   },
   "outputs": [],
   "source": [
    "from lightgbm import LGBMClassifier"
   ]
  },
  {
   "cell_type": "code",
   "execution_count": 88,
   "id": "8c506a0e",
   "metadata": {
    "ExecuteTime": {
     "end_time": "2021-10-01T13:41:50.098758Z",
     "start_time": "2021-10-01T13:41:49.900057Z"
    }
   },
   "outputs": [
    {
     "data": {
      "text/plain": [
       "LGBMClassifier(colsample_bytree=0.33, max_depth=3, n_estimators=50)"
      ]
     },
     "execution_count": 88,
     "metadata": {},
     "output_type": "execute_result"
    }
   ],
   "source": [
    "lgb = LGBMClassifier(max_depth=3, n_estimators=50, colsample_bytree=.33, n_jobs=-1)\n",
    "lgb.fit(X5_train,y2_train)"
   ]
  },
  {
   "cell_type": "code",
   "execution_count": 89,
   "id": "ee2fea10",
   "metadata": {
    "ExecuteTime": {
     "end_time": "2021-10-01T13:41:50.192507Z",
     "start_time": "2021-10-01T13:41:50.103736Z"
    }
   },
   "outputs": [
    {
     "name": "stdout",
     "output_type": "stream",
     "text": [
      "0.5775975130857629\n",
      "0.5787358667530091\n"
     ]
    }
   ],
   "source": [
    "print(roc_auc_score(y2_train, lgb.predict_proba(X5_train)[:, 1]))\n",
    "print(roc_auc_score(y2_test, lgb.predict_proba(X5_test)[:, 1]))"
   ]
  },
  {
   "cell_type": "code",
   "execution_count": null,
   "id": "d051cfc1",
   "metadata": {},
   "outputs": [],
   "source": []
  },
  {
   "cell_type": "markdown",
   "id": "b99e9e2d",
   "metadata": {},
   "source": [
    "# Redução do número de colunas por outro método - Backward Stepwise Selection"
   ]
  },
  {
   "cell_type": "code",
   "execution_count": 90,
   "id": "d97bdcb4",
   "metadata": {
    "ExecuteTime": {
     "end_time": "2021-10-01T13:41:51.029824Z",
     "start_time": "2021-10-01T13:41:50.195491Z"
    }
   },
   "outputs": [],
   "source": [
    "from mlxtend.feature_selection import SequentialFeatureSelector as SFS\n",
    "from mlxtend.plotting import plot_sequential_feature_selection as plot_sfs"
   ]
  },
  {
   "cell_type": "code",
   "execution_count": 91,
   "id": "3d2d518c",
   "metadata": {
    "ExecuteTime": {
     "end_time": "2021-10-01T13:41:51.045767Z",
     "start_time": "2021-10-01T13:41:51.031806Z"
    }
   },
   "outputs": [],
   "source": [
    "X3=rain[[ 'mintemp', 'maxtemp', 'rainfall', 'evaporation', 'sunshine', 'humidity9am', 'humidity3pm', 'pressure9am', 'pressure3pm',\n",
    "'cloud9am', 'cloud3pm', 'temp9am', 'temp3pm', 'raintoday', 'temp', 'humidity', 'precipitation3pm','precipitation9am']]\n",
    "y2=rain['raintomorrow']"
   ]
  },
  {
   "cell_type": "code",
   "execution_count": 92,
   "id": "0d363003",
   "metadata": {
    "ExecuteTime": {
     "end_time": "2021-10-01T13:41:51.171206Z",
     "start_time": "2021-10-01T13:41:51.048759Z"
    }
   },
   "outputs": [
    {
     "data": {
      "text/plain": [
       "18"
      ]
     },
     "execution_count": 92,
     "metadata": {},
     "output_type": "execute_result"
    }
   ],
   "source": [
    "len(X3_train.columns)"
   ]
  },
  {
   "cell_type": "code",
   "execution_count": 93,
   "id": "5605a344",
   "metadata": {
    "ExecuteTime": {
     "end_time": "2021-10-01T13:44:06.404825Z",
     "start_time": "2021-10-01T13:41:51.173209Z"
    }
   },
   "outputs": [
    {
     "data": {
      "image/png": "[encoded data removed]",
      "text/plain": [
       "<Figure size 432x288 with 1 Axes>"
      ]
     },
     "metadata": {
      "needs_background": "light"
     },
     "output_type": "display_data"
    }
   ],
   "source": [
    "selector = SFS(lgb, forward=False, scoring='roc_auc')\n",
    "selector.fit(X3_train, y2_train)\n",
    "\n",
    "fig = plot_sfs(selector.get_metric_dict(), kind='std_err')\n",
    "plt.title('Backward Stepwise Selection')\n",
    "plt.grid()\n",
    "plt.show()"
   ]
  },
  {
   "cell_type": "code",
   "execution_count": 94,
   "id": "73de9b60",
   "metadata": {
    "ExecuteTime": {
     "end_time": "2021-10-01T13:44:06.419785Z",
     "start_time": "2021-10-01T13:44:06.406820Z"
    }
   },
   "outputs": [],
   "source": [
    "# a melhor preformance deve ser encontrada com 1 coluna (ponto mais alto da linha no grafico)"
   ]
  },
  {
   "cell_type": "code",
   "execution_count": 95,
   "id": "bb36029a",
   "metadata": {
    "ExecuteTime": {
     "end_time": "2021-10-01T13:44:06.497769Z",
     "start_time": "2021-10-01T13:44:06.421781Z"
    }
   },
   "outputs": [
    {
     "data": {
      "text/plain": [
       "{'feature_idx': (1,),\n",
       " 'cv_scores': array([0.50699323, 0.50355273, 0.51455377, 0.50755833, 0.5102557 ]),\n",
       " 'avg_score': 0.5085827553270088,\n",
       " 'feature_names': ('maxtemp',)}"
      ]
     },
     "execution_count": 95,
     "metadata": {},
     "output_type": "execute_result"
    }
   ],
   "source": [
    "selector.subsets_[1]"
   ]
  },
  {
   "cell_type": "code",
   "execution_count": 96,
   "id": "89f2e5f7",
   "metadata": {
    "ExecuteTime": {
     "end_time": "2021-10-01T13:44:06.605482Z",
     "start_time": "2021-10-01T13:44:06.499535Z"
    }
   },
   "outputs": [],
   "source": [
    "# O resultado do selector .subset me diz que a primeira coluna do meu X3 é qujem vai me dar o melhor resultado. (feature_names': ('0',))"
   ]
  },
  {
   "cell_type": "raw",
   "id": "caeaec27",
   "metadata": {},
   "source": [
    "# Nova Tentativa - Rodando Modelo LGBM com a nova tabela rain wind"
   ]
  },
  {
   "cell_type": "code",
   "execution_count": 132,
   "id": "c6ed3553",
   "metadata": {
    "ExecuteTime": {
     "end_time": "2021-10-01T14:44:43.650698Z",
     "start_time": "2021-10-01T14:44:43.558941Z"
    }
   },
   "outputs": [
    {
     "data": {
      "text/html": [
       "<div>\n",
       "<style scoped>\n",
       "    .dataframe tbody tr th:only-of-type {\n",
       "        vertical-align: middle;\n",
       "    }\n",
       "\n",
       "    .dataframe tbody tr th {\n",
       "        vertical-align: top;\n",
       "    }\n",
       "\n",
       "    .dataframe thead th {\n",
       "        text-align: right;\n",
       "    }\n",
       "</style>\n",
       "<table border=\"1\" class=\"dataframe\">\n",
       "  <thead>\n",
       "    <tr style=\"text-align: right;\">\n",
       "      <th></th>\n",
       "      <th>mintemp</th>\n",
       "      <th>maxtemp</th>\n",
       "      <th>rainfall</th>\n",
       "      <th>evaporation</th>\n",
       "      <th>sunshine</th>\n",
       "      <th>humidity9am</th>\n",
       "      <th>humidity3pm</th>\n",
       "      <th>pressure9am</th>\n",
       "      <th>pressure3pm</th>\n",
       "      <th>cloud9am</th>\n",
       "      <th>...</th>\n",
       "      <th>wind_speed3pm_7</th>\n",
       "      <th>wind_speed3pm_72</th>\n",
       "      <th>wind_speed3pm_74</th>\n",
       "      <th>wind_speed3pm_76</th>\n",
       "      <th>wind_speed3pm_78</th>\n",
       "      <th>wind_speed3pm_83</th>\n",
       "      <th>wind_speed3pm_87</th>\n",
       "      <th>wind_speed3pm_9</th>\n",
       "      <th>wind_speed3pm_wind_speed3pm</th>\n",
       "      <th>wind_speed3pm_windspeed3pm</th>\n",
       "    </tr>\n",
       "  </thead>\n",
       "  <tbody>\n",
       "    <tr>\n",
       "      <th>0</th>\n",
       "      <td>17.9</td>\n",
       "      <td>35.2</td>\n",
       "      <td>0.0</td>\n",
       "      <td>12.0</td>\n",
       "      <td>12.3</td>\n",
       "      <td>20.0</td>\n",
       "      <td>13.0</td>\n",
       "      <td>1006.3</td>\n",
       "      <td>1004.4</td>\n",
       "      <td>2.0</td>\n",
       "      <td>...</td>\n",
       "      <td>0</td>\n",
       "      <td>0</td>\n",
       "      <td>0</td>\n",
       "      <td>0</td>\n",
       "      <td>0</td>\n",
       "      <td>0</td>\n",
       "      <td>0</td>\n",
       "      <td>0</td>\n",
       "      <td>0</td>\n",
       "      <td>0</td>\n",
       "    </tr>\n",
       "    <tr>\n",
       "      <th>1</th>\n",
       "      <td>18.4</td>\n",
       "      <td>28.9</td>\n",
       "      <td>0.0</td>\n",
       "      <td>14.8</td>\n",
       "      <td>13.0</td>\n",
       "      <td>30.0</td>\n",
       "      <td>8.0</td>\n",
       "      <td>1012.9</td>\n",
       "      <td>1012.1</td>\n",
       "      <td>1.0</td>\n",
       "      <td>...</td>\n",
       "      <td>0</td>\n",
       "      <td>0</td>\n",
       "      <td>0</td>\n",
       "      <td>0</td>\n",
       "      <td>0</td>\n",
       "      <td>0</td>\n",
       "      <td>0</td>\n",
       "      <td>0</td>\n",
       "      <td>0</td>\n",
       "      <td>0</td>\n",
       "    </tr>\n",
       "    <tr>\n",
       "      <th>2</th>\n",
       "      <td>19.4</td>\n",
       "      <td>37.6</td>\n",
       "      <td>0.0</td>\n",
       "      <td>10.8</td>\n",
       "      <td>10.6</td>\n",
       "      <td>42.0</td>\n",
       "      <td>22.0</td>\n",
       "      <td>1012.3</td>\n",
       "      <td>1009.2</td>\n",
       "      <td>1.0</td>\n",
       "      <td>...</td>\n",
       "      <td>0</td>\n",
       "      <td>0</td>\n",
       "      <td>0</td>\n",
       "      <td>0</td>\n",
       "      <td>0</td>\n",
       "      <td>0</td>\n",
       "      <td>0</td>\n",
       "      <td>0</td>\n",
       "      <td>0</td>\n",
       "      <td>0</td>\n",
       "    </tr>\n",
       "    <tr>\n",
       "      <th>3</th>\n",
       "      <td>21.9</td>\n",
       "      <td>38.4</td>\n",
       "      <td>0.0</td>\n",
       "      <td>11.4</td>\n",
       "      <td>12.2</td>\n",
       "      <td>37.0</td>\n",
       "      <td>22.0</td>\n",
       "      <td>1012.7</td>\n",
       "      <td>1009.1</td>\n",
       "      <td>1.0</td>\n",
       "      <td>...</td>\n",
       "      <td>0</td>\n",
       "      <td>0</td>\n",
       "      <td>0</td>\n",
       "      <td>0</td>\n",
       "      <td>0</td>\n",
       "      <td>0</td>\n",
       "      <td>0</td>\n",
       "      <td>0</td>\n",
       "      <td>0</td>\n",
       "      <td>0</td>\n",
       "    </tr>\n",
       "    <tr>\n",
       "      <th>4</th>\n",
       "      <td>24.2</td>\n",
       "      <td>41.0</td>\n",
       "      <td>0.0</td>\n",
       "      <td>11.2</td>\n",
       "      <td>8.4</td>\n",
       "      <td>19.0</td>\n",
       "      <td>15.0</td>\n",
       "      <td>1010.7</td>\n",
       "      <td>1007.4</td>\n",
       "      <td>1.0</td>\n",
       "      <td>...</td>\n",
       "      <td>0</td>\n",
       "      <td>0</td>\n",
       "      <td>0</td>\n",
       "      <td>0</td>\n",
       "      <td>0</td>\n",
       "      <td>0</td>\n",
       "      <td>0</td>\n",
       "      <td>0</td>\n",
       "      <td>0</td>\n",
       "      <td>0</td>\n",
       "    </tr>\n",
       "    <tr>\n",
       "      <th>...</th>\n",
       "      <td>...</td>\n",
       "      <td>...</td>\n",
       "      <td>...</td>\n",
       "      <td>...</td>\n",
       "      <td>...</td>\n",
       "      <td>...</td>\n",
       "      <td>...</td>\n",
       "      <td>...</td>\n",
       "      <td>...</td>\n",
       "      <td>...</td>\n",
       "      <td>...</td>\n",
       "      <td>...</td>\n",
       "      <td>...</td>\n",
       "      <td>...</td>\n",
       "      <td>...</td>\n",
       "      <td>...</td>\n",
       "      <td>...</td>\n",
       "      <td>...</td>\n",
       "      <td>...</td>\n",
       "      <td>...</td>\n",
       "      <td>...</td>\n",
       "    </tr>\n",
       "    <tr>\n",
       "      <th>61913</th>\n",
       "      <td>19.3</td>\n",
       "      <td>33.4</td>\n",
       "      <td>0.0</td>\n",
       "      <td>6.0</td>\n",
       "      <td>11.0</td>\n",
       "      <td>63.0</td>\n",
       "      <td>32.0</td>\n",
       "      <td>1013.9</td>\n",
       "      <td>1010.5</td>\n",
       "      <td>0.0</td>\n",
       "      <td>...</td>\n",
       "      <td>0</td>\n",
       "      <td>0</td>\n",
       "      <td>0</td>\n",
       "      <td>0</td>\n",
       "      <td>0</td>\n",
       "      <td>0</td>\n",
       "      <td>0</td>\n",
       "      <td>0</td>\n",
       "      <td>0</td>\n",
       "      <td>0</td>\n",
       "    </tr>\n",
       "    <tr>\n",
       "      <th>61914</th>\n",
       "      <td>21.2</td>\n",
       "      <td>32.6</td>\n",
       "      <td>0.0</td>\n",
       "      <td>7.6</td>\n",
       "      <td>8.6</td>\n",
       "      <td>56.0</td>\n",
       "      <td>28.0</td>\n",
       "      <td>1014.6</td>\n",
       "      <td>1011.2</td>\n",
       "      <td>7.0</td>\n",
       "      <td>...</td>\n",
       "      <td>0</td>\n",
       "      <td>0</td>\n",
       "      <td>0</td>\n",
       "      <td>0</td>\n",
       "      <td>0</td>\n",
       "      <td>0</td>\n",
       "      <td>0</td>\n",
       "      <td>0</td>\n",
       "      <td>0</td>\n",
       "      <td>0</td>\n",
       "    </tr>\n",
       "    <tr>\n",
       "      <th>61915</th>\n",
       "      <td>20.7</td>\n",
       "      <td>32.8</td>\n",
       "      <td>0.0</td>\n",
       "      <td>5.6</td>\n",
       "      <td>11.0</td>\n",
       "      <td>46.0</td>\n",
       "      <td>23.0</td>\n",
       "      <td>1015.3</td>\n",
       "      <td>1011.8</td>\n",
       "      <td>0.0</td>\n",
       "      <td>...</td>\n",
       "      <td>0</td>\n",
       "      <td>0</td>\n",
       "      <td>0</td>\n",
       "      <td>0</td>\n",
       "      <td>0</td>\n",
       "      <td>0</td>\n",
       "      <td>0</td>\n",
       "      <td>0</td>\n",
       "      <td>0</td>\n",
       "      <td>0</td>\n",
       "    </tr>\n",
       "    <tr>\n",
       "      <th>61916</th>\n",
       "      <td>19.5</td>\n",
       "      <td>31.8</td>\n",
       "      <td>0.0</td>\n",
       "      <td>6.2</td>\n",
       "      <td>10.6</td>\n",
       "      <td>62.0</td>\n",
       "      <td>58.0</td>\n",
       "      <td>1014.9</td>\n",
       "      <td>1010.7</td>\n",
       "      <td>1.0</td>\n",
       "      <td>...</td>\n",
       "      <td>0</td>\n",
       "      <td>0</td>\n",
       "      <td>0</td>\n",
       "      <td>0</td>\n",
       "      <td>0</td>\n",
       "      <td>0</td>\n",
       "      <td>0</td>\n",
       "      <td>0</td>\n",
       "      <td>0</td>\n",
       "      <td>0</td>\n",
       "    </tr>\n",
       "    <tr>\n",
       "      <th>61917</th>\n",
       "      <td>20.2</td>\n",
       "      <td>31.7</td>\n",
       "      <td>0.0</td>\n",
       "      <td>5.6</td>\n",
       "      <td>10.7</td>\n",
       "      <td>73.0</td>\n",
       "      <td>32.0</td>\n",
       "      <td>1013.9</td>\n",
       "      <td>1009.7</td>\n",
       "      <td>6.0</td>\n",
       "      <td>...</td>\n",
       "      <td>1</td>\n",
       "      <td>0</td>\n",
       "      <td>0</td>\n",
       "      <td>0</td>\n",
       "      <td>0</td>\n",
       "      <td>0</td>\n",
       "      <td>0</td>\n",
       "      <td>0</td>\n",
       "      <td>0</td>\n",
       "      <td>0</td>\n",
       "    </tr>\n",
       "  </tbody>\n",
       "</table>\n",
       "<p>61918 rows × 233 columns</p>\n",
       "</div>"
      ],
      "text/plain": [
       "       mintemp  maxtemp  rainfall  evaporation  sunshine  humidity9am  \\\n",
       "0         17.9     35.2       0.0         12.0      12.3         20.0   \n",
       "1         18.4     28.9       0.0         14.8      13.0         30.0   \n",
       "2         19.4     37.6       0.0         10.8      10.6         42.0   \n",
       "3         21.9     38.4       0.0         11.4      12.2         37.0   \n",
       "4         24.2     41.0       0.0         11.2       8.4         19.0   \n",
       "...        ...      ...       ...          ...       ...          ...   \n",
       "61913     19.3     33.4       0.0          6.0      11.0         63.0   \n",
       "61914     21.2     32.6       0.0          7.6       8.6         56.0   \n",
       "61915     20.7     32.8       0.0          5.6      11.0         46.0   \n",
       "61916     19.5     31.8       0.0          6.2      10.6         62.0   \n",
       "61917     20.2     31.7       0.0          5.6      10.7         73.0   \n",
       "\n",
       "       humidity3pm  pressure9am  pressure3pm  cloud9am  ...  wind_speed3pm_7  \\\n",
       "0             13.0       1006.3       1004.4       2.0  ...                0   \n",
       "1              8.0       1012.9       1012.1       1.0  ...                0   \n",
       "2             22.0       1012.3       1009.2       1.0  ...                0   \n",
       "3             22.0       1012.7       1009.1       1.0  ...                0   \n",
       "4             15.0       1010.7       1007.4       1.0  ...                0   \n",
       "...            ...          ...          ...       ...  ...              ...   \n",
       "61913         32.0       1013.9       1010.5       0.0  ...                0   \n",
       "61914         28.0       1014.6       1011.2       7.0  ...                0   \n",
       "61915         23.0       1015.3       1011.8       0.0  ...                0   \n",
       "61916         58.0       1014.9       1010.7       1.0  ...                0   \n",
       "61917         32.0       1013.9       1009.7       6.0  ...                1   \n",
       "\n",
       "       wind_speed3pm_72  wind_speed3pm_74  wind_speed3pm_76  wind_speed3pm_78  \\\n",
       "0                     0                 0                 0                 0   \n",
       "1                     0                 0                 0                 0   \n",
       "2                     0                 0                 0                 0   \n",
       "3                     0                 0                 0                 0   \n",
       "4                     0                 0                 0                 0   \n",
       "...                 ...               ...               ...               ...   \n",
       "61913                 0                 0                 0                 0   \n",
       "61914                 0                 0                 0                 0   \n",
       "61915                 0                 0                 0                 0   \n",
       "61916                 0                 0                 0                 0   \n",
       "61917                 0                 0                 0                 0   \n",
       "\n",
       "       wind_speed3pm_83  wind_speed3pm_87  wind_speed3pm_9  \\\n",
       "0                     0                 0                0   \n",
       "1                     0                 0                0   \n",
       "2                     0                 0                0   \n",
       "3                     0                 0                0   \n",
       "4                     0                 0                0   \n",
       "...                 ...               ...              ...   \n",
       "61913                 0                 0                0   \n",
       "61914                 0                 0                0   \n",
       "61915                 0                 0                0   \n",
       "61916                 0                 0                0   \n",
       "61917                 0                 0                0   \n",
       "\n",
       "       wind_speed3pm_wind_speed3pm  wind_speed3pm_windspeed3pm  \n",
       "0                                0                           0  \n",
       "1                                0                           0  \n",
       "2                                0                           0  \n",
       "3                                0                           0  \n",
       "4                                0                           0  \n",
       "...                            ...                         ...  \n",
       "61913                            0                           0  \n",
       "61914                            0                           0  \n",
       "61915                            0                           0  \n",
       "61916                            0                           0  \n",
       "61917                            0                           0  \n",
       "\n",
       "[61918 rows x 233 columns]"
      ]
     },
     "execution_count": 132,
     "metadata": {},
     "output_type": "execute_result"
    }
   ],
   "source": [
    "rain_wind.select_dtypes('number').drop(columns=['raintomorrow', 'amountOfRain'])"
   ]
  },
  {
   "cell_type": "code",
   "execution_count": 151,
   "id": "4f9948c6",
   "metadata": {
    "ExecuteTime": {
     "end_time": "2021-10-01T14:56:29.296059Z",
     "start_time": "2021-10-01T14:56:29.187350Z"
    }
   },
   "outputs": [],
   "source": [
    "X6=rain_wind.select_dtypes('number').drop(columns=['raintomorrow', 'amountOfRain', 'modelo_vigente'])\n",
    "y2=rain['raintomorrow']"
   ]
  },
  {
   "cell_type": "code",
   "execution_count": 152,
   "id": "40a72f06",
   "metadata": {
    "ExecuteTime": {
     "end_time": "2021-10-01T14:56:31.677091Z",
     "start_time": "2021-10-01T14:56:31.658143Z"
    }
   },
   "outputs": [
    {
     "name": "stdout",
     "output_type": "stream",
     "text": [
      "Index(['mintemp', 'maxtemp', 'rainfall', 'evaporation', 'sunshine',\n",
      "       'humidity9am', 'humidity3pm', 'pressure9am', 'pressure3pm', 'cloud9am',\n",
      "       ...\n",
      "       'wind_speed3pm_7', 'wind_speed3pm_72', 'wind_speed3pm_74',\n",
      "       'wind_speed3pm_76', 'wind_speed3pm_78', 'wind_speed3pm_83',\n",
      "       'wind_speed3pm_87', 'wind_speed3pm_9', 'wind_speed3pm_wind_speed3pm',\n",
      "       'wind_speed3pm_windspeed3pm'],\n",
      "      dtype='object', length=232)\n"
     ]
    }
   ],
   "source": [
    "print(X6.columns)"
   ]
  },
  {
   "cell_type": "code",
   "execution_count": 153,
   "id": "769988f5",
   "metadata": {
    "ExecuteTime": {
     "end_time": "2021-10-01T14:56:34.021282Z",
     "start_time": "2021-10-01T14:56:33.994362Z"
    }
   },
   "outputs": [
    {
     "name": "stdout",
     "output_type": "stream",
     "text": [
      "mintemp\n",
      "maxtemp\n",
      "rainfall\n",
      "evaporation\n",
      "sunshine\n",
      "humidity9am\n",
      "humidity3pm\n",
      "pressure9am\n",
      "pressure3pm\n",
      "cloud9am\n",
      "cloud3pm\n",
      "temp9am\n",
      "temp3pm\n",
      "raintoday\n",
      "temp\n",
      "humidity\n",
      "precipitation3pm\n",
      "precipitation9am\n",
      "wind_gustdir_E\n",
      "wind_gustdir_ENE\n",
      "wind_gustdir_ESE\n",
      "wind_gustdir_N\n",
      "wind_gustdir_NE\n",
      "wind_gustdir_NNE\n",
      "wind_gustdir_NNW\n",
      "wind_gustdir_NW\n",
      "wind_gustdir_S\n",
      "wind_gustdir_SE\n",
      "wind_gustdir_SSE\n",
      "wind_gustdir_SSW\n",
      "wind_gustdir_SW\n",
      "wind_gustdir_W\n",
      "wind_gustdir_WNW\n",
      "wind_gustdir_WSW\n",
      "wind_gustdir_wind_gustdir\n",
      "wind_gustdir_windgustdir\n",
      "wind_gustspeed_100\n",
      "wind_gustspeed_102\n",
      "wind_gustspeed_104\n",
      "wind_gustspeed_106\n",
      "wind_gustspeed_107\n",
      "wind_gustspeed_109\n",
      "wind_gustspeed_11\n",
      "wind_gustspeed_111\n",
      "wind_gustspeed_113\n",
      "wind_gustspeed_115\n",
      "wind_gustspeed_117\n",
      "wind_gustspeed_120\n",
      "wind_gustspeed_122\n",
      "wind_gustspeed_124\n",
      "wind_gustspeed_126\n",
      "wind_gustspeed_13\n",
      "wind_gustspeed_130\n",
      "wind_gustspeed_135\n",
      "wind_gustspeed_15\n",
      "wind_gustspeed_17\n",
      "wind_gustspeed_19\n",
      "wind_gustspeed_20\n",
      "wind_gustspeed_22\n",
      "wind_gustspeed_24\n",
      "wind_gustspeed_26\n",
      "wind_gustspeed_28\n",
      "wind_gustspeed_30\n",
      "wind_gustspeed_31\n",
      "wind_gustspeed_33\n",
      "wind_gustspeed_35\n",
      "wind_gustspeed_37\n",
      "wind_gustspeed_39\n",
      "wind_gustspeed_41\n",
      "wind_gustspeed_43\n",
      "wind_gustspeed_44\n",
      "wind_gustspeed_46\n",
      "wind_gustspeed_48\n",
      "wind_gustspeed_50\n",
      "wind_gustspeed_52\n",
      "wind_gustspeed_54\n",
      "wind_gustspeed_56\n",
      "wind_gustspeed_57\n",
      "wind_gustspeed_59\n",
      "wind_gustspeed_6\n",
      "wind_gustspeed_61\n",
      "wind_gustspeed_63\n",
      "wind_gustspeed_65\n",
      "wind_gustspeed_67\n",
      "wind_gustspeed_69\n",
      "wind_gustspeed_7\n",
      "wind_gustspeed_70\n",
      "wind_gustspeed_72\n",
      "wind_gustspeed_74\n",
      "wind_gustspeed_76\n",
      "wind_gustspeed_78\n",
      "wind_gustspeed_80\n",
      "wind_gustspeed_81\n",
      "wind_gustspeed_83\n",
      "wind_gustspeed_85\n",
      "wind_gustspeed_87\n",
      "wind_gustspeed_89\n",
      "wind_gustspeed_9\n",
      "wind_gustspeed_91\n",
      "wind_gustspeed_93\n",
      "wind_gustspeed_94\n",
      "wind_gustspeed_96\n",
      "wind_gustspeed_98\n",
      "wind_gustspeed_wind_gustspeed\n",
      "wind_gustspeed_windgustspeed\n",
      "wind_dir9am_E\n",
      "wind_dir9am_ENE\n",
      "wind_dir9am_ESE\n",
      "wind_dir9am_N\n",
      "wind_dir9am_NE\n",
      "wind_dir9am_NNE\n",
      "wind_dir9am_NNW\n",
      "wind_dir9am_NW\n",
      "wind_dir9am_S\n",
      "wind_dir9am_SE\n",
      "wind_dir9am_SSE\n",
      "wind_dir9am_SSW\n",
      "wind_dir9am_SW\n",
      "wind_dir9am_W\n",
      "wind_dir9am_WNW\n",
      "wind_dir9am_WSW\n",
      "wind_dir9am_wind_dir9am\n",
      "wind_dir9am_winddir9am\n",
      "wind_dir3pm_E\n",
      "wind_dir3pm_ENE\n",
      "wind_dir3pm_ESE\n",
      "wind_dir3pm_N\n",
      "wind_dir3pm_NE\n",
      "wind_dir3pm_NNE\n",
      "wind_dir3pm_NNW\n",
      "wind_dir3pm_NW\n",
      "wind_dir3pm_S\n",
      "wind_dir3pm_SE\n",
      "wind_dir3pm_SSE\n",
      "wind_dir3pm_SSW\n",
      "wind_dir3pm_SW\n",
      "wind_dir3pm_W\n",
      "wind_dir3pm_WNW\n",
      "wind_dir3pm_WSW\n",
      "wind_dir3pm_wind_dir3pm\n",
      "wind_dir3pm_winddir3pm\n",
      "wind_speed9am_0\n",
      "wind_speed9am_11\n",
      "wind_speed9am_13\n",
      "wind_speed9am_130\n",
      "wind_speed9am_15\n",
      "wind_speed9am_17\n",
      "wind_speed9am_19\n",
      "wind_speed9am_2\n",
      "wind_speed9am_20\n",
      "wind_speed9am_22\n",
      "wind_speed9am_24\n",
      "wind_speed9am_26\n",
      "wind_speed9am_28\n",
      "wind_speed9am_30\n",
      "wind_speed9am_31\n",
      "wind_speed9am_33\n",
      "wind_speed9am_35\n",
      "wind_speed9am_37\n",
      "wind_speed9am_39\n",
      "wind_speed9am_4\n",
      "wind_speed9am_41\n",
      "wind_speed9am_43\n",
      "wind_speed9am_44\n",
      "wind_speed9am_46\n",
      "wind_speed9am_48\n",
      "wind_speed9am_50\n",
      "wind_speed9am_52\n",
      "wind_speed9am_54\n",
      "wind_speed9am_56\n",
      "wind_speed9am_57\n",
      "wind_speed9am_59\n",
      "wind_speed9am_6\n",
      "wind_speed9am_61\n",
      "wind_speed9am_63\n",
      "wind_speed9am_65\n",
      "wind_speed9am_67\n",
      "wind_speed9am_69\n",
      "wind_speed9am_7\n",
      "wind_speed9am_72\n",
      "wind_speed9am_74\n",
      "wind_speed9am_83\n",
      "wind_speed9am_87\n",
      "wind_speed9am_9\n",
      "wind_speed9am_wind_speed9am\n",
      "wind_speed9am_windspeed9am\n",
      "wind_speed3pm_0\n",
      "wind_speed3pm_11\n",
      "wind_speed3pm_13\n",
      "wind_speed3pm_15\n",
      "wind_speed3pm_17\n",
      "wind_speed3pm_19\n",
      "wind_speed3pm_2\n",
      "wind_speed3pm_20\n",
      "wind_speed3pm_22\n",
      "wind_speed3pm_24\n",
      "wind_speed3pm_26\n",
      "wind_speed3pm_28\n",
      "wind_speed3pm_30\n",
      "wind_speed3pm_31\n",
      "wind_speed3pm_33\n",
      "wind_speed3pm_35\n",
      "wind_speed3pm_37\n",
      "wind_speed3pm_39\n",
      "wind_speed3pm_4\n",
      "wind_speed3pm_41\n",
      "wind_speed3pm_43\n",
      "wind_speed3pm_44\n",
      "wind_speed3pm_46\n",
      "wind_speed3pm_48\n",
      "wind_speed3pm_50\n",
      "wind_speed3pm_52\n",
      "wind_speed3pm_54\n",
      "wind_speed3pm_56\n",
      "wind_speed3pm_57\n",
      "wind_speed3pm_59\n",
      "wind_speed3pm_6\n",
      "wind_speed3pm_61\n",
      "wind_speed3pm_63\n",
      "wind_speed3pm_65\n",
      "wind_speed3pm_67\n",
      "wind_speed3pm_69\n",
      "wind_speed3pm_7\n",
      "wind_speed3pm_72\n",
      "wind_speed3pm_74\n",
      "wind_speed3pm_76\n",
      "wind_speed3pm_78\n",
      "wind_speed3pm_83\n",
      "wind_speed3pm_87\n",
      "wind_speed3pm_9\n",
      "wind_speed3pm_wind_speed3pm\n",
      "wind_speed3pm_windspeed3pm\n"
     ]
    },
    {
     "data": {
      "text/plain": [
       "[None,\n",
       " None,\n",
       " None,\n",
       " None,\n",
       " None,\n",
       " None,\n",
       " None,\n",
       " None,\n",
       " None,\n",
       " None,\n",
       " None,\n",
       " None,\n",
       " None,\n",
       " None,\n",
       " None,\n",
       " None,\n",
       " None,\n",
       " None,\n",
       " None,\n",
       " None,\n",
       " None,\n",
       " None,\n",
       " None,\n",
       " None,\n",
       " None,\n",
       " None,\n",
       " None,\n",
       " None,\n",
       " None,\n",
       " None,\n",
       " None,\n",
       " None,\n",
       " None,\n",
       " None,\n",
       " None,\n",
       " None,\n",
       " None,\n",
       " None,\n",
       " None,\n",
       " None,\n",
       " None,\n",
       " None,\n",
       " None,\n",
       " None,\n",
       " None,\n",
       " None,\n",
       " None,\n",
       " None,\n",
       " None,\n",
       " None,\n",
       " None,\n",
       " None,\n",
       " None,\n",
       " None,\n",
       " None,\n",
       " None,\n",
       " None,\n",
       " None,\n",
       " None,\n",
       " None,\n",
       " None,\n",
       " None,\n",
       " None,\n",
       " None,\n",
       " None,\n",
       " None,\n",
       " None,\n",
       " None,\n",
       " None,\n",
       " None,\n",
       " None,\n",
       " None,\n",
       " None,\n",
       " None,\n",
       " None,\n",
       " None,\n",
       " None,\n",
       " None,\n",
       " None,\n",
       " None,\n",
       " None,\n",
       " None,\n",
       " None,\n",
       " None,\n",
       " None,\n",
       " None,\n",
       " None,\n",
       " None,\n",
       " None,\n",
       " None,\n",
       " None,\n",
       " None,\n",
       " None,\n",
       " None,\n",
       " None,\n",
       " None,\n",
       " None,\n",
       " None,\n",
       " None,\n",
       " None,\n",
       " None,\n",
       " None,\n",
       " None,\n",
       " None,\n",
       " None,\n",
       " None,\n",
       " None,\n",
       " None,\n",
       " None,\n",
       " None,\n",
       " None,\n",
       " None,\n",
       " None,\n",
       " None,\n",
       " None,\n",
       " None,\n",
       " None,\n",
       " None,\n",
       " None,\n",
       " None,\n",
       " None,\n",
       " None,\n",
       " None,\n",
       " None,\n",
       " None,\n",
       " None,\n",
       " None,\n",
       " None,\n",
       " None,\n",
       " None,\n",
       " None,\n",
       " None,\n",
       " None,\n",
       " None,\n",
       " None,\n",
       " None,\n",
       " None,\n",
       " None,\n",
       " None,\n",
       " None,\n",
       " None,\n",
       " None,\n",
       " None,\n",
       " None,\n",
       " None,\n",
       " None,\n",
       " None,\n",
       " None,\n",
       " None,\n",
       " None,\n",
       " None,\n",
       " None,\n",
       " None,\n",
       " None,\n",
       " None,\n",
       " None,\n",
       " None,\n",
       " None,\n",
       " None,\n",
       " None,\n",
       " None,\n",
       " None,\n",
       " None,\n",
       " None,\n",
       " None,\n",
       " None,\n",
       " None,\n",
       " None,\n",
       " None,\n",
       " None,\n",
       " None,\n",
       " None,\n",
       " None,\n",
       " None,\n",
       " None,\n",
       " None,\n",
       " None,\n",
       " None,\n",
       " None,\n",
       " None,\n",
       " None,\n",
       " None,\n",
       " None,\n",
       " None,\n",
       " None,\n",
       " None,\n",
       " None,\n",
       " None,\n",
       " None,\n",
       " None,\n",
       " None,\n",
       " None,\n",
       " None,\n",
       " None,\n",
       " None,\n",
       " None,\n",
       " None,\n",
       " None,\n",
       " None,\n",
       " None,\n",
       " None,\n",
       " None,\n",
       " None,\n",
       " None,\n",
       " None,\n",
       " None,\n",
       " None,\n",
       " None,\n",
       " None,\n",
       " None,\n",
       " None,\n",
       " None,\n",
       " None,\n",
       " None,\n",
       " None,\n",
       " None,\n",
       " None,\n",
       " None,\n",
       " None,\n",
       " None,\n",
       " None,\n",
       " None,\n",
       " None,\n",
       " None,\n",
       " None,\n",
       " None,\n",
       " None,\n",
       " None,\n",
       " None,\n",
       " None,\n",
       " None,\n",
       " None]"
      ]
     },
     "execution_count": 153,
     "metadata": {},
     "output_type": "execute_result"
    }
   ],
   "source": [
    "[print(c) for c in X6.columns]"
   ]
  },
  {
   "cell_type": "code",
   "execution_count": 154,
   "id": "c2253408",
   "metadata": {
    "ExecuteTime": {
     "end_time": "2021-10-01T14:56:37.244802Z",
     "start_time": "2021-10-01T14:56:37.155048Z"
    }
   },
   "outputs": [],
   "source": [
    "X6_train, X6_test, y2_train, y2_test = train_test_split(X6, y2, test_size=0.2)"
   ]
  },
  {
   "cell_type": "code",
   "execution_count": 155,
   "id": "a5e51a43",
   "metadata": {
    "ExecuteTime": {
     "end_time": "2021-10-01T14:56:39.126475Z",
     "start_time": "2021-10-01T14:56:39.110551Z"
    }
   },
   "outputs": [],
   "source": [
    "from lightgbm import LGBMClassifier"
   ]
  },
  {
   "cell_type": "code",
   "execution_count": 156,
   "id": "c448c8e2",
   "metadata": {
    "ExecuteTime": {
     "end_time": "2021-10-01T14:56:42.023089Z",
     "start_time": "2021-10-01T14:56:41.377805Z"
    }
   },
   "outputs": [
    {
     "data": {
      "text/plain": [
       "LGBMClassifier(colsample_bytree=0.33, max_depth=3, n_estimators=50)"
      ]
     },
     "execution_count": 156,
     "metadata": {},
     "output_type": "execute_result"
    }
   ],
   "source": [
    "lgb = LGBMClassifier(max_depth=3, n_estimators=50, colsample_bytree=.33, n_jobs=-1)\n",
    "lgb.fit(X6_train,y2_train)"
   ]
  },
  {
   "cell_type": "code",
   "execution_count": 157,
   "id": "dd490dd7",
   "metadata": {
    "ExecuteTime": {
     "end_time": "2021-10-01T14:56:44.557844Z",
     "start_time": "2021-10-01T14:56:44.260169Z"
    }
   },
   "outputs": [
    {
     "name": "stdout",
     "output_type": "stream",
     "text": [
      "0.8788841629597726\n",
      "0.8737877096632832\n"
     ]
    }
   ],
   "source": [
    "print(roc_auc_score(y2_train, lgb.predict_proba(X6_train)[:, 1]))\n",
    "print(roc_auc_score(y2_test, lgb.predict_proba(X6_test)[:, 1]))"
   ]
  },
  {
   "cell_type": "code",
   "execution_count": 158,
   "id": "63e17530",
   "metadata": {
    "ExecuteTime": {
     "end_time": "2021-10-01T14:56:47.903951Z",
     "start_time": "2021-10-01T14:56:47.592636Z"
    }
   },
   "outputs": [
    {
     "data": {
      "text/plain": [
       "<sklearn.metrics._plot.confusion_matrix.ConfusionMatrixDisplay at 0x2849b253850>"
      ]
     },
     "execution_count": 158,
     "metadata": {},
     "output_type": "execute_result"
    },
    {
     "data": {
      "image/png": "[encoded data removed]",
      "text/plain": [
       "<Figure size 432x288 with 2 Axes>"
      ]
     },
     "metadata": {
      "needs_background": "light"
     },
     "output_type": "display_data"
    }
   ],
   "source": [
    "plot_confusion_matrix(lgb, X6_test, y2_test)"
   ]
  },
  {
   "cell_type": "code",
   "execution_count": null,
   "id": "a7232859",
   "metadata": {},
   "outputs": [],
   "source": []
  }
 ],
 "metadata": {
  "kernelspec": {
   "display_name": "Python 3",
   "language": "python",
   "name": "python3"
  },
  "language_info": {
   "codemirror_mode": {
    "name": "ipython",
    "version": 3
   },
   "file_extension": ".py",
   "mimetype": "text/x-python",
   "name": "python",
   "nbconvert_exporter": "python",
   "pygments_lexer": "ipython3",
   "version": "3.8.8"
  },
  "toc": {
   "base_numbering": 1,
   "nav_menu": {},
   "number_sections": true,
   "sideBar": true,
   "skip_h1_title": false,
   "title_cell": "Table of Contents",
   "title_sidebar": "Contents",
   "toc_cell": false,
   "toc_position": {},
   "toc_section_display": true,
   "toc_window_display": false
  },
  "varInspector": {
   "cols": {
    "lenName": 16,
    "lenType": 16,
    "lenVar": 40
   },
   "kernels_config": {
    "python": {
     "delete_cmd_postfix": "",
     "delete_cmd_prefix": "del ",
     "library": "var_list.py",
     "varRefreshCmd": "print(var_dic_list())"
    },
    "r": {
     "delete_cmd_postfix": ") ",
     "delete_cmd_prefix": "rm(",
     "library": "var_list.r",
     "varRefreshCmd": "cat(var_dic_list()) "
    }
   },
   "types_to_exclude": [
    "module",
    "function",
    "builtin_function_or_method",
    "instance",
    "_Feature"
   ],
   "window_display": false
  }
 },
 "nbformat": 4,
 "nbformat_minor": 5
}
